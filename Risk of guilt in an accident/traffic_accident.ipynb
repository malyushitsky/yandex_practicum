{
 "cells": [
  {
   "cell_type": "markdown",
   "id": "292998f9",
   "metadata": {},
   "source": [
    "# Система оценки риска виновности в ДТП"
   ]
  },
  {
   "cell_type": "markdown",
   "id": "88552180",
   "metadata": {},
   "source": [
    "Вы — специалист по Data Scienсe в каршеринговой компании. Вам поступил заказ: нужно создать систему, которая могла бы оценить риск виновности в ДТП по выбранному маршруту движения. Под риском понимается вероятность оказаться виновным в ДТП с любым повреждением транспортного средства. Как только водитель забронировал автомобиль, сел за руль и выбрал маршрут, система должна оценить уровень риска. Если уровень риска высок, водитель увидит предупреждение и рекомендации по маршруту."
   ]
  },
  {
   "cell_type": "markdown",
   "id": "c929f631",
   "metadata": {
    "ExecuteTime": {
     "end_time": "2022-05-05T04:58:05.692448Z",
     "start_time": "2022-05-05T04:58:05.688565Z"
    }
   },
   "source": [
    "## Подключитесь к базе. Загрузите таблицы sql"
   ]
  },
  {
   "cell_type": "code",
   "execution_count": 1,
   "id": "3ab267e7",
   "metadata": {},
   "outputs": [],
   "source": [
    "import pandas as pd\n",
    "import matplotlib.pyplot as plt\n",
    "import numpy as np\n",
    "import seaborn as sns\n",
    "from sqlalchemy import create_engine\n",
    "from sklearn.impute import SimpleImputer\n",
    "from sklearn.preprocessing import OrdinalEncoder, StandardScaler, OneHotEncoder\n",
    "from sklearn.model_selection import train_test_split, cross_val_score, cross_validate\n",
    "from sklearn.linear_model import LogisticRegression\n",
    "from sklearn.ensemble import RandomForestClassifier\n",
    "from catboost import CatBoostClassifier, cv, Pool\n",
    "from sklearn.model_selection import RepeatedStratifiedKFold, RandomizedSearchCV, GridSearchCV\n",
    "from sklearn.metrics import accuracy_score, f1_score, recall_score, precision_score, plot_confusion_matrix, roc_auc_score, roc_curve \n",
    "from scipy.stats import loguniform\n",
    "import copy\n",
    "import warnings\n",
    "\n",
    "\n",
    "warnings.filterwarnings(\"ignore\")\n",
    "pd.options.mode.chained_assignment = None\n",
    "plt.rcParams[\"figure.figsize\"] = (16,8)"
   ]
  },
  {
   "cell_type": "code",
   "execution_count": 2,
   "id": "c0de099e",
   "metadata": {},
   "outputs": [],
   "source": [
    "db_config = {\n",
    "'user': 'praktikum_student', # имя пользователя,\n",
    "'pwd': 'Sdf4$2;d-d30pp', # пароль,\n",
    "'host': 'rc1b-wcoijxj3yxfsf3fs.mdb.yandexcloud.net',\n",
    "'port': 6432, # порт подключения,\n",
    "'db': 'data-science-vehicle-db' # название базы данных, \n",
    "}  \n",
    "\n",
    "connection_string = 'postgresql://{}:{}@{}:{}/{}'.format(\n",
    "    db_config['user'],\n",
    "    db_config['pwd'],\n",
    "    db_config['host'],\n",
    "    db_config['port'],\n",
    "    db_config['db'],\n",
    ")\n",
    "\n",
    "engine = create_engine(connection_string) "
   ]
  },
  {
   "cell_type": "markdown",
   "id": "8c6a5e4a",
   "metadata": {},
   "source": [
    "## Проведите первичное исследование таблиц"
   ]
  },
  {
   "cell_type": "markdown",
   "id": "f4a87267",
   "metadata": {},
   "source": [
    "### Таблицы в базе данных"
   ]
  },
  {
   "cell_type": "code",
   "execution_count": 3,
   "id": "d8b00c77",
   "metadata": {},
   "outputs": [
    {
     "data": {
      "text/html": [
       "<div>\n",
       "<style scoped>\n",
       "    .dataframe tbody tr th:only-of-type {\n",
       "        vertical-align: middle;\n",
       "    }\n",
       "\n",
       "    .dataframe tbody tr th {\n",
       "        vertical-align: top;\n",
       "    }\n",
       "\n",
       "    .dataframe thead th {\n",
       "        text-align: right;\n",
       "    }\n",
       "</style>\n",
       "<table border=\"1\" class=\"dataframe\">\n",
       "  <thead>\n",
       "    <tr style=\"text-align: right;\">\n",
       "      <th></th>\n",
       "      <th>table_name</th>\n",
       "    </tr>\n",
       "  </thead>\n",
       "  <tbody>\n",
       "    <tr>\n",
       "      <td>0</td>\n",
       "      <td>case_ids</td>\n",
       "    </tr>\n",
       "    <tr>\n",
       "      <td>1</td>\n",
       "      <td>collisions</td>\n",
       "    </tr>\n",
       "    <tr>\n",
       "      <td>2</td>\n",
       "      <td>parties</td>\n",
       "    </tr>\n",
       "    <tr>\n",
       "      <td>3</td>\n",
       "      <td>vehicles</td>\n",
       "    </tr>\n",
       "  </tbody>\n",
       "</table>\n",
       "</div>"
      ],
      "text/plain": [
       "   table_name\n",
       "0    case_ids\n",
       "1  collisions\n",
       "2     parties\n",
       "3    vehicles"
      ]
     },
     "execution_count": 3,
     "metadata": {},
     "output_type": "execute_result"
    }
   ],
   "source": [
    "query = '''\n",
    "SELECT table_name FROM information_schema.tables\n",
    "WHERE table_schema NOT IN ('information_schema','pg_catalog');\n",
    "'''\n",
    "\n",
    "db_structure = pd.read_sql_query(query, con=engine) \n",
    "db_structure"
   ]
  },
  {
   "cell_type": "markdown",
   "id": "fc0d5e62",
   "metadata": {},
   "source": [
    "Таблицы соответствуют описанию проекта\n",
    "\n",
    "Теперь проверим наличие данных в каждой таблице по отдельности "
   ]
  },
  {
   "cell_type": "markdown",
   "id": "989bc86b",
   "metadata": {},
   "source": [
    "Количество записей каждой таблицы превышает 1млн, в связи с чем подгрузка всех данных происходит довольно медленно. Для ускорения загрузки ограничил количество получаемых записей значением 100 000"
   ]
  },
  {
   "cell_type": "markdown",
   "id": "2593b6ef",
   "metadata": {},
   "source": [
    "### Case_ids"
   ]
  },
  {
   "cell_type": "code",
   "execution_count": 4,
   "id": "d6c9ad53",
   "metadata": {},
   "outputs": [
    {
     "data": {
      "text/html": [
       "<div>\n",
       "<style scoped>\n",
       "    .dataframe tbody tr th:only-of-type {\n",
       "        vertical-align: middle;\n",
       "    }\n",
       "\n",
       "    .dataframe tbody tr th {\n",
       "        vertical-align: top;\n",
       "    }\n",
       "\n",
       "    .dataframe thead th {\n",
       "        text-align: right;\n",
       "    }\n",
       "</style>\n",
       "<table border=\"1\" class=\"dataframe\">\n",
       "  <thead>\n",
       "    <tr style=\"text-align: right;\">\n",
       "      <th></th>\n",
       "      <th>case_id</th>\n",
       "      <th>db_year</th>\n",
       "    </tr>\n",
       "  </thead>\n",
       "  <tbody>\n",
       "    <tr>\n",
       "      <td>0</td>\n",
       "      <td>0081715</td>\n",
       "      <td>2021</td>\n",
       "    </tr>\n",
       "    <tr>\n",
       "      <td>1</td>\n",
       "      <td>0726202</td>\n",
       "      <td>2021</td>\n",
       "    </tr>\n",
       "    <tr>\n",
       "      <td>2</td>\n",
       "      <td>3858022</td>\n",
       "      <td>2021</td>\n",
       "    </tr>\n",
       "    <tr>\n",
       "      <td>3</td>\n",
       "      <td>3899441</td>\n",
       "      <td>2021</td>\n",
       "    </tr>\n",
       "    <tr>\n",
       "      <td>4</td>\n",
       "      <td>3899442</td>\n",
       "      <td>2021</td>\n",
       "    </tr>\n",
       "    <tr>\n",
       "      <td>...</td>\n",
       "      <td>...</td>\n",
       "      <td>...</td>\n",
       "    </tr>\n",
       "    <tr>\n",
       "      <td>99995</td>\n",
       "      <td>4191845</td>\n",
       "      <td>2021</td>\n",
       "    </tr>\n",
       "    <tr>\n",
       "      <td>99996</td>\n",
       "      <td>4191846</td>\n",
       "      <td>2021</td>\n",
       "    </tr>\n",
       "    <tr>\n",
       "      <td>99997</td>\n",
       "      <td>4191847</td>\n",
       "      <td>2021</td>\n",
       "    </tr>\n",
       "    <tr>\n",
       "      <td>99998</td>\n",
       "      <td>4191848</td>\n",
       "      <td>2021</td>\n",
       "    </tr>\n",
       "    <tr>\n",
       "      <td>99999</td>\n",
       "      <td>4191850</td>\n",
       "      <td>2021</td>\n",
       "    </tr>\n",
       "  </tbody>\n",
       "</table>\n",
       "<p>100000 rows × 2 columns</p>\n",
       "</div>"
      ],
      "text/plain": [
       "       case_id db_year\n",
       "0      0081715    2021\n",
       "1      0726202    2021\n",
       "2      3858022    2021\n",
       "3      3899441    2021\n",
       "4      3899442    2021\n",
       "...        ...     ...\n",
       "99995  4191845    2021\n",
       "99996  4191846    2021\n",
       "99997  4191847    2021\n",
       "99998  4191848    2021\n",
       "99999  4191850    2021\n",
       "\n",
       "[100000 rows x 2 columns]"
      ]
     },
     "execution_count": 4,
     "metadata": {},
     "output_type": "execute_result"
    }
   ],
   "source": [
    "query = '''\n",
    "SELECT * FROM case_ids\n",
    "LiMIT 100000\n",
    "'''\n",
    "\n",
    "case_ids = pd.read_sql_query(query, con=engine) \n",
    "case_ids"
   ]
  },
  {
   "cell_type": "markdown",
   "id": "3a0d9d2f",
   "metadata": {},
   "source": [
    "### Vehicles"
   ]
  },
  {
   "cell_type": "code",
   "execution_count": 5,
   "id": "8c8e246d",
   "metadata": {
    "scrolled": false
   },
   "outputs": [
    {
     "data": {
      "text/html": [
       "<div>\n",
       "<style scoped>\n",
       "    .dataframe tbody tr th:only-of-type {\n",
       "        vertical-align: middle;\n",
       "    }\n",
       "\n",
       "    .dataframe tbody tr th {\n",
       "        vertical-align: top;\n",
       "    }\n",
       "\n",
       "    .dataframe thead th {\n",
       "        text-align: right;\n",
       "    }\n",
       "</style>\n",
       "<table border=\"1\" class=\"dataframe\">\n",
       "  <thead>\n",
       "    <tr style=\"text-align: right;\">\n",
       "      <th></th>\n",
       "      <th>id</th>\n",
       "      <th>case_id</th>\n",
       "      <th>party_number</th>\n",
       "      <th>vehicle_type</th>\n",
       "      <th>vehicle_transmission</th>\n",
       "      <th>vehicle_age</th>\n",
       "    </tr>\n",
       "  </thead>\n",
       "  <tbody>\n",
       "    <tr>\n",
       "      <td>0</td>\n",
       "      <td>1175713</td>\n",
       "      <td>5305032</td>\n",
       "      <td>2</td>\n",
       "      <td>sedan</td>\n",
       "      <td>manual</td>\n",
       "      <td>3.0</td>\n",
       "    </tr>\n",
       "    <tr>\n",
       "      <td>1</td>\n",
       "      <td>1</td>\n",
       "      <td>3858022</td>\n",
       "      <td>1</td>\n",
       "      <td>sedan</td>\n",
       "      <td>auto</td>\n",
       "      <td>3.0</td>\n",
       "    </tr>\n",
       "    <tr>\n",
       "      <td>2</td>\n",
       "      <td>1175712</td>\n",
       "      <td>5305030</td>\n",
       "      <td>1</td>\n",
       "      <td>sedan</td>\n",
       "      <td>auto</td>\n",
       "      <td>3.0</td>\n",
       "    </tr>\n",
       "    <tr>\n",
       "      <td>3</td>\n",
       "      <td>1175717</td>\n",
       "      <td>5305033</td>\n",
       "      <td>3</td>\n",
       "      <td>sedan</td>\n",
       "      <td>auto</td>\n",
       "      <td>5.0</td>\n",
       "    </tr>\n",
       "    <tr>\n",
       "      <td>4</td>\n",
       "      <td>1175722</td>\n",
       "      <td>5305034</td>\n",
       "      <td>2</td>\n",
       "      <td>sedan</td>\n",
       "      <td>auto</td>\n",
       "      <td>5.0</td>\n",
       "    </tr>\n",
       "    <tr>\n",
       "      <td>...</td>\n",
       "      <td>...</td>\n",
       "      <td>...</td>\n",
       "      <td>...</td>\n",
       "      <td>...</td>\n",
       "      <td>...</td>\n",
       "      <td>...</td>\n",
       "    </tr>\n",
       "    <tr>\n",
       "      <td>99995</td>\n",
       "      <td>1353590</td>\n",
       "      <td>5481590</td>\n",
       "      <td>2</td>\n",
       "      <td>sedan</td>\n",
       "      <td>auto</td>\n",
       "      <td>7.0</td>\n",
       "    </tr>\n",
       "    <tr>\n",
       "      <td>99996</td>\n",
       "      <td>1353596</td>\n",
       "      <td>5481593</td>\n",
       "      <td>2</td>\n",
       "      <td>sedan</td>\n",
       "      <td>auto</td>\n",
       "      <td>12.0</td>\n",
       "    </tr>\n",
       "    <tr>\n",
       "      <td>99997</td>\n",
       "      <td>1353608</td>\n",
       "      <td>5481601</td>\n",
       "      <td>1</td>\n",
       "      <td>sedan</td>\n",
       "      <td>auto</td>\n",
       "      <td>2.0</td>\n",
       "    </tr>\n",
       "    <tr>\n",
       "      <td>99998</td>\n",
       "      <td>1353606</td>\n",
       "      <td>5481598</td>\n",
       "      <td>1</td>\n",
       "      <td>sedan</td>\n",
       "      <td>None</td>\n",
       "      <td>3.0</td>\n",
       "    </tr>\n",
       "    <tr>\n",
       "      <td>99999</td>\n",
       "      <td>1353620</td>\n",
       "      <td>5481618</td>\n",
       "      <td>1</td>\n",
       "      <td>sedan</td>\n",
       "      <td>auto</td>\n",
       "      <td>3.0</td>\n",
       "    </tr>\n",
       "  </tbody>\n",
       "</table>\n",
       "<p>100000 rows × 6 columns</p>\n",
       "</div>"
      ],
      "text/plain": [
       "            id  case_id  party_number vehicle_type vehicle_transmission  \\\n",
       "0      1175713  5305032             2        sedan               manual   \n",
       "1            1  3858022             1        sedan                 auto   \n",
       "2      1175712  5305030             1        sedan                 auto   \n",
       "3      1175717  5305033             3        sedan                 auto   \n",
       "4      1175722  5305034             2        sedan                 auto   \n",
       "...        ...      ...           ...          ...                  ...   \n",
       "99995  1353590  5481590             2        sedan                 auto   \n",
       "99996  1353596  5481593             2        sedan                 auto   \n",
       "99997  1353608  5481601             1        sedan                 auto   \n",
       "99998  1353606  5481598             1        sedan                 None   \n",
       "99999  1353620  5481618             1        sedan                 auto   \n",
       "\n",
       "       vehicle_age  \n",
       "0              3.0  \n",
       "1              3.0  \n",
       "2              3.0  \n",
       "3              5.0  \n",
       "4              5.0  \n",
       "...            ...  \n",
       "99995          7.0  \n",
       "99996         12.0  \n",
       "99997          2.0  \n",
       "99998          3.0  \n",
       "99999          3.0  \n",
       "\n",
       "[100000 rows x 6 columns]"
      ]
     },
     "execution_count": 5,
     "metadata": {},
     "output_type": "execute_result"
    }
   ],
   "source": [
    "query = '''\n",
    "SELECT * FROM vehicles\n",
    "LiMIT 100000\n",
    "'''\n",
    "\n",
    "vehicles = pd.read_sql_query(query, con=engine) \n",
    "vehicles"
   ]
  },
  {
   "cell_type": "markdown",
   "id": "9478475d",
   "metadata": {},
   "source": [
    "### Collisions"
   ]
  },
  {
   "cell_type": "code",
   "execution_count": 6,
   "id": "245a32ab",
   "metadata": {},
   "outputs": [
    {
     "data": {
      "text/html": [
       "<div>\n",
       "<style scoped>\n",
       "    .dataframe tbody tr th:only-of-type {\n",
       "        vertical-align: middle;\n",
       "    }\n",
       "\n",
       "    .dataframe tbody tr th {\n",
       "        vertical-align: top;\n",
       "    }\n",
       "\n",
       "    .dataframe thead th {\n",
       "        text-align: right;\n",
       "    }\n",
       "</style>\n",
       "<table border=\"1\" class=\"dataframe\">\n",
       "  <thead>\n",
       "    <tr style=\"text-align: right;\">\n",
       "      <th></th>\n",
       "      <th>case_id</th>\n",
       "      <th>county_city_location</th>\n",
       "      <th>county_location</th>\n",
       "      <th>distance</th>\n",
       "      <th>direction</th>\n",
       "      <th>intersection</th>\n",
       "      <th>weather_1</th>\n",
       "      <th>location_type</th>\n",
       "      <th>collision_damage</th>\n",
       "      <th>party_count</th>\n",
       "      <th>primary_collision_factor</th>\n",
       "      <th>pcf_violation_category</th>\n",
       "      <th>type_of_collision</th>\n",
       "      <th>motor_vehicle_involved_with</th>\n",
       "      <th>road_surface</th>\n",
       "      <th>road_condition_1</th>\n",
       "      <th>lighting</th>\n",
       "      <th>control_device</th>\n",
       "      <th>collision_date</th>\n",
       "      <th>collision_time</th>\n",
       "    </tr>\n",
       "  </thead>\n",
       "  <tbody>\n",
       "    <tr>\n",
       "      <td>0</td>\n",
       "      <td>4083072</td>\n",
       "      <td>1942</td>\n",
       "      <td>los angeles</td>\n",
       "      <td>528.0</td>\n",
       "      <td>north</td>\n",
       "      <td>0.0</td>\n",
       "      <td>cloudy</td>\n",
       "      <td>highway</td>\n",
       "      <td>small damage</td>\n",
       "      <td>2</td>\n",
       "      <td>vehicle code violation</td>\n",
       "      <td>unsafe lane change</td>\n",
       "      <td>sideswipe</td>\n",
       "      <td>other motor vehicle</td>\n",
       "      <td>wet</td>\n",
       "      <td>normal</td>\n",
       "      <td>daylight</td>\n",
       "      <td>none</td>\n",
       "      <td>2009-01-22</td>\n",
       "      <td>07:25:00</td>\n",
       "    </tr>\n",
       "    <tr>\n",
       "      <td>1</td>\n",
       "      <td>4083075</td>\n",
       "      <td>4313</td>\n",
       "      <td>santa clara</td>\n",
       "      <td>0.0</td>\n",
       "      <td>None</td>\n",
       "      <td>1.0</td>\n",
       "      <td>clear</td>\n",
       "      <td>None</td>\n",
       "      <td>small damage</td>\n",
       "      <td>1</td>\n",
       "      <td>vehicle code violation</td>\n",
       "      <td>improper passing</td>\n",
       "      <td>hit object</td>\n",
       "      <td>fixed object</td>\n",
       "      <td>dry</td>\n",
       "      <td>normal</td>\n",
       "      <td>dark with street lights</td>\n",
       "      <td>functioning</td>\n",
       "      <td>2009-01-03</td>\n",
       "      <td>02:26:00</td>\n",
       "    </tr>\n",
       "    <tr>\n",
       "      <td>2</td>\n",
       "      <td>4083073</td>\n",
       "      <td>0109</td>\n",
       "      <td>alameda</td>\n",
       "      <td>0.0</td>\n",
       "      <td>None</td>\n",
       "      <td>1.0</td>\n",
       "      <td>clear</td>\n",
       "      <td>None</td>\n",
       "      <td>scratch</td>\n",
       "      <td>2</td>\n",
       "      <td>vehicle code violation</td>\n",
       "      <td>improper turning</td>\n",
       "      <td>broadside</td>\n",
       "      <td>other motor vehicle</td>\n",
       "      <td>dry</td>\n",
       "      <td>normal</td>\n",
       "      <td>dark with street lights</td>\n",
       "      <td>functioning</td>\n",
       "      <td>2009-01-11</td>\n",
       "      <td>03:32:00</td>\n",
       "    </tr>\n",
       "    <tr>\n",
       "      <td>3</td>\n",
       "      <td>4083077</td>\n",
       "      <td>0109</td>\n",
       "      <td>alameda</td>\n",
       "      <td>0.0</td>\n",
       "      <td>None</td>\n",
       "      <td>1.0</td>\n",
       "      <td>clear</td>\n",
       "      <td>None</td>\n",
       "      <td>scratch</td>\n",
       "      <td>2</td>\n",
       "      <td>vehicle code violation</td>\n",
       "      <td>automobile right of way</td>\n",
       "      <td>broadside</td>\n",
       "      <td>other motor vehicle</td>\n",
       "      <td>dry</td>\n",
       "      <td>normal</td>\n",
       "      <td>daylight</td>\n",
       "      <td>functioning</td>\n",
       "      <td>2009-01-11</td>\n",
       "      <td>10:35:00</td>\n",
       "    </tr>\n",
       "    <tr>\n",
       "      <td>4</td>\n",
       "      <td>4083087</td>\n",
       "      <td>4313</td>\n",
       "      <td>santa clara</td>\n",
       "      <td>0.0</td>\n",
       "      <td>None</td>\n",
       "      <td>1.0</td>\n",
       "      <td>clear</td>\n",
       "      <td>None</td>\n",
       "      <td>scratch</td>\n",
       "      <td>2</td>\n",
       "      <td>vehicle code violation</td>\n",
       "      <td>speeding</td>\n",
       "      <td>rear end</td>\n",
       "      <td>other motor vehicle</td>\n",
       "      <td>dry</td>\n",
       "      <td>None</td>\n",
       "      <td>dark with street lights</td>\n",
       "      <td>functioning</td>\n",
       "      <td>2009-01-02</td>\n",
       "      <td>22:43:00</td>\n",
       "    </tr>\n",
       "    <tr>\n",
       "      <td>...</td>\n",
       "      <td>...</td>\n",
       "      <td>...</td>\n",
       "      <td>...</td>\n",
       "      <td>...</td>\n",
       "      <td>...</td>\n",
       "      <td>...</td>\n",
       "      <td>...</td>\n",
       "      <td>...</td>\n",
       "      <td>...</td>\n",
       "      <td>...</td>\n",
       "      <td>...</td>\n",
       "      <td>...</td>\n",
       "      <td>...</td>\n",
       "      <td>...</td>\n",
       "      <td>...</td>\n",
       "      <td>...</td>\n",
       "      <td>...</td>\n",
       "      <td>...</td>\n",
       "      <td>...</td>\n",
       "      <td>...</td>\n",
       "    </tr>\n",
       "    <tr>\n",
       "      <td>99995</td>\n",
       "      <td>4468179</td>\n",
       "      <td>3605</td>\n",
       "      <td>san bernardino</td>\n",
       "      <td>0.0</td>\n",
       "      <td>None</td>\n",
       "      <td>1.0</td>\n",
       "      <td>clear</td>\n",
       "      <td>None</td>\n",
       "      <td>scratch</td>\n",
       "      <td>2</td>\n",
       "      <td>vehicle code violation</td>\n",
       "      <td>automobile right of way</td>\n",
       "      <td>broadside</td>\n",
       "      <td>other motor vehicle</td>\n",
       "      <td>dry</td>\n",
       "      <td>normal</td>\n",
       "      <td>daylight</td>\n",
       "      <td>functioning</td>\n",
       "      <td>2009-10-31</td>\n",
       "      <td>12:18:00</td>\n",
       "    </tr>\n",
       "    <tr>\n",
       "      <td>99996</td>\n",
       "      <td>4468182</td>\n",
       "      <td>3607</td>\n",
       "      <td>san bernardino</td>\n",
       "      <td>450.0</td>\n",
       "      <td>west</td>\n",
       "      <td>0.0</td>\n",
       "      <td>clear</td>\n",
       "      <td>highway</td>\n",
       "      <td>scratch</td>\n",
       "      <td>2</td>\n",
       "      <td>vehicle code violation</td>\n",
       "      <td>speeding</td>\n",
       "      <td>rear end</td>\n",
       "      <td>other motor vehicle</td>\n",
       "      <td>dry</td>\n",
       "      <td>normal</td>\n",
       "      <td>dark with street lights</td>\n",
       "      <td>none</td>\n",
       "      <td>2009-11-06</td>\n",
       "      <td>19:20:00</td>\n",
       "    </tr>\n",
       "    <tr>\n",
       "      <td>99997</td>\n",
       "      <td>4468186</td>\n",
       "      <td>3607</td>\n",
       "      <td>san bernardino</td>\n",
       "      <td>1060.0</td>\n",
       "      <td>east</td>\n",
       "      <td>0.0</td>\n",
       "      <td>clear</td>\n",
       "      <td>highway</td>\n",
       "      <td>scratch</td>\n",
       "      <td>3</td>\n",
       "      <td>vehicle code violation</td>\n",
       "      <td>speeding</td>\n",
       "      <td>rear end</td>\n",
       "      <td>other motor vehicle</td>\n",
       "      <td>dry</td>\n",
       "      <td>normal</td>\n",
       "      <td>daylight</td>\n",
       "      <td>none</td>\n",
       "      <td>2009-11-10</td>\n",
       "      <td>15:35:00</td>\n",
       "    </tr>\n",
       "    <tr>\n",
       "      <td>99998</td>\n",
       "      <td>4468192</td>\n",
       "      <td>1953</td>\n",
       "      <td>los angeles</td>\n",
       "      <td>200.0</td>\n",
       "      <td>west</td>\n",
       "      <td>0.0</td>\n",
       "      <td>clear</td>\n",
       "      <td>highway</td>\n",
       "      <td>scratch</td>\n",
       "      <td>2</td>\n",
       "      <td>vehicle code violation</td>\n",
       "      <td>speeding</td>\n",
       "      <td>rear end</td>\n",
       "      <td>other motor vehicle</td>\n",
       "      <td>dry</td>\n",
       "      <td>normal</td>\n",
       "      <td>daylight</td>\n",
       "      <td>none</td>\n",
       "      <td>2009-10-06</td>\n",
       "      <td>16:40:00</td>\n",
       "    </tr>\n",
       "    <tr>\n",
       "      <td>99999</td>\n",
       "      <td>4468194</td>\n",
       "      <td>3607</td>\n",
       "      <td>san bernardino</td>\n",
       "      <td>528.0</td>\n",
       "      <td>south</td>\n",
       "      <td>0.0</td>\n",
       "      <td>clear</td>\n",
       "      <td>highway</td>\n",
       "      <td>scratch</td>\n",
       "      <td>2</td>\n",
       "      <td>vehicle code violation</td>\n",
       "      <td>unsafe lane change</td>\n",
       "      <td>sideswipe</td>\n",
       "      <td>other motor vehicle</td>\n",
       "      <td>dry</td>\n",
       "      <td>construction</td>\n",
       "      <td>daylight</td>\n",
       "      <td>none</td>\n",
       "      <td>2009-11-10</td>\n",
       "      <td>12:30:00</td>\n",
       "    </tr>\n",
       "  </tbody>\n",
       "</table>\n",
       "<p>100000 rows × 20 columns</p>\n",
       "</div>"
      ],
      "text/plain": [
       "       case_id county_city_location county_location  distance direction  \\\n",
       "0      4083072                 1942     los angeles     528.0     north   \n",
       "1      4083075                 4313     santa clara       0.0      None   \n",
       "2      4083073                 0109         alameda       0.0      None   \n",
       "3      4083077                 0109         alameda       0.0      None   \n",
       "4      4083087                 4313     santa clara       0.0      None   \n",
       "...        ...                  ...             ...       ...       ...   \n",
       "99995  4468179                 3605  san bernardino       0.0      None   \n",
       "99996  4468182                 3607  san bernardino     450.0      west   \n",
       "99997  4468186                 3607  san bernardino    1060.0      east   \n",
       "99998  4468192                 1953     los angeles     200.0      west   \n",
       "99999  4468194                 3607  san bernardino     528.0     south   \n",
       "\n",
       "       intersection weather_1 location_type collision_damage  party_count  \\\n",
       "0               0.0    cloudy       highway     small damage            2   \n",
       "1               1.0     clear          None     small damage            1   \n",
       "2               1.0     clear          None          scratch            2   \n",
       "3               1.0     clear          None          scratch            2   \n",
       "4               1.0     clear          None          scratch            2   \n",
       "...             ...       ...           ...              ...          ...   \n",
       "99995           1.0     clear          None          scratch            2   \n",
       "99996           0.0     clear       highway          scratch            2   \n",
       "99997           0.0     clear       highway          scratch            3   \n",
       "99998           0.0     clear       highway          scratch            2   \n",
       "99999           0.0     clear       highway          scratch            2   \n",
       "\n",
       "      primary_collision_factor   pcf_violation_category type_of_collision  \\\n",
       "0       vehicle code violation       unsafe lane change         sideswipe   \n",
       "1       vehicle code violation         improper passing        hit object   \n",
       "2       vehicle code violation         improper turning         broadside   \n",
       "3       vehicle code violation  automobile right of way         broadside   \n",
       "4       vehicle code violation                 speeding          rear end   \n",
       "...                        ...                      ...               ...   \n",
       "99995   vehicle code violation  automobile right of way         broadside   \n",
       "99996   vehicle code violation                 speeding          rear end   \n",
       "99997   vehicle code violation                 speeding          rear end   \n",
       "99998   vehicle code violation                 speeding          rear end   \n",
       "99999   vehicle code violation       unsafe lane change         sideswipe   \n",
       "\n",
       "      motor_vehicle_involved_with road_surface road_condition_1  \\\n",
       "0             other motor vehicle          wet           normal   \n",
       "1                    fixed object          dry           normal   \n",
       "2             other motor vehicle          dry           normal   \n",
       "3             other motor vehicle          dry           normal   \n",
       "4             other motor vehicle          dry             None   \n",
       "...                           ...          ...              ...   \n",
       "99995         other motor vehicle          dry           normal   \n",
       "99996         other motor vehicle          dry           normal   \n",
       "99997         other motor vehicle          dry           normal   \n",
       "99998         other motor vehicle          dry           normal   \n",
       "99999         other motor vehicle          dry     construction   \n",
       "\n",
       "                      lighting control_device collision_date collision_time  \n",
       "0                     daylight           none     2009-01-22       07:25:00  \n",
       "1      dark with street lights    functioning     2009-01-03       02:26:00  \n",
       "2      dark with street lights    functioning     2009-01-11       03:32:00  \n",
       "3                     daylight    functioning     2009-01-11       10:35:00  \n",
       "4      dark with street lights    functioning     2009-01-02       22:43:00  \n",
       "...                        ...            ...            ...            ...  \n",
       "99995                 daylight    functioning     2009-10-31       12:18:00  \n",
       "99996  dark with street lights           none     2009-11-06       19:20:00  \n",
       "99997                 daylight           none     2009-11-10       15:35:00  \n",
       "99998                 daylight           none     2009-10-06       16:40:00  \n",
       "99999                 daylight           none     2009-11-10       12:30:00  \n",
       "\n",
       "[100000 rows x 20 columns]"
      ]
     },
     "execution_count": 6,
     "metadata": {},
     "output_type": "execute_result"
    }
   ],
   "source": [
    "query = '''\n",
    "SELECT * FROM collisions\n",
    "LiMIT 100000\n",
    "'''\n",
    "\n",
    "collisions = pd.read_sql_query(query, con=engine) \n",
    "collisions"
   ]
  },
  {
   "cell_type": "markdown",
   "id": "009962db",
   "metadata": {},
   "source": [
    "### Parties"
   ]
  },
  {
   "cell_type": "code",
   "execution_count": 7,
   "id": "3c7de7e6",
   "metadata": {},
   "outputs": [
    {
     "data": {
      "text/html": [
       "<div>\n",
       "<style scoped>\n",
       "    .dataframe tbody tr th:only-of-type {\n",
       "        vertical-align: middle;\n",
       "    }\n",
       "\n",
       "    .dataframe tbody tr th {\n",
       "        vertical-align: top;\n",
       "    }\n",
       "\n",
       "    .dataframe thead th {\n",
       "        text-align: right;\n",
       "    }\n",
       "</style>\n",
       "<table border=\"1\" class=\"dataframe\">\n",
       "  <thead>\n",
       "    <tr style=\"text-align: right;\">\n",
       "      <th></th>\n",
       "      <th>id</th>\n",
       "      <th>case_id</th>\n",
       "      <th>party_number</th>\n",
       "      <th>party_type</th>\n",
       "      <th>at_fault</th>\n",
       "      <th>insurance_premium</th>\n",
       "      <th>party_sobriety</th>\n",
       "      <th>party_drug_physical</th>\n",
       "      <th>cellphone_in_use</th>\n",
       "    </tr>\n",
       "  </thead>\n",
       "  <tbody>\n",
       "    <tr>\n",
       "      <td>0</td>\n",
       "      <td>22</td>\n",
       "      <td>3899454</td>\n",
       "      <td>1</td>\n",
       "      <td>road signs</td>\n",
       "      <td>1</td>\n",
       "      <td>29.0</td>\n",
       "      <td>had not been drinking</td>\n",
       "      <td>None</td>\n",
       "      <td>0.0</td>\n",
       "    </tr>\n",
       "    <tr>\n",
       "      <td>1</td>\n",
       "      <td>23</td>\n",
       "      <td>3899454</td>\n",
       "      <td>2</td>\n",
       "      <td>road signs</td>\n",
       "      <td>0</td>\n",
       "      <td>7.0</td>\n",
       "      <td>had not been drinking</td>\n",
       "      <td>None</td>\n",
       "      <td>0.0</td>\n",
       "    </tr>\n",
       "    <tr>\n",
       "      <td>2</td>\n",
       "      <td>29</td>\n",
       "      <td>3899462</td>\n",
       "      <td>2</td>\n",
       "      <td>car</td>\n",
       "      <td>0</td>\n",
       "      <td>21.0</td>\n",
       "      <td>had not been drinking</td>\n",
       "      <td>None</td>\n",
       "      <td>0.0</td>\n",
       "    </tr>\n",
       "    <tr>\n",
       "      <td>3</td>\n",
       "      <td>31</td>\n",
       "      <td>3899465</td>\n",
       "      <td>2</td>\n",
       "      <td>road signs</td>\n",
       "      <td>0</td>\n",
       "      <td>24.0</td>\n",
       "      <td>had not been drinking</td>\n",
       "      <td>None</td>\n",
       "      <td>0.0</td>\n",
       "    </tr>\n",
       "    <tr>\n",
       "      <td>4</td>\n",
       "      <td>41</td>\n",
       "      <td>3899478</td>\n",
       "      <td>2</td>\n",
       "      <td>road bumper</td>\n",
       "      <td>0</td>\n",
       "      <td>NaN</td>\n",
       "      <td>not applicable</td>\n",
       "      <td>not applicable</td>\n",
       "      <td>0.0</td>\n",
       "    </tr>\n",
       "    <tr>\n",
       "      <td>...</td>\n",
       "      <td>...</td>\n",
       "      <td>...</td>\n",
       "      <td>...</td>\n",
       "      <td>...</td>\n",
       "      <td>...</td>\n",
       "      <td>...</td>\n",
       "      <td>...</td>\n",
       "      <td>...</td>\n",
       "      <td>...</td>\n",
       "    </tr>\n",
       "    <tr>\n",
       "      <td>99995</td>\n",
       "      <td>825513</td>\n",
       "      <td>4559178</td>\n",
       "      <td>1</td>\n",
       "      <td>car</td>\n",
       "      <td>0</td>\n",
       "      <td>51.0</td>\n",
       "      <td>had not been drinking</td>\n",
       "      <td>None</td>\n",
       "      <td>0.0</td>\n",
       "    </tr>\n",
       "    <tr>\n",
       "      <td>99996</td>\n",
       "      <td>825514</td>\n",
       "      <td>4559178</td>\n",
       "      <td>2</td>\n",
       "      <td>car</td>\n",
       "      <td>1</td>\n",
       "      <td>39.0</td>\n",
       "      <td>had not been drinking</td>\n",
       "      <td>None</td>\n",
       "      <td>0.0</td>\n",
       "    </tr>\n",
       "    <tr>\n",
       "      <td>99997</td>\n",
       "      <td>825523</td>\n",
       "      <td>4559182</td>\n",
       "      <td>2</td>\n",
       "      <td>road bumper</td>\n",
       "      <td>0</td>\n",
       "      <td>NaN</td>\n",
       "      <td>not applicable</td>\n",
       "      <td>not applicable</td>\n",
       "      <td>NaN</td>\n",
       "    </tr>\n",
       "    <tr>\n",
       "      <td>99998</td>\n",
       "      <td>825524</td>\n",
       "      <td>4559182</td>\n",
       "      <td>3</td>\n",
       "      <td>road bumper</td>\n",
       "      <td>0</td>\n",
       "      <td>NaN</td>\n",
       "      <td>not applicable</td>\n",
       "      <td>not applicable</td>\n",
       "      <td>NaN</td>\n",
       "    </tr>\n",
       "    <tr>\n",
       "      <td>99999</td>\n",
       "      <td>825538</td>\n",
       "      <td>4559191</td>\n",
       "      <td>2</td>\n",
       "      <td>road bumper</td>\n",
       "      <td>0</td>\n",
       "      <td>NaN</td>\n",
       "      <td>not applicable</td>\n",
       "      <td>not applicable</td>\n",
       "      <td>0.0</td>\n",
       "    </tr>\n",
       "  </tbody>\n",
       "</table>\n",
       "<p>100000 rows × 9 columns</p>\n",
       "</div>"
      ],
      "text/plain": [
       "           id  case_id  party_number   party_type  at_fault  \\\n",
       "0          22  3899454             1   road signs         1   \n",
       "1          23  3899454             2   road signs         0   \n",
       "2          29  3899462             2          car         0   \n",
       "3          31  3899465             2   road signs         0   \n",
       "4          41  3899478             2  road bumper         0   \n",
       "...       ...      ...           ...          ...       ...   \n",
       "99995  825513  4559178             1          car         0   \n",
       "99996  825514  4559178             2          car         1   \n",
       "99997  825523  4559182             2  road bumper         0   \n",
       "99998  825524  4559182             3  road bumper         0   \n",
       "99999  825538  4559191             2  road bumper         0   \n",
       "\n",
       "       insurance_premium         party_sobriety party_drug_physical  \\\n",
       "0                   29.0  had not been drinking                None   \n",
       "1                    7.0  had not been drinking                None   \n",
       "2                   21.0  had not been drinking                None   \n",
       "3                   24.0  had not been drinking                None   \n",
       "4                    NaN         not applicable      not applicable   \n",
       "...                  ...                    ...                 ...   \n",
       "99995               51.0  had not been drinking                None   \n",
       "99996               39.0  had not been drinking                None   \n",
       "99997                NaN         not applicable      not applicable   \n",
       "99998                NaN         not applicable      not applicable   \n",
       "99999                NaN         not applicable      not applicable   \n",
       "\n",
       "       cellphone_in_use  \n",
       "0                   0.0  \n",
       "1                   0.0  \n",
       "2                   0.0  \n",
       "3                   0.0  \n",
       "4                   0.0  \n",
       "...                 ...  \n",
       "99995               0.0  \n",
       "99996               0.0  \n",
       "99997               NaN  \n",
       "99998               NaN  \n",
       "99999               0.0  \n",
       "\n",
       "[100000 rows x 9 columns]"
      ]
     },
     "execution_count": 7,
     "metadata": {},
     "output_type": "execute_result"
    }
   ],
   "source": [
    "query = '''\n",
    "SELECT * FROM parties\n",
    "limit 100000\n",
    "'''\n",
    "\n",
    "parties = pd.read_sql_query(query, con=engine) \n",
    "parties"
   ]
  },
  {
   "cell_type": "markdown",
   "id": "e0f60ccd",
   "metadata": {},
   "source": [
    "### Вывод"
   ]
  },
  {
   "cell_type": "markdown",
   "id": "2a766fb6",
   "metadata": {},
   "source": [
    "В каждой таблице есть данные, структура таблиц полностью соответствует описанию. Общим ключом для связи всех таблиц служит **case_id**"
   ]
  },
  {
   "cell_type": "markdown",
   "id": "ecd34127",
   "metadata": {},
   "source": [
    "##  Проведите статистический анализ факторов ДТП"
   ]
  },
  {
   "cell_type": "markdown",
   "id": "e11d2889",
   "metadata": {},
   "source": [
    "### Динамика количества аварий"
   ]
  },
  {
   "cell_type": "code",
   "execution_count": 8,
   "id": "794e887b",
   "metadata": {
    "scrolled": false
   },
   "outputs": [
    {
     "data": {
      "image/png": "[encoded data removed]",
      "text/plain": [
       "<Figure size 1152x576 with 1 Axes>"
      ]
     },
     "metadata": {
      "needs_background": "light"
     },
     "output_type": "display_data"
    }
   ],
   "source": [
    "query = '''\n",
    "SELECT DATE_TRUNC('month',collision_date)::date as month, count(*) FROM collisions\n",
    "GROUP BY DATE_TRUNC('month',collision_date)::date\n",
    "'''\n",
    "\n",
    "accident_per_mnth = pd.read_sql_query(query, con=engine) \n",
    "accident_per_mnth['month'] = pd.to_datetime(accident_per_mnth['month'])\n",
    "\n",
    "\n",
    "plt.plot(\"month\", \"count\", data=accident_per_mnth)\n",
    "plt.xlabel('Год', fontsize = 14)\n",
    "plt.ylabel('Количество ДТП', fontsize = 14)\n",
    "plt.title('Динамика количества аварий по годам', fontsize = 16)\n",
    "plt.show()"
   ]
  },
  {
   "cell_type": "markdown",
   "id": "f017e496",
   "metadata": {},
   "source": [
    "По данному графику видно, что сведения о ДТП в основном собраны с 2009г по 2012г"
   ]
  },
  {
   "cell_type": "markdown",
   "id": "acb35cdd",
   "metadata": {},
   "source": [
    "### 2009 - 2012 годы"
   ]
  },
  {
   "cell_type": "code",
   "execution_count": 9,
   "id": "c47e6c2d",
   "metadata": {},
   "outputs": [
    {
     "data": {
      "image/png": "[encoded data removed]",
      "text/plain": [
       "<Figure size 1296x648 with 1 Axes>"
      ]
     },
     "metadata": {
      "needs_background": "light"
     },
     "output_type": "display_data"
    }
   ],
   "source": [
    "# Сгруппируем значения по месяцу и выведем эти значения с 2009 по 2013г\n",
    "accident_per_mnth.query('month < 2013')\\\n",
    ".pivot_table(index=accident_per_mnth.query('month < 2013')['month'].dt.month, \n",
    "             columns=accident_per_mnth.query('month < 2013')['month'].dt.year, \n",
    "             values='count')\\\n",
    ".plot(figsize=(18,9))\n",
    "\n",
    "plt.title(f'Столбчатая диаграмма количества ДТП по месяцам', fontsize=16)\n",
    "plt.xlabel('Годы', fontsize=14)\n",
    "plt.ylabel('Количество ДТП', fontsize=14)\n",
    "plt.grid()\n",
    "plt.legend(title='Годы', fontsize=16)\n",
    "plt.xticks(np.arange(1, len(accident_per_mnth.query('month < 2013')['month'].dt.month.unique()) + 1, 1),\n",
    "           rotation='horizontal')\n",
    "plt.show()"
   ]
  },
  {
   "cell_type": "markdown",
   "id": "4a2b2a67",
   "metadata": {},
   "source": [
    "### Вывод"
   ]
  },
  {
   "cell_type": "markdown",
   "id": "2fc72c27",
   "metadata": {},
   "source": [
    "По графику видно, что наибольшее количество ДТП по месяцам приходится на октябрь и декабрь и немного меньше на март. \n",
    "\n",
    "Начиная с мая 2012 года заметно резкое падение количества ДТП практически до 0. Похоже с тех пор сбор данных прекратился"
   ]
  },
  {
   "cell_type": "markdown",
   "id": "5978beb5",
   "metadata": {},
   "source": [
    "### Аналитические задачи"
   ]
  },
  {
   "cell_type": "markdown",
   "id": "b194ea28",
   "metadata": {},
   "source": [
    "* Проведите анализ трезвости участника в зависимости от времени происшествия (связать collisions и parties)\n",
    "* Оценить как тип кузова влияет на стоимость страховки (связать parties и vehicles)\n",
    "* Посчитайте количество происшествий в зависимости от погоды (таблица collisions)\n",
    "* Посчитайте среднее количество участников происшествий (таблица collisions)\n",
    "* Оцените при каком дорожном состоянии было максимальное количество ДТП (таблица collisions)\n",
    "* Проведите анализ взаимосвязи между количеством ДТП и наличием телефона в автомобиле (таблица vehicles)\n"
   ]
  },
  {
   "cell_type": "markdown",
   "id": "caed1694",
   "metadata": {},
   "source": [
    "Порядок решения для задачи №1:\n",
    "* Создайте SQL запрос (Объедините таблицы collisions и parties по общему ключу, выделите на основе времени происшествия категории: с 0 до 6 часов — ночь, с 6 до 12 часов — утро, с 12 до 18 часов — день, с 18 до 24 часов — вечер. После этого сгруппируйте значения по трезвости участника и времени суток и на основе сгруппированных значений выведите количество ДТП)  \n",
    "* Постройте график\n",
    "* Сделайте вывод"
   ]
  },
  {
   "cell_type": "markdown",
   "id": "9f28b6cd",
   "metadata": {},
   "source": [
    "Порядок решения для задачи №2:\n",
    "* Создайте SQL запрос (Объедините таблицы vehicles и parties по общему ключу, сгруппируйте значения по типу кузова и возьмите средние значения стоимости страховки)  \n",
    "* Постройте график\n",
    "* Сделайте вывод"
   ]
  },
  {
   "cell_type": "markdown",
   "id": "6577b536",
   "metadata": {},
   "source": [
    "## Отбор признаков"
   ]
  },
  {
   "cell_type": "code",
   "execution_count": 10,
   "id": "9adeed95",
   "metadata": {},
   "outputs": [
    {
     "data": {
      "text/html": [
       "<div>\n",
       "<style scoped>\n",
       "    .dataframe tbody tr th:only-of-type {\n",
       "        vertical-align: middle;\n",
       "    }\n",
       "\n",
       "    .dataframe tbody tr th {\n",
       "        vertical-align: top;\n",
       "    }\n",
       "\n",
       "    .dataframe thead th {\n",
       "        text-align: right;\n",
       "    }\n",
       "</style>\n",
       "<table border=\"1\" class=\"dataframe\">\n",
       "  <thead>\n",
       "    <tr style=\"text-align: right;\">\n",
       "      <th></th>\n",
       "      <th>case_id</th>\n",
       "      <th>county_city_location</th>\n",
       "      <th>county_location</th>\n",
       "      <th>distance</th>\n",
       "      <th>direction</th>\n",
       "      <th>intersection</th>\n",
       "      <th>weather_1</th>\n",
       "      <th>location_type</th>\n",
       "      <th>collision_damage</th>\n",
       "      <th>party_count</th>\n",
       "      <th>...</th>\n",
       "      <th>insurance_premium</th>\n",
       "      <th>party_sobriety</th>\n",
       "      <th>party_drug_physical</th>\n",
       "      <th>cellphone_in_use</th>\n",
       "      <th>id</th>\n",
       "      <th>case_id</th>\n",
       "      <th>party_number</th>\n",
       "      <th>vehicle_type</th>\n",
       "      <th>vehicle_transmission</th>\n",
       "      <th>vehicle_age</th>\n",
       "    </tr>\n",
       "  </thead>\n",
       "  <tbody>\n",
       "    <tr>\n",
       "      <td>0</td>\n",
       "      <td>5449062</td>\n",
       "      <td>0708</td>\n",
       "      <td>contra costa</td>\n",
       "      <td>21.0</td>\n",
       "      <td>east</td>\n",
       "      <td>0.0</td>\n",
       "      <td>clear</td>\n",
       "      <td>None</td>\n",
       "      <td>small damage</td>\n",
       "      <td>2</td>\n",
       "      <td>...</td>\n",
       "      <td>54.0</td>\n",
       "      <td>had not been drinking</td>\n",
       "      <td>None</td>\n",
       "      <td>0.0</td>\n",
       "      <td>1320506</td>\n",
       "      <td>5449062</td>\n",
       "      <td>2</td>\n",
       "      <td>sedan</td>\n",
       "      <td>manual</td>\n",
       "      <td>10.0</td>\n",
       "    </tr>\n",
       "    <tr>\n",
       "      <td>1</td>\n",
       "      <td>5455644</td>\n",
       "      <td>4806</td>\n",
       "      <td>solano</td>\n",
       "      <td>350.0</td>\n",
       "      <td>south</td>\n",
       "      <td>0.0</td>\n",
       "      <td>cloudy</td>\n",
       "      <td>ramp</td>\n",
       "      <td>small damage</td>\n",
       "      <td>3</td>\n",
       "      <td>...</td>\n",
       "      <td>22.0</td>\n",
       "      <td>had not been drinking</td>\n",
       "      <td>None</td>\n",
       "      <td>0.0</td>\n",
       "      <td>1327255</td>\n",
       "      <td>5455644</td>\n",
       "      <td>3</td>\n",
       "      <td>sedan</td>\n",
       "      <td>manual</td>\n",
       "      <td>3.0</td>\n",
       "    </tr>\n",
       "    <tr>\n",
       "      <td>2</td>\n",
       "      <td>5455680</td>\n",
       "      <td>3001</td>\n",
       "      <td>orange</td>\n",
       "      <td>0.0</td>\n",
       "      <td>None</td>\n",
       "      <td>1.0</td>\n",
       "      <td>clear</td>\n",
       "      <td>None</td>\n",
       "      <td>small damage</td>\n",
       "      <td>3</td>\n",
       "      <td>...</td>\n",
       "      <td>59.0</td>\n",
       "      <td>had not been drinking</td>\n",
       "      <td>None</td>\n",
       "      <td>0.0</td>\n",
       "      <td>1327290</td>\n",
       "      <td>5455680</td>\n",
       "      <td>3</td>\n",
       "      <td>sedan</td>\n",
       "      <td>manual</td>\n",
       "      <td>NaN</td>\n",
       "    </tr>\n",
       "    <tr>\n",
       "      <td>3</td>\n",
       "      <td>5455686</td>\n",
       "      <td>3906</td>\n",
       "      <td>san joaquin</td>\n",
       "      <td>400.0</td>\n",
       "      <td>west</td>\n",
       "      <td>0.0</td>\n",
       "      <td>fog</td>\n",
       "      <td>highway</td>\n",
       "      <td>small damage</td>\n",
       "      <td>1</td>\n",
       "      <td>...</td>\n",
       "      <td>30.0</td>\n",
       "      <td>had not been drinking</td>\n",
       "      <td>None</td>\n",
       "      <td>0.0</td>\n",
       "      <td>1327306</td>\n",
       "      <td>5455686</td>\n",
       "      <td>1</td>\n",
       "      <td>sedan</td>\n",
       "      <td>manual</td>\n",
       "      <td>3.0</td>\n",
       "    </tr>\n",
       "    <tr>\n",
       "      <td>4</td>\n",
       "      <td>5455744</td>\n",
       "      <td>1908</td>\n",
       "      <td>los angeles</td>\n",
       "      <td>500.0</td>\n",
       "      <td>east</td>\n",
       "      <td>0.0</td>\n",
       "      <td>clear</td>\n",
       "      <td>highway</td>\n",
       "      <td>small damage</td>\n",
       "      <td>2</td>\n",
       "      <td>...</td>\n",
       "      <td>20.0</td>\n",
       "      <td>had not been drinking</td>\n",
       "      <td>None</td>\n",
       "      <td>0.0</td>\n",
       "      <td>1327383</td>\n",
       "      <td>5455744</td>\n",
       "      <td>1</td>\n",
       "      <td>sedan</td>\n",
       "      <td>manual</td>\n",
       "      <td>3.0</td>\n",
       "    </tr>\n",
       "    <tr>\n",
       "      <td>...</td>\n",
       "      <td>...</td>\n",
       "      <td>...</td>\n",
       "      <td>...</td>\n",
       "      <td>...</td>\n",
       "      <td>...</td>\n",
       "      <td>...</td>\n",
       "      <td>...</td>\n",
       "      <td>...</td>\n",
       "      <td>...</td>\n",
       "      <td>...</td>\n",
       "      <td>...</td>\n",
       "      <td>...</td>\n",
       "      <td>...</td>\n",
       "      <td>...</td>\n",
       "      <td>...</td>\n",
       "      <td>...</td>\n",
       "      <td>...</td>\n",
       "      <td>...</td>\n",
       "      <td>...</td>\n",
       "      <td>...</td>\n",
       "      <td>...</td>\n",
       "    </tr>\n",
       "    <tr>\n",
       "      <td>56243</td>\n",
       "      <td>5541557</td>\n",
       "      <td>3315</td>\n",
       "      <td>riverside</td>\n",
       "      <td>800.0</td>\n",
       "      <td>south</td>\n",
       "      <td>0.0</td>\n",
       "      <td>raining</td>\n",
       "      <td>ramp</td>\n",
       "      <td>middle damage</td>\n",
       "      <td>1</td>\n",
       "      <td>...</td>\n",
       "      <td>16.0</td>\n",
       "      <td>had not been drinking</td>\n",
       "      <td>None</td>\n",
       "      <td>0.0</td>\n",
       "      <td>1413124</td>\n",
       "      <td>5541557</td>\n",
       "      <td>1</td>\n",
       "      <td>coupe</td>\n",
       "      <td>manual</td>\n",
       "      <td>2.0</td>\n",
       "    </tr>\n",
       "    <tr>\n",
       "      <td>56244</td>\n",
       "      <td>5541776</td>\n",
       "      <td>1964</td>\n",
       "      <td>los angeles</td>\n",
       "      <td>1500.0</td>\n",
       "      <td>south</td>\n",
       "      <td>0.0</td>\n",
       "      <td>cloudy</td>\n",
       "      <td>highway</td>\n",
       "      <td>severe damage</td>\n",
       "      <td>3</td>\n",
       "      <td>...</td>\n",
       "      <td>40.0</td>\n",
       "      <td>had not been drinking</td>\n",
       "      <td>None</td>\n",
       "      <td>0.0</td>\n",
       "      <td>1413298</td>\n",
       "      <td>5541776</td>\n",
       "      <td>1</td>\n",
       "      <td>coupe</td>\n",
       "      <td>manual</td>\n",
       "      <td>6.0</td>\n",
       "    </tr>\n",
       "    <tr>\n",
       "      <td>56245</td>\n",
       "      <td>5541834</td>\n",
       "      <td>3045</td>\n",
       "      <td>orange</td>\n",
       "      <td>331.0</td>\n",
       "      <td>south</td>\n",
       "      <td>0.0</td>\n",
       "      <td>clear</td>\n",
       "      <td>None</td>\n",
       "      <td>middle damage</td>\n",
       "      <td>1</td>\n",
       "      <td>...</td>\n",
       "      <td>21.0</td>\n",
       "      <td>had been drinking, under influence</td>\n",
       "      <td>None</td>\n",
       "      <td>0.0</td>\n",
       "      <td>1413363</td>\n",
       "      <td>5541834</td>\n",
       "      <td>1</td>\n",
       "      <td>coupe</td>\n",
       "      <td>manual</td>\n",
       "      <td>3.0</td>\n",
       "    </tr>\n",
       "    <tr>\n",
       "      <td>56246</td>\n",
       "      <td>5542149</td>\n",
       "      <td>5400</td>\n",
       "      <td>tulare</td>\n",
       "      <td>1600.0</td>\n",
       "      <td>north</td>\n",
       "      <td>0.0</td>\n",
       "      <td>clear</td>\n",
       "      <td>highway</td>\n",
       "      <td>fatal</td>\n",
       "      <td>1</td>\n",
       "      <td>...</td>\n",
       "      <td>24.0</td>\n",
       "      <td>had been drinking, not under influence</td>\n",
       "      <td>None</td>\n",
       "      <td>0.0</td>\n",
       "      <td>1413809</td>\n",
       "      <td>5542149</td>\n",
       "      <td>1</td>\n",
       "      <td>coupe</td>\n",
       "      <td>manual</td>\n",
       "      <td>3.0</td>\n",
       "    </tr>\n",
       "    <tr>\n",
       "      <td>56247</td>\n",
       "      <td>5542166</td>\n",
       "      <td>5400</td>\n",
       "      <td>tulare</td>\n",
       "      <td>806.0</td>\n",
       "      <td>west</td>\n",
       "      <td>0.0</td>\n",
       "      <td>clear</td>\n",
       "      <td>highway</td>\n",
       "      <td>fatal</td>\n",
       "      <td>1</td>\n",
       "      <td>...</td>\n",
       "      <td>45.0</td>\n",
       "      <td>had not been drinking</td>\n",
       "      <td>under drug influence</td>\n",
       "      <td>0.0</td>\n",
       "      <td>1413833</td>\n",
       "      <td>5542166</td>\n",
       "      <td>1</td>\n",
       "      <td>coupe</td>\n",
       "      <td>auto</td>\n",
       "      <td>7.0</td>\n",
       "    </tr>\n",
       "  </tbody>\n",
       "</table>\n",
       "<p>56248 rows × 35 columns</p>\n",
       "</div>"
      ],
      "text/plain": [
       "       case_id county_city_location county_location  distance direction  \\\n",
       "0      5449062                 0708    contra costa      21.0      east   \n",
       "1      5455644                 4806          solano     350.0     south   \n",
       "2      5455680                 3001          orange       0.0      None   \n",
       "3      5455686                 3906     san joaquin     400.0      west   \n",
       "4      5455744                 1908     los angeles     500.0      east   \n",
       "...        ...                  ...             ...       ...       ...   \n",
       "56243  5541557                 3315       riverside     800.0     south   \n",
       "56244  5541776                 1964     los angeles    1500.0     south   \n",
       "56245  5541834                 3045          orange     331.0     south   \n",
       "56246  5542149                 5400          tulare    1600.0     north   \n",
       "56247  5542166                 5400          tulare     806.0      west   \n",
       "\n",
       "       intersection weather_1 location_type collision_damage  party_count  \\\n",
       "0               0.0     clear          None     small damage            2   \n",
       "1               0.0    cloudy          ramp     small damage            3   \n",
       "2               1.0     clear          None     small damage            3   \n",
       "3               0.0       fog       highway     small damage            1   \n",
       "4               0.0     clear       highway     small damage            2   \n",
       "...             ...       ...           ...              ...          ...   \n",
       "56243           0.0   raining          ramp    middle damage            1   \n",
       "56244           0.0    cloudy       highway    severe damage            3   \n",
       "56245           0.0     clear          None    middle damage            1   \n",
       "56246           0.0     clear       highway            fatal            1   \n",
       "56247           0.0     clear       highway            fatal            1   \n",
       "\n",
       "       ... insurance_premium                          party_sobriety  \\\n",
       "0      ...              54.0                   had not been drinking   \n",
       "1      ...              22.0                   had not been drinking   \n",
       "2      ...              59.0                   had not been drinking   \n",
       "3      ...              30.0                   had not been drinking   \n",
       "4      ...              20.0                   had not been drinking   \n",
       "...    ...               ...                                     ...   \n",
       "56243  ...              16.0                   had not been drinking   \n",
       "56244  ...              40.0                   had not been drinking   \n",
       "56245  ...              21.0      had been drinking, under influence   \n",
       "56246  ...              24.0  had been drinking, not under influence   \n",
       "56247  ...              45.0                   had not been drinking   \n",
       "\n",
       "        party_drug_physical cellphone_in_use       id  case_id party_number  \\\n",
       "0                      None              0.0  1320506  5449062            2   \n",
       "1                      None              0.0  1327255  5455644            3   \n",
       "2                      None              0.0  1327290  5455680            3   \n",
       "3                      None              0.0  1327306  5455686            1   \n",
       "4                      None              0.0  1327383  5455744            1   \n",
       "...                     ...              ...      ...      ...          ...   \n",
       "56243                  None              0.0  1413124  5541557            1   \n",
       "56244                  None              0.0  1413298  5541776            1   \n",
       "56245                  None              0.0  1413363  5541834            1   \n",
       "56246                  None              0.0  1413809  5542149            1   \n",
       "56247  under drug influence              0.0  1413833  5542166            1   \n",
       "\n",
       "      vehicle_type vehicle_transmission vehicle_age  \n",
       "0            sedan               manual        10.0  \n",
       "1            sedan               manual         3.0  \n",
       "2            sedan               manual         NaN  \n",
       "3            sedan               manual         3.0  \n",
       "4            sedan               manual         3.0  \n",
       "...            ...                  ...         ...  \n",
       "56243        coupe               manual         2.0  \n",
       "56244        coupe               manual         6.0  \n",
       "56245        coupe               manual         3.0  \n",
       "56246        coupe               manual         3.0  \n",
       "56247        coupe                 auto         7.0  \n",
       "\n",
       "[56248 rows x 35 columns]"
      ]
     },
     "execution_count": 10,
     "metadata": {},
     "output_type": "execute_result"
    }
   ],
   "source": [
    "query = '''\n",
    "SELECT * FROM collisions as col\n",
    "INNER JOIN parties as part on col.case_id = part.case_id\n",
    "INNER JOIN vehicles as vh on col.case_id = vh.case_id and part.party_number = vh.party_number\n",
    "WHERE collision_damage != 'scratch' AND extract('year' from collision_date::date) = 2012 AND party_type = 'car'\n",
    "'''\n",
    "\n",
    "df = pd.read_sql_query(query, con=engine) \n",
    "df"
   ]
  },
  {
   "cell_type": "code",
   "execution_count": 11,
   "id": "194f81cc",
   "metadata": {},
   "outputs": [],
   "source": [
    "# Признаки\n",
    "\n",
    "columms =[\n",
    "          'party_sobriety', # Уровень трезвости виновника (точно может влиять) \n",
    "    \n",
    "          'party_drug_physical', # Состояние участника: физическое или с учётом принятых лекарств \n",
    "                                # (состояние тоже может влиять на виновность в ДТП) \n",
    "    \n",
    "          'cellphone_in_use', # Наличие телефона в автомобиле (по идее наличие возможности разговаривать \n",
    "                             # по громкой связи должна уменьшать вероятность вины в происшествии)\n",
    "    \n",
    "          'vehicle_age', # Возраст машины (чем старше машина, тем выше вероятность неожиданной поломки \n",
    "                        # и как следствие возникновения дтп по вине наблюдаемого водителя)\n",
    "    \n",
    "          'weather_1', # Погода (от погоды зависят условия видимости, состояние покрытия дороги, \n",
    "                      # следовательно этот фактор влияет на исследуемую переменную)\n",
    "    \n",
    "          'road_surface', # Покрытие дороги (тоже, думаю, влияет)\n",
    "    \n",
    "          'lighting', # Освещение (опять же сказывается на видимости и влияет на вероятность аварии)\n",
    "    \n",
    "          'county_location', # Названия географических районов, где произошло ДТП\n",
    "                            # вероятность аварии в разных городах отличается. В густонаселенных городах\n",
    "                            # автомобильный трафик выше чем в других, соответственно и вероятность дтп там выше\n",
    "    \n",
    "          'location_type', # Тип дороги (думаю тип дороги тоже должен влиять на вероятность аварии)\n",
    "    \n",
    "          'road_condition_1', # Дорожное состояние (этот признак должен быть тоже значимым)\n",
    "    \n",
    "          'insurance_premium', # Сумма страховки \n",
    "    \n",
    "          'collision_date', # Дата происшествия (как мы уже выяснили выше, количество дтп изменяется по месяцам)\n",
    "    \n",
    "          'at_fault' # Целевой признак \n",
    "         ] "
   ]
  },
  {
   "cell_type": "markdown",
   "id": "f6d64757",
   "metadata": {},
   "source": [
    "### Исследовательский анализ"
   ]
  },
  {
   "cell_type": "code",
   "execution_count": 12,
   "id": "bfb4c748",
   "metadata": {},
   "outputs": [
    {
     "data": {
      "text/html": [
       "<div>\n",
       "<style scoped>\n",
       "    .dataframe tbody tr th:only-of-type {\n",
       "        vertical-align: middle;\n",
       "    }\n",
       "\n",
       "    .dataframe tbody tr th {\n",
       "        vertical-align: top;\n",
       "    }\n",
       "\n",
       "    .dataframe thead th {\n",
       "        text-align: right;\n",
       "    }\n",
       "</style>\n",
       "<table border=\"1\" class=\"dataframe\">\n",
       "  <thead>\n",
       "    <tr style=\"text-align: right;\">\n",
       "      <th></th>\n",
       "      <th>party_sobriety</th>\n",
       "      <th>party_drug_physical</th>\n",
       "      <th>cellphone_in_use</th>\n",
       "      <th>vehicle_age</th>\n",
       "      <th>weather_1</th>\n",
       "      <th>road_surface</th>\n",
       "      <th>lighting</th>\n",
       "      <th>county_location</th>\n",
       "      <th>location_type</th>\n",
       "      <th>road_condition_1</th>\n",
       "      <th>insurance_premium</th>\n",
       "      <th>collision_date</th>\n",
       "      <th>at_fault</th>\n",
       "    </tr>\n",
       "  </thead>\n",
       "  <tbody>\n",
       "    <tr>\n",
       "      <td>0</td>\n",
       "      <td>had not been drinking</td>\n",
       "      <td>None</td>\n",
       "      <td>0.0</td>\n",
       "      <td>10.0</td>\n",
       "      <td>clear</td>\n",
       "      <td>dry</td>\n",
       "      <td>dark with street lights</td>\n",
       "      <td>contra costa</td>\n",
       "      <td>None</td>\n",
       "      <td>normal</td>\n",
       "      <td>54.0</td>\n",
       "      <td>2012-01-15</td>\n",
       "      <td>0</td>\n",
       "    </tr>\n",
       "    <tr>\n",
       "      <td>1</td>\n",
       "      <td>had not been drinking</td>\n",
       "      <td>None</td>\n",
       "      <td>0.0</td>\n",
       "      <td>3.0</td>\n",
       "      <td>cloudy</td>\n",
       "      <td>dry</td>\n",
       "      <td>daylight</td>\n",
       "      <td>solano</td>\n",
       "      <td>ramp</td>\n",
       "      <td>normal</td>\n",
       "      <td>22.0</td>\n",
       "      <td>2012-01-02</td>\n",
       "      <td>1</td>\n",
       "    </tr>\n",
       "    <tr>\n",
       "      <td>2</td>\n",
       "      <td>had not been drinking</td>\n",
       "      <td>None</td>\n",
       "      <td>0.0</td>\n",
       "      <td>NaN</td>\n",
       "      <td>clear</td>\n",
       "      <td>dry</td>\n",
       "      <td>dark with street lights</td>\n",
       "      <td>orange</td>\n",
       "      <td>None</td>\n",
       "      <td>normal</td>\n",
       "      <td>59.0</td>\n",
       "      <td>2012-01-01</td>\n",
       "      <td>0</td>\n",
       "    </tr>\n",
       "    <tr>\n",
       "      <td>3</td>\n",
       "      <td>had not been drinking</td>\n",
       "      <td>None</td>\n",
       "      <td>0.0</td>\n",
       "      <td>3.0</td>\n",
       "      <td>fog</td>\n",
       "      <td>dry</td>\n",
       "      <td>dark with no street lights</td>\n",
       "      <td>san joaquin</td>\n",
       "      <td>highway</td>\n",
       "      <td>normal</td>\n",
       "      <td>30.0</td>\n",
       "      <td>2012-01-01</td>\n",
       "      <td>1</td>\n",
       "    </tr>\n",
       "    <tr>\n",
       "      <td>4</td>\n",
       "      <td>had not been drinking</td>\n",
       "      <td>None</td>\n",
       "      <td>0.0</td>\n",
       "      <td>3.0</td>\n",
       "      <td>clear</td>\n",
       "      <td>dry</td>\n",
       "      <td>daylight</td>\n",
       "      <td>los angeles</td>\n",
       "      <td>highway</td>\n",
       "      <td>normal</td>\n",
       "      <td>20.0</td>\n",
       "      <td>2012-01-08</td>\n",
       "      <td>1</td>\n",
       "    </tr>\n",
       "    <tr>\n",
       "      <td>...</td>\n",
       "      <td>...</td>\n",
       "      <td>...</td>\n",
       "      <td>...</td>\n",
       "      <td>...</td>\n",
       "      <td>...</td>\n",
       "      <td>...</td>\n",
       "      <td>...</td>\n",
       "      <td>...</td>\n",
       "      <td>...</td>\n",
       "      <td>...</td>\n",
       "      <td>...</td>\n",
       "      <td>...</td>\n",
       "      <td>...</td>\n",
       "    </tr>\n",
       "    <tr>\n",
       "      <td>56243</td>\n",
       "      <td>had not been drinking</td>\n",
       "      <td>None</td>\n",
       "      <td>0.0</td>\n",
       "      <td>2.0</td>\n",
       "      <td>raining</td>\n",
       "      <td>wet</td>\n",
       "      <td>daylight</td>\n",
       "      <td>riverside</td>\n",
       "      <td>ramp</td>\n",
       "      <td>normal</td>\n",
       "      <td>16.0</td>\n",
       "      <td>2012-03-17</td>\n",
       "      <td>1</td>\n",
       "    </tr>\n",
       "    <tr>\n",
       "      <td>56244</td>\n",
       "      <td>had not been drinking</td>\n",
       "      <td>None</td>\n",
       "      <td>0.0</td>\n",
       "      <td>6.0</td>\n",
       "      <td>cloudy</td>\n",
       "      <td>dry</td>\n",
       "      <td>dark with street lights</td>\n",
       "      <td>los angeles</td>\n",
       "      <td>highway</td>\n",
       "      <td>normal</td>\n",
       "      <td>40.0</td>\n",
       "      <td>2012-03-16</td>\n",
       "      <td>1</td>\n",
       "    </tr>\n",
       "    <tr>\n",
       "      <td>56245</td>\n",
       "      <td>had been drinking, under influence</td>\n",
       "      <td>None</td>\n",
       "      <td>0.0</td>\n",
       "      <td>3.0</td>\n",
       "      <td>clear</td>\n",
       "      <td>dry</td>\n",
       "      <td>dark with street lights</td>\n",
       "      <td>orange</td>\n",
       "      <td>None</td>\n",
       "      <td>normal</td>\n",
       "      <td>21.0</td>\n",
       "      <td>2012-03-25</td>\n",
       "      <td>1</td>\n",
       "    </tr>\n",
       "    <tr>\n",
       "      <td>56246</td>\n",
       "      <td>had been drinking, not under influence</td>\n",
       "      <td>None</td>\n",
       "      <td>0.0</td>\n",
       "      <td>3.0</td>\n",
       "      <td>clear</td>\n",
       "      <td>dry</td>\n",
       "      <td>dark with no street lights</td>\n",
       "      <td>tulare</td>\n",
       "      <td>highway</td>\n",
       "      <td>normal</td>\n",
       "      <td>24.0</td>\n",
       "      <td>2012-05-20</td>\n",
       "      <td>1</td>\n",
       "    </tr>\n",
       "    <tr>\n",
       "      <td>56247</td>\n",
       "      <td>had not been drinking</td>\n",
       "      <td>under drug influence</td>\n",
       "      <td>0.0</td>\n",
       "      <td>7.0</td>\n",
       "      <td>clear</td>\n",
       "      <td>dry</td>\n",
       "      <td>daylight</td>\n",
       "      <td>tulare</td>\n",
       "      <td>highway</td>\n",
       "      <td>normal</td>\n",
       "      <td>45.0</td>\n",
       "      <td>2012-05-23</td>\n",
       "      <td>1</td>\n",
       "    </tr>\n",
       "  </tbody>\n",
       "</table>\n",
       "<p>56248 rows × 13 columns</p>\n",
       "</div>"
      ],
      "text/plain": [
       "                               party_sobriety   party_drug_physical  \\\n",
       "0                       had not been drinking                  None   \n",
       "1                       had not been drinking                  None   \n",
       "2                       had not been drinking                  None   \n",
       "3                       had not been drinking                  None   \n",
       "4                       had not been drinking                  None   \n",
       "...                                       ...                   ...   \n",
       "56243                   had not been drinking                  None   \n",
       "56244                   had not been drinking                  None   \n",
       "56245      had been drinking, under influence                  None   \n",
       "56246  had been drinking, not under influence                  None   \n",
       "56247                   had not been drinking  under drug influence   \n",
       "\n",
       "       cellphone_in_use  vehicle_age weather_1 road_surface  \\\n",
       "0                   0.0         10.0     clear          dry   \n",
       "1                   0.0          3.0    cloudy          dry   \n",
       "2                   0.0          NaN     clear          dry   \n",
       "3                   0.0          3.0       fog          dry   \n",
       "4                   0.0          3.0     clear          dry   \n",
       "...                 ...          ...       ...          ...   \n",
       "56243               0.0          2.0   raining          wet   \n",
       "56244               0.0          6.0    cloudy          dry   \n",
       "56245               0.0          3.0     clear          dry   \n",
       "56246               0.0          3.0     clear          dry   \n",
       "56247               0.0          7.0     clear          dry   \n",
       "\n",
       "                         lighting county_location location_type  \\\n",
       "0         dark with street lights    contra costa          None   \n",
       "1                        daylight          solano          ramp   \n",
       "2         dark with street lights          orange          None   \n",
       "3      dark with no street lights     san joaquin       highway   \n",
       "4                        daylight     los angeles       highway   \n",
       "...                           ...             ...           ...   \n",
       "56243                    daylight       riverside          ramp   \n",
       "56244     dark with street lights     los angeles       highway   \n",
       "56245     dark with street lights          orange          None   \n",
       "56246  dark with no street lights          tulare       highway   \n",
       "56247                    daylight          tulare       highway   \n",
       "\n",
       "      road_condition_1  insurance_premium collision_date  at_fault  \n",
       "0               normal               54.0     2012-01-15         0  \n",
       "1               normal               22.0     2012-01-02         1  \n",
       "2               normal               59.0     2012-01-01         0  \n",
       "3               normal               30.0     2012-01-01         1  \n",
       "4               normal               20.0     2012-01-08         1  \n",
       "...                ...                ...            ...       ...  \n",
       "56243           normal               16.0     2012-03-17         1  \n",
       "56244           normal               40.0     2012-03-16         1  \n",
       "56245           normal               21.0     2012-03-25         1  \n",
       "56246           normal               24.0     2012-05-20         1  \n",
       "56247           normal               45.0     2012-05-23         1  \n",
       "\n",
       "[56248 rows x 13 columns]"
      ]
     },
     "execution_count": 12,
     "metadata": {},
     "output_type": "execute_result"
    }
   ],
   "source": [
    "df = df[columms]\n",
    "df"
   ]
  },
  {
   "cell_type": "code",
   "execution_count": 13,
   "id": "07e0012b",
   "metadata": {},
   "outputs": [
    {
     "name": "stdout",
     "output_type": "stream",
     "text": [
      "<class 'pandas.core.frame.DataFrame'>\n",
      "RangeIndex: 56248 entries, 0 to 56247\n",
      "Data columns (total 13 columns):\n",
      "party_sobriety         55376 non-null object\n",
      "party_drug_physical    2857 non-null object\n",
      "cellphone_in_use       51777 non-null float64\n",
      "vehicle_age            54554 non-null float64\n",
      "weather_1              56080 non-null object\n",
      "road_surface           55900 non-null object\n",
      "lighting               56094 non-null object\n",
      "county_location        56248 non-null object\n",
      "location_type          25932 non-null object\n",
      "road_condition_1       55999 non-null object\n",
      "insurance_premium      55701 non-null float64\n",
      "collision_date         56248 non-null object\n",
      "at_fault               56248 non-null int64\n",
      "dtypes: float64(3), int64(1), object(9)\n",
      "memory usage: 5.6+ MB\n"
     ]
    }
   ],
   "source": [
    "df.info()"
   ]
  },
  {
   "cell_type": "markdown",
   "id": "d0732adf",
   "metadata": {},
   "source": [
    "#### Дубликаты"
   ]
  },
  {
   "cell_type": "code",
   "execution_count": 14,
   "id": "c19adfa6",
   "metadata": {},
   "outputs": [
    {
     "data": {
      "text/plain": [
       "586"
      ]
     },
     "execution_count": 14,
     "metadata": {},
     "output_type": "execute_result"
    }
   ],
   "source": [
    "df.duplicated().sum()"
   ]
  },
  {
   "cell_type": "code",
   "execution_count": 15,
   "id": "901d70c7",
   "metadata": {},
   "outputs": [],
   "source": [
    "df = df.drop_duplicates()"
   ]
  },
  {
   "cell_type": "markdown",
   "id": "a65262d6",
   "metadata": {},
   "source": [
    "Практически все признаки категориальные. Уже сейчас видно, что есть признаки с большим количеством пропусков `party_drug_physical` и `location_type`"
   ]
  },
  {
   "cell_type": "code",
   "execution_count": 16,
   "id": "ba6d5fa8",
   "metadata": {},
   "outputs": [
    {
     "name": "stdout",
     "output_type": "stream",
     "text": [
      "party_sobriety - 2.0%\n",
      "party_drug_physical - 95.0%\n",
      "cellphone_in_use - 8.0%\n",
      "vehicle_age - 3.0%\n",
      "weather_1 - 0.0%\n",
      "road_surface - 1.0%\n",
      "lighting - 0.0%\n",
      "county_location - 0.0%\n",
      "location_type - 54.0%\n",
      "road_condition_1 - 0.0%\n",
      "insurance_premium - 1.0%\n",
      "collision_date - 0.0%\n",
      "at_fault - 0.0%\n"
     ]
    }
   ],
   "source": [
    "# Оценка количества пропусков в процентном соотношении\n",
    "\n",
    "for col in df.columns:\n",
    "    pct_missing = np.mean(df[col].isnull())\n",
    "    print('{} - {}%'.format(col, round(pct_missing*100)))"
   ]
  },
  {
   "cell_type": "markdown",
   "id": "4b66f7b4",
   "metadata": {},
   "source": [
    "95% пропусков в признаке состояния водителя и 54% в признаке типа дороги, слишком много, думаю стоит удалить эти признаки"
   ]
  },
  {
   "cell_type": "code",
   "execution_count": 17,
   "id": "43212705",
   "metadata": {
    "scrolled": true
   },
   "outputs": [
    {
     "name": "stdout",
     "output_type": "stream",
     "text": [
      "road_condition_1: 96.08710%\n",
      "normal            53484\n",
      "construction       1001\n",
      "obstruction         248\n",
      "NaN                 247\n",
      "other               228\n",
      "holes               222\n",
      "loose material      128\n",
      "reduced width        72\n",
      "flooded              32\n",
      "Name: road_condition_1, dtype: int64\n",
      "\n"
     ]
    }
   ],
   "source": [
    "# Проверим информативность признаков (выделим те, что имеют больше 95% повторяющихся значений)\n",
    "\n",
    "num_rows = len(df.index)\n",
    "low_information_cols = [] \n",
    "\n",
    "for col in df.columns:\n",
    "    cnts = df[col].value_counts(dropna=False)\n",
    "    top_pct = (cnts/num_rows).iloc[0]\n",
    "    \n",
    "    if top_pct > 0.95:\n",
    "        low_information_cols.append(col)\n",
    "        print('{0}: {1:.5f}%'.format(col, top_pct*100))\n",
    "        print(cnts)\n",
    "        print()"
   ]
  },
  {
   "cell_type": "markdown",
   "id": "f463dff4",
   "metadata": {},
   "source": [
    "Еще один признак на удаление - дорожное состояние. В 96% было нормальным. Этот признак является неинформативным"
   ]
  },
  {
   "cell_type": "markdown",
   "id": "c88deb9f",
   "metadata": {},
   "source": [
    "#### Удаление бесполезных признаков"
   ]
  },
  {
   "cell_type": "code",
   "execution_count": 18,
   "id": "701a0d2e",
   "metadata": {},
   "outputs": [],
   "source": [
    "df.drop(['road_condition_1', 'party_drug_physical', 'location_type'], axis= 1, inplace=True)"
   ]
  },
  {
   "cell_type": "code",
   "execution_count": 19,
   "id": "39754537",
   "metadata": {},
   "outputs": [
    {
     "name": "stdout",
     "output_type": "stream",
     "text": [
      "<class 'pandas.core.frame.DataFrame'>\n",
      "Int64Index: 55662 entries, 0 to 56247\n",
      "Data columns (total 10 columns):\n",
      "party_sobriety       54795 non-null object\n",
      "cellphone_in_use     51212 non-null float64\n",
      "vehicle_age          53969 non-null float64\n",
      "weather_1            55494 non-null object\n",
      "road_surface         55314 non-null object\n",
      "lighting             55508 non-null object\n",
      "county_location      55662 non-null object\n",
      "insurance_premium    55119 non-null float64\n",
      "collision_date       55662 non-null object\n",
      "at_fault             55662 non-null int64\n",
      "dtypes: float64(3), int64(1), object(6)\n",
      "memory usage: 4.7+ MB\n"
     ]
    }
   ],
   "source": [
    "df.info()"
   ]
  },
  {
   "cell_type": "code",
   "execution_count": 20,
   "id": "8cf1f132",
   "metadata": {},
   "outputs": [
    {
     "data": {
      "text/html": [
       "<div>\n",
       "<style scoped>\n",
       "    .dataframe tbody tr th:only-of-type {\n",
       "        vertical-align: middle;\n",
       "    }\n",
       "\n",
       "    .dataframe tbody tr th {\n",
       "        vertical-align: top;\n",
       "    }\n",
       "\n",
       "    .dataframe thead th {\n",
       "        text-align: right;\n",
       "    }\n",
       "</style>\n",
       "<table border=\"1\" class=\"dataframe\">\n",
       "  <thead>\n",
       "    <tr style=\"text-align: right;\">\n",
       "      <th></th>\n",
       "      <th>party_sobriety</th>\n",
       "      <th>cellphone_in_use</th>\n",
       "      <th>vehicle_age</th>\n",
       "      <th>weather_1</th>\n",
       "      <th>road_surface</th>\n",
       "      <th>lighting</th>\n",
       "      <th>county_location</th>\n",
       "      <th>insurance_premium</th>\n",
       "      <th>collision_date</th>\n",
       "      <th>at_fault</th>\n",
       "    </tr>\n",
       "  </thead>\n",
       "  <tbody>\n",
       "    <tr>\n",
       "      <td>count</td>\n",
       "      <td>54795</td>\n",
       "      <td>51212.000000</td>\n",
       "      <td>53969.000000</td>\n",
       "      <td>55494</td>\n",
       "      <td>55314</td>\n",
       "      <td>55508</td>\n",
       "      <td>55662</td>\n",
       "      <td>55119.000000</td>\n",
       "      <td>55662</td>\n",
       "      <td>55662.000000</td>\n",
       "    </tr>\n",
       "    <tr>\n",
       "      <td>unique</td>\n",
       "      <td>6</td>\n",
       "      <td>NaN</td>\n",
       "      <td>NaN</td>\n",
       "      <td>7</td>\n",
       "      <td>4</td>\n",
       "      <td>5</td>\n",
       "      <td>58</td>\n",
       "      <td>NaN</td>\n",
       "      <td>366</td>\n",
       "      <td>NaN</td>\n",
       "    </tr>\n",
       "    <tr>\n",
       "      <td>top</td>\n",
       "      <td>had not been drinking</td>\n",
       "      <td>NaN</td>\n",
       "      <td>NaN</td>\n",
       "      <td>clear</td>\n",
       "      <td>dry</td>\n",
       "      <td>daylight</td>\n",
       "      <td>los angeles</td>\n",
       "      <td>NaN</td>\n",
       "      <td>2012-03-17</td>\n",
       "      <td>NaN</td>\n",
       "    </tr>\n",
       "    <tr>\n",
       "      <td>freq</td>\n",
       "      <td>48035</td>\n",
       "      <td>NaN</td>\n",
       "      <td>NaN</td>\n",
       "      <td>44558</td>\n",
       "      <td>49683</td>\n",
       "      <td>37602</td>\n",
       "      <td>15831</td>\n",
       "      <td>NaN</td>\n",
       "      <td>566</td>\n",
       "      <td>NaN</td>\n",
       "    </tr>\n",
       "    <tr>\n",
       "      <td>mean</td>\n",
       "      <td>NaN</td>\n",
       "      <td>0.020562</td>\n",
       "      <td>4.863866</td>\n",
       "      <td>NaN</td>\n",
       "      <td>NaN</td>\n",
       "      <td>NaN</td>\n",
       "      <td>NaN</td>\n",
       "      <td>37.680074</td>\n",
       "      <td>NaN</td>\n",
       "      <td>0.504958</td>\n",
       "    </tr>\n",
       "    <tr>\n",
       "      <td>std</td>\n",
       "      <td>NaN</td>\n",
       "      <td>0.141913</td>\n",
       "      <td>3.241516</td>\n",
       "      <td>NaN</td>\n",
       "      <td>NaN</td>\n",
       "      <td>NaN</td>\n",
       "      <td>NaN</td>\n",
       "      <td>16.339192</td>\n",
       "      <td>NaN</td>\n",
       "      <td>0.499980</td>\n",
       "    </tr>\n",
       "    <tr>\n",
       "      <td>min</td>\n",
       "      <td>NaN</td>\n",
       "      <td>0.000000</td>\n",
       "      <td>0.000000</td>\n",
       "      <td>NaN</td>\n",
       "      <td>NaN</td>\n",
       "      <td>NaN</td>\n",
       "      <td>NaN</td>\n",
       "      <td>0.000000</td>\n",
       "      <td>NaN</td>\n",
       "      <td>0.000000</td>\n",
       "    </tr>\n",
       "    <tr>\n",
       "      <td>25%</td>\n",
       "      <td>NaN</td>\n",
       "      <td>0.000000</td>\n",
       "      <td>3.000000</td>\n",
       "      <td>NaN</td>\n",
       "      <td>NaN</td>\n",
       "      <td>NaN</td>\n",
       "      <td>NaN</td>\n",
       "      <td>24.000000</td>\n",
       "      <td>NaN</td>\n",
       "      <td>0.000000</td>\n",
       "    </tr>\n",
       "    <tr>\n",
       "      <td>50%</td>\n",
       "      <td>NaN</td>\n",
       "      <td>0.000000</td>\n",
       "      <td>4.000000</td>\n",
       "      <td>NaN</td>\n",
       "      <td>NaN</td>\n",
       "      <td>NaN</td>\n",
       "      <td>NaN</td>\n",
       "      <td>34.000000</td>\n",
       "      <td>NaN</td>\n",
       "      <td>1.000000</td>\n",
       "    </tr>\n",
       "    <tr>\n",
       "      <td>75%</td>\n",
       "      <td>NaN</td>\n",
       "      <td>0.000000</td>\n",
       "      <td>7.000000</td>\n",
       "      <td>NaN</td>\n",
       "      <td>NaN</td>\n",
       "      <td>NaN</td>\n",
       "      <td>NaN</td>\n",
       "      <td>49.000000</td>\n",
       "      <td>NaN</td>\n",
       "      <td>1.000000</td>\n",
       "    </tr>\n",
       "    <tr>\n",
       "      <td>max</td>\n",
       "      <td>NaN</td>\n",
       "      <td>1.000000</td>\n",
       "      <td>161.000000</td>\n",
       "      <td>NaN</td>\n",
       "      <td>NaN</td>\n",
       "      <td>NaN</td>\n",
       "      <td>NaN</td>\n",
       "      <td>105.000000</td>\n",
       "      <td>NaN</td>\n",
       "      <td>1.000000</td>\n",
       "    </tr>\n",
       "  </tbody>\n",
       "</table>\n",
       "</div>"
      ],
      "text/plain": [
       "               party_sobriety  cellphone_in_use   vehicle_age weather_1  \\\n",
       "count                   54795      51212.000000  53969.000000     55494   \n",
       "unique                      6               NaN           NaN         7   \n",
       "top     had not been drinking               NaN           NaN     clear   \n",
       "freq                    48035               NaN           NaN     44558   \n",
       "mean                      NaN          0.020562      4.863866       NaN   \n",
       "std                       NaN          0.141913      3.241516       NaN   \n",
       "min                       NaN          0.000000      0.000000       NaN   \n",
       "25%                       NaN          0.000000      3.000000       NaN   \n",
       "50%                       NaN          0.000000      4.000000       NaN   \n",
       "75%                       NaN          0.000000      7.000000       NaN   \n",
       "max                       NaN          1.000000    161.000000       NaN   \n",
       "\n",
       "       road_surface  lighting county_location  insurance_premium  \\\n",
       "count         55314     55508           55662       55119.000000   \n",
       "unique            4         5              58                NaN   \n",
       "top             dry  daylight     los angeles                NaN   \n",
       "freq          49683     37602           15831                NaN   \n",
       "mean            NaN       NaN             NaN          37.680074   \n",
       "std             NaN       NaN             NaN          16.339192   \n",
       "min             NaN       NaN             NaN           0.000000   \n",
       "25%             NaN       NaN             NaN          24.000000   \n",
       "50%             NaN       NaN             NaN          34.000000   \n",
       "75%             NaN       NaN             NaN          49.000000   \n",
       "max             NaN       NaN             NaN         105.000000   \n",
       "\n",
       "       collision_date      at_fault  \n",
       "count           55662  55662.000000  \n",
       "unique            366           NaN  \n",
       "top        2012-03-17           NaN  \n",
       "freq              566           NaN  \n",
       "mean              NaN      0.504958  \n",
       "std               NaN      0.499980  \n",
       "min               NaN      0.000000  \n",
       "25%               NaN      0.000000  \n",
       "50%               NaN      1.000000  \n",
       "75%               NaN      1.000000  \n",
       "max               NaN      1.000000  "
      ]
     },
     "execution_count": 20,
     "metadata": {},
     "output_type": "execute_result"
    }
   ],
   "source": [
    "df.describe(include='all')"
   ]
  },
  {
   "cell_type": "code",
   "execution_count": 21,
   "id": "1b6ea134",
   "metadata": {},
   "outputs": [
    {
     "name": "stdout",
     "output_type": "stream",
     "text": [
      "party_sobriety - 2.0%\n",
      "cellphone_in_use - 8.0%\n",
      "vehicle_age - 3.0%\n",
      "weather_1 - 0.0%\n",
      "road_surface - 1.0%\n",
      "lighting - 0.0%\n",
      "county_location - 0.0%\n",
      "insurance_premium - 1.0%\n",
      "collision_date - 0.0%\n",
      "at_fault - 0.0%\n"
     ]
    }
   ],
   "source": [
    "# Оценка количества пропусков в процентном соотношении\n",
    "\n",
    "for col in df.columns:\n",
    "    pct_missing = np.mean(df[col].isnull())\n",
    "    print('{} - {}%'.format(col, round(pct_missing*100)))"
   ]
  },
  {
   "cell_type": "markdown",
   "id": "ba458e52",
   "metadata": {},
   "source": [
    "В оставшихся признаках количество пропусков не превышает 10%, заменим пропуски модой"
   ]
  },
  {
   "cell_type": "code",
   "execution_count": 22,
   "id": "0b212ed0",
   "metadata": {},
   "outputs": [],
   "source": [
    "# Заполнение пропусков наиболее часто встречающимися значениями\n",
    "\n",
    "imputer_1 = SimpleImputer(strategy='most_frequent')\n",
    "imputer_2 = SimpleImputer(missing_values=None, strategy='most_frequent')\n",
    "cols = df.columns\n",
    "\n",
    "df[cols] = imputer_1.fit_transform(df[cols])\n",
    "df[cols] = imputer_2.fit_transform(df[cols])"
   ]
  },
  {
   "cell_type": "code",
   "execution_count": 23,
   "id": "de6edf41",
   "metadata": {},
   "outputs": [
    {
     "data": {
      "text/plain": [
       "party_sobriety       0\n",
       "cellphone_in_use     0\n",
       "vehicle_age          0\n",
       "weather_1            0\n",
       "road_surface         0\n",
       "lighting             0\n",
       "county_location      0\n",
       "insurance_premium    0\n",
       "collision_date       0\n",
       "at_fault             0\n",
       "dtype: int64"
      ]
     },
     "execution_count": 23,
     "metadata": {},
     "output_type": "execute_result"
    }
   ],
   "source": [
    "df.isnull().sum()"
   ]
  },
  {
   "cell_type": "markdown",
   "id": "f15653a5",
   "metadata": {},
   "source": [
    "#### Дубликаты после заполнения пропусков"
   ]
  },
  {
   "cell_type": "code",
   "execution_count": 24,
   "id": "faa9f361",
   "metadata": {},
   "outputs": [
    {
     "data": {
      "text/plain": [
       "826"
      ]
     },
     "execution_count": 24,
     "metadata": {},
     "output_type": "execute_result"
    }
   ],
   "source": [
    "df.duplicated().sum()"
   ]
  },
  {
   "cell_type": "code",
   "execution_count": 25,
   "id": "5bd8a51e",
   "metadata": {},
   "outputs": [],
   "source": [
    "df = df.drop_duplicates()"
   ]
  },
  {
   "cell_type": "code",
   "execution_count": 26,
   "id": "9b911f11",
   "metadata": {},
   "outputs": [
    {
     "data": {
      "text/plain": [
       "(54836, 10)"
      ]
     },
     "execution_count": 26,
     "metadata": {},
     "output_type": "execute_result"
    }
   ],
   "source": [
    "df.shape"
   ]
  },
  {
   "cell_type": "code",
   "execution_count": 27,
   "id": "12dbef7c",
   "metadata": {},
   "outputs": [
    {
     "name": "stdout",
     "output_type": "stream",
     "text": [
      "<class 'pandas.core.frame.DataFrame'>\n",
      "Int64Index: 54836 entries, 0 to 56247\n",
      "Data columns (total 10 columns):\n",
      "party_sobriety       54836 non-null object\n",
      "cellphone_in_use     54836 non-null float64\n",
      "vehicle_age          54836 non-null float64\n",
      "weather_1            54836 non-null object\n",
      "road_surface         54836 non-null object\n",
      "lighting             54836 non-null object\n",
      "county_location      54836 non-null object\n",
      "insurance_premium    54836 non-null float64\n",
      "collision_date       54836 non-null object\n",
      "at_fault             54836 non-null int64\n",
      "dtypes: float64(3), int64(1), object(6)\n",
      "memory usage: 4.6+ MB\n"
     ]
    }
   ],
   "source": [
    "df.info()"
   ]
  },
  {
   "cell_type": "markdown",
   "id": "2edabebf",
   "metadata": {},
   "source": [
    "#### Дата происшествия"
   ]
  },
  {
   "cell_type": "code",
   "execution_count": 28,
   "id": "e03df6f1",
   "metadata": {},
   "outputs": [],
   "source": [
    "# Преобразование в тип datetime\n",
    "df['collision_date'] = pd.to_datetime(df['collision_date'])"
   ]
  },
  {
   "cell_type": "markdown",
   "id": "5f2390c4",
   "metadata": {},
   "source": [
    "Нас интересует только месяц в дате происшествия, собственно выделим его"
   ]
  },
  {
   "cell_type": "code",
   "execution_count": 29,
   "id": "8de50964",
   "metadata": {},
   "outputs": [
    {
     "data": {
      "text/plain": [
       "0        1\n",
       "1        1\n",
       "2        1\n",
       "3        1\n",
       "4        1\n",
       "        ..\n",
       "56243    3\n",
       "56244    3\n",
       "56245    3\n",
       "56246    5\n",
       "56247    5\n",
       "Name: collision_date, Length: 54836, dtype: int64"
      ]
     },
     "execution_count": 29,
     "metadata": {},
     "output_type": "execute_result"
    }
   ],
   "source": [
    "df['collision_date'] = df['collision_date'].dt.month\n",
    "df['collision_date']"
   ]
  },
  {
   "cell_type": "code",
   "execution_count": 30,
   "id": "e2bec828",
   "metadata": {},
   "outputs": [
    {
     "data": {
      "image/png": "[encoded data removed]",
      "text/plain": [
       "<Figure size 1152x576 with 1 Axes>"
      ]
     },
     "metadata": {
      "needs_background": "light"
     },
     "output_type": "display_data"
    }
   ],
   "source": [
    "fig, ax = plt.subplots()\n",
    "ax = df['collision_date'].value_counts().plot.bar()\n",
    "\n",
    "plt.xlabel('Номер месяца', fontsize = 14)\n",
    "plt.ylabel('Количество дтп', fontsize = 14)\n",
    "plt.title('Столбчатая диаграмма количества ДТП по месяцам', fontsize = 16)\n",
    "plt.xticks(rotation='horizontal')\n",
    "plt.show()"
   ]
  },
  {
   "cell_type": "markdown",
   "id": "d93cfdf8",
   "metadata": {},
   "source": [
    "#### Сумма страховки"
   ]
  },
  {
   "cell_type": "code",
   "execution_count": 31,
   "id": "2a2e1ed6",
   "metadata": {},
   "outputs": [
    {
     "data": {
      "image/png": "[encoded data removed]",
      "text/plain": [
       "<Figure size 1152x576 with 1 Axes>"
      ]
     },
     "metadata": {
      "needs_background": "light"
     },
     "output_type": "display_data"
    }
   ],
   "source": [
    "plt.figure(figsize=(16,8))\n",
    "plt.hist(df['insurance_premium'], bins = 100)\n",
    "plt.ylabel('Количество ДТП', fontsize = 14)\n",
    "plt.xlabel('Сумма страховки', fontsize = 14)\n",
    "plt.title('Гистограмма количества ДТП в зависимости от суммы страховки', fontsize = 16)\n",
    "plt.show()"
   ]
  },
  {
   "cell_type": "code",
   "execution_count": 32,
   "id": "6647e33b",
   "metadata": {},
   "outputs": [
    {
     "data": {
      "image/png": "[encoded data removed]",
      "text/plain": [
       "<Figure size 1152x432 with 1 Axes>"
      ]
     },
     "metadata": {
      "needs_background": "light"
     },
     "output_type": "display_data"
    }
   ],
   "source": [
    "plt.figure(figsize=(16, 6))\n",
    "boxplot = sns.boxplot(x = df[\"insurance_premium\"])\n",
    "boxplot.axes.set_title(\"Диаграмма размаха суммы страховки\", fontsize=16)\n",
    "boxplot.set_xlabel(\"Сумма страховки в тыс долларов\", fontsize=14)\n",
    "plt.show()"
   ]
  },
  {
   "cell_type": "code",
   "execution_count": 33,
   "id": "aba75c8f",
   "metadata": {},
   "outputs": [],
   "source": [
    "# Подсчет верхней границы\n",
    "\n",
    "q75,q25 = np.percentile(df['insurance_premium'], [75,25])\n",
    "intr_qr = q75-q25\n",
    "\n",
    "max = q75+(1.5*intr_qr)"
   ]
  },
  {
   "cell_type": "code",
   "execution_count": 34,
   "id": "efcefe79",
   "metadata": {
    "scrolled": true
   },
   "outputs": [
    {
     "data": {
      "text/plain": [
       "86.5"
      ]
     },
     "execution_count": 34,
     "metadata": {},
     "output_type": "execute_result"
    }
   ],
   "source": [
    "max"
   ]
  },
  {
   "cell_type": "markdown",
   "id": "1f6b65b4",
   "metadata": {},
   "source": [
    "Сумма страховки, превыщающая значение 86.5 тыс долларов является выбросами. Удалим их"
   ]
  },
  {
   "cell_type": "code",
   "execution_count": 35,
   "id": "2668ef4f",
   "metadata": {},
   "outputs": [],
   "source": [
    "ind_missing = df.query('vehicle_age > @max').index\n",
    "df.drop(ind_missing, axis=0, inplace = True)"
   ]
  },
  {
   "cell_type": "markdown",
   "id": "f4e817ae",
   "metadata": {},
   "source": [
    "#### Возраст машины"
   ]
  },
  {
   "cell_type": "code",
   "execution_count": 36,
   "id": "546c620a",
   "metadata": {},
   "outputs": [
    {
     "data": {
      "image/png": "[encoded data removed]",
      "text/plain": [
       "<Figure size 1152x576 with 1 Axes>"
      ]
     },
     "metadata": {
      "needs_background": "light"
     },
     "output_type": "display_data"
    }
   ],
   "source": [
    "fig, ax = plt.subplots()\n",
    "ax = df['vehicle_age'].value_counts().plot.bar()\n",
    "\n",
    "plt.xlabel('Возраст машины', fontsize = 14)\n",
    "plt.ylabel('Количество дтп', fontsize = 14)\n",
    "plt.title('Столбчатая диаграмма количества ДТП по возрасту машин', fontsize = 16)\n",
    "plt.xticks(rotation='horizontal')\n",
    "plt.show()"
   ]
  },
  {
   "cell_type": "code",
   "execution_count": 37,
   "id": "47ad60fa",
   "metadata": {},
   "outputs": [
    {
     "data": {
      "image/png": "[encoded data removed]",
      "text/plain": [
       "<Figure size 1152x432 with 1 Axes>"
      ]
     },
     "metadata": {
      "needs_background": "light"
     },
     "output_type": "display_data"
    }
   ],
   "source": [
    "plt.figure(figsize=(16, 6))\n",
    "boxplot = sns.boxplot(x = df[\"vehicle_age\"])\n",
    "boxplot.axes.set_title(\"Диаграмма размаха возраста машины\", fontsize=16)\n",
    "boxplot.set_xlabel(\"Возраст машины\", fontsize=14)\n",
    "plt.show()"
   ]
  },
  {
   "cell_type": "code",
   "execution_count": 38,
   "id": "fdb302c9",
   "metadata": {},
   "outputs": [],
   "source": [
    "# Подсчет верхней границы\n",
    "\n",
    "q75,q25 = np.percentile(df['vehicle_age'], [75,25])\n",
    "intr_qr = q75-q25\n",
    "\n",
    "max = q75+(1.5*intr_qr)"
   ]
  },
  {
   "cell_type": "code",
   "execution_count": 39,
   "id": "b5799358",
   "metadata": {},
   "outputs": [
    {
     "data": {
      "text/plain": [
       "13.0"
      ]
     },
     "execution_count": 39,
     "metadata": {},
     "output_type": "execute_result"
    }
   ],
   "source": [
    "max"
   ]
  },
  {
   "cell_type": "code",
   "execution_count": 40,
   "id": "495d653b",
   "metadata": {},
   "outputs": [
    {
     "data": {
      "text/html": [
       "<div>\n",
       "<style scoped>\n",
       "    .dataframe tbody tr th:only-of-type {\n",
       "        vertical-align: middle;\n",
       "    }\n",
       "\n",
       "    .dataframe tbody tr th {\n",
       "        vertical-align: top;\n",
       "    }\n",
       "\n",
       "    .dataframe thead th {\n",
       "        text-align: right;\n",
       "    }\n",
       "</style>\n",
       "<table border=\"1\" class=\"dataframe\">\n",
       "  <thead>\n",
       "    <tr style=\"text-align: right;\">\n",
       "      <th></th>\n",
       "      <th>party_sobriety</th>\n",
       "      <th>cellphone_in_use</th>\n",
       "      <th>vehicle_age</th>\n",
       "      <th>weather_1</th>\n",
       "      <th>road_surface</th>\n",
       "      <th>lighting</th>\n",
       "      <th>county_location</th>\n",
       "      <th>insurance_premium</th>\n",
       "      <th>collision_date</th>\n",
       "      <th>at_fault</th>\n",
       "    </tr>\n",
       "  </thead>\n",
       "  <tbody>\n",
       "    <tr>\n",
       "      <td>148</td>\n",
       "      <td>had not been drinking</td>\n",
       "      <td>0.0</td>\n",
       "      <td>14.0</td>\n",
       "      <td>clear</td>\n",
       "      <td>dry</td>\n",
       "      <td>daylight</td>\n",
       "      <td>san bernardino</td>\n",
       "      <td>81.0</td>\n",
       "      <td>2</td>\n",
       "      <td>0</td>\n",
       "    </tr>\n",
       "    <tr>\n",
       "      <td>281</td>\n",
       "      <td>had not been drinking</td>\n",
       "      <td>0.0</td>\n",
       "      <td>14.0</td>\n",
       "      <td>clear</td>\n",
       "      <td>dry</td>\n",
       "      <td>daylight</td>\n",
       "      <td>solano</td>\n",
       "      <td>57.0</td>\n",
       "      <td>3</td>\n",
       "      <td>0</td>\n",
       "    </tr>\n",
       "    <tr>\n",
       "      <td>405</td>\n",
       "      <td>had not been drinking</td>\n",
       "      <td>0.0</td>\n",
       "      <td>14.0</td>\n",
       "      <td>clear</td>\n",
       "      <td>dry</td>\n",
       "      <td>daylight</td>\n",
       "      <td>sacramento</td>\n",
       "      <td>64.0</td>\n",
       "      <td>3</td>\n",
       "      <td>1</td>\n",
       "    </tr>\n",
       "    <tr>\n",
       "      <td>591</td>\n",
       "      <td>had not been drinking</td>\n",
       "      <td>0.0</td>\n",
       "      <td>14.0</td>\n",
       "      <td>clear</td>\n",
       "      <td>dry</td>\n",
       "      <td>dark with street lights</td>\n",
       "      <td>orange</td>\n",
       "      <td>53.0</td>\n",
       "      <td>11</td>\n",
       "      <td>0</td>\n",
       "    </tr>\n",
       "    <tr>\n",
       "      <td>1021</td>\n",
       "      <td>had not been drinking</td>\n",
       "      <td>0.0</td>\n",
       "      <td>16.0</td>\n",
       "      <td>clear</td>\n",
       "      <td>dry</td>\n",
       "      <td>daylight</td>\n",
       "      <td>san bernardino</td>\n",
       "      <td>77.0</td>\n",
       "      <td>3</td>\n",
       "      <td>0</td>\n",
       "    </tr>\n",
       "    <tr>\n",
       "      <td>...</td>\n",
       "      <td>...</td>\n",
       "      <td>...</td>\n",
       "      <td>...</td>\n",
       "      <td>...</td>\n",
       "      <td>...</td>\n",
       "      <td>...</td>\n",
       "      <td>...</td>\n",
       "      <td>...</td>\n",
       "      <td>...</td>\n",
       "      <td>...</td>\n",
       "    </tr>\n",
       "    <tr>\n",
       "      <td>55679</td>\n",
       "      <td>had not been drinking</td>\n",
       "      <td>0.0</td>\n",
       "      <td>14.0</td>\n",
       "      <td>clear</td>\n",
       "      <td>dry</td>\n",
       "      <td>daylight</td>\n",
       "      <td>los angeles</td>\n",
       "      <td>88.0</td>\n",
       "      <td>4</td>\n",
       "      <td>1</td>\n",
       "    </tr>\n",
       "    <tr>\n",
       "      <td>55799</td>\n",
       "      <td>had not been drinking</td>\n",
       "      <td>0.0</td>\n",
       "      <td>14.0</td>\n",
       "      <td>clear</td>\n",
       "      <td>dry</td>\n",
       "      <td>daylight</td>\n",
       "      <td>orange</td>\n",
       "      <td>91.0</td>\n",
       "      <td>5</td>\n",
       "      <td>1</td>\n",
       "    </tr>\n",
       "    <tr>\n",
       "      <td>55851</td>\n",
       "      <td>had not been drinking</td>\n",
       "      <td>0.0</td>\n",
       "      <td>14.0</td>\n",
       "      <td>clear</td>\n",
       "      <td>dry</td>\n",
       "      <td>daylight</td>\n",
       "      <td>ventura</td>\n",
       "      <td>90.0</td>\n",
       "      <td>1</td>\n",
       "      <td>0</td>\n",
       "    </tr>\n",
       "    <tr>\n",
       "      <td>55913</td>\n",
       "      <td>had not been drinking</td>\n",
       "      <td>0.0</td>\n",
       "      <td>14.0</td>\n",
       "      <td>clear</td>\n",
       "      <td>dry</td>\n",
       "      <td>daylight</td>\n",
       "      <td>los angeles</td>\n",
       "      <td>91.0</td>\n",
       "      <td>2</td>\n",
       "      <td>1</td>\n",
       "    </tr>\n",
       "    <tr>\n",
       "      <td>55969</td>\n",
       "      <td>had not been drinking</td>\n",
       "      <td>0.0</td>\n",
       "      <td>15.0</td>\n",
       "      <td>clear</td>\n",
       "      <td>dry</td>\n",
       "      <td>dark with street lights</td>\n",
       "      <td>los angeles</td>\n",
       "      <td>92.0</td>\n",
       "      <td>2</td>\n",
       "      <td>1</td>\n",
       "    </tr>\n",
       "  </tbody>\n",
       "</table>\n",
       "<p>325 rows × 10 columns</p>\n",
       "</div>"
      ],
      "text/plain": [
       "              party_sobriety  cellphone_in_use  vehicle_age weather_1  \\\n",
       "148    had not been drinking               0.0         14.0     clear   \n",
       "281    had not been drinking               0.0         14.0     clear   \n",
       "405    had not been drinking               0.0         14.0     clear   \n",
       "591    had not been drinking               0.0         14.0     clear   \n",
       "1021   had not been drinking               0.0         16.0     clear   \n",
       "...                      ...               ...          ...       ...   \n",
       "55679  had not been drinking               0.0         14.0     clear   \n",
       "55799  had not been drinking               0.0         14.0     clear   \n",
       "55851  had not been drinking               0.0         14.0     clear   \n",
       "55913  had not been drinking               0.0         14.0     clear   \n",
       "55969  had not been drinking               0.0         15.0     clear   \n",
       "\n",
       "      road_surface                 lighting county_location  \\\n",
       "148            dry                 daylight  san bernardino   \n",
       "281            dry                 daylight          solano   \n",
       "405            dry                 daylight      sacramento   \n",
       "591            dry  dark with street lights          orange   \n",
       "1021           dry                 daylight  san bernardino   \n",
       "...            ...                      ...             ...   \n",
       "55679          dry                 daylight     los angeles   \n",
       "55799          dry                 daylight          orange   \n",
       "55851          dry                 daylight         ventura   \n",
       "55913          dry                 daylight     los angeles   \n",
       "55969          dry  dark with street lights     los angeles   \n",
       "\n",
       "       insurance_premium  collision_date  at_fault  \n",
       "148                 81.0               2         0  \n",
       "281                 57.0               3         0  \n",
       "405                 64.0               3         1  \n",
       "591                 53.0              11         0  \n",
       "1021                77.0               3         0  \n",
       "...                  ...             ...       ...  \n",
       "55679               88.0               4         1  \n",
       "55799               91.0               5         1  \n",
       "55851               90.0               1         0  \n",
       "55913               91.0               2         1  \n",
       "55969               92.0               2         1  \n",
       "\n",
       "[325 rows x 10 columns]"
      ]
     },
     "execution_count": 40,
     "metadata": {},
     "output_type": "execute_result"
    }
   ],
   "source": [
    "df.query('vehicle_age > @max')"
   ]
  },
  {
   "cell_type": "markdown",
   "id": "d5e99a36",
   "metadata": {},
   "source": [
    "Возраст машины более 13 лет - выбросы, удалим их"
   ]
  },
  {
   "cell_type": "code",
   "execution_count": 41,
   "id": "a6612bff",
   "metadata": {},
   "outputs": [],
   "source": [
    "ind_missing = df.query('vehicle_age > @max').index\n",
    "df.drop(ind_missing, axis=0, inplace = True)"
   ]
  },
  {
   "cell_type": "markdown",
   "id": "418d7d2c",
   "metadata": {},
   "source": [
    "#### Трезвость участника"
   ]
  },
  {
   "cell_type": "code",
   "execution_count": 42,
   "id": "8e335844",
   "metadata": {},
   "outputs": [
    {
     "data": {
      "image/png": "[encoded data removed]",
      "text/plain": [
       "<Figure size 1152x576 with 1 Axes>"
      ]
     },
     "metadata": {
      "needs_background": "light"
     },
     "output_type": "display_data"
    }
   ],
   "source": [
    "fig, ax = plt.subplots()\n",
    "ax = df['party_sobriety'].value_counts().plot.bar()\n",
    "\n",
    "plt.xlabel('Состояние участника', fontsize = 14)\n",
    "plt.ylabel('Количество дтп', fontsize = 14)\n",
    "plt.title('Столбчатая диаграмма количества ДТП по трезвости участника', fontsize = 16)\n",
    "plt.xticks(rotation=45)\n",
    "plt.show()"
   ]
  },
  {
   "cell_type": "markdown",
   "id": "5c0df51b",
   "metadata": {},
   "source": [
    "Подавляющее большинство водителей были трезвы на момент возникновения ДТП"
   ]
  },
  {
   "cell_type": "code",
   "execution_count": 43,
   "id": "6a967ebc",
   "metadata": {},
   "outputs": [
    {
     "data": {
      "text/plain": [
       "had not been drinking                     0.877121\n",
       "had been drinking, under influence        0.080684\n",
       "impairment unknown                        0.022400\n",
       "had been drinking, not under influence    0.010494\n",
       "had been drinking, impairment unknown     0.004715\n",
       "not applicable                            0.004586\n",
       "Name: party_sobriety, dtype: float64"
      ]
     },
     "execution_count": 43,
     "metadata": {},
     "output_type": "execute_result"
    }
   ],
   "source": [
    "df['party_sobriety'].value_counts(normalize=True)"
   ]
  },
  {
   "cell_type": "markdown",
   "id": "3c334240",
   "metadata": {},
   "source": [
    "87% водителей были трезвы, это конечно много, но все же от данной переменной избавляться не будем"
   ]
  },
  {
   "cell_type": "markdown",
   "id": "11dcb0d6",
   "metadata": {},
   "source": [
    "#### Наличие телефона в автомобиле"
   ]
  },
  {
   "cell_type": "code",
   "execution_count": 44,
   "id": "cc358a0c",
   "metadata": {},
   "outputs": [
    {
     "data": {
      "image/png": "[encoded data removed]",
      "text/plain": [
       "<Figure size 1152x576 with 1 Axes>"
      ]
     },
     "metadata": {
      "needs_background": "light"
     },
     "output_type": "display_data"
    }
   ],
   "source": [
    "fig, ax = plt.subplots()\n",
    "ax = df['cellphone_in_use'].value_counts().plot.bar()\n",
    "\n",
    "fig.set_figwidth(16)\n",
    "fig.set_figheight(8)\n",
    "\n",
    "plt.xlabel('Состояние участника', fontsize = 14)\n",
    "plt.ylabel('Количество дтп', fontsize = 14)\n",
    "plt.title('Столбчатая диаграмма количества ДТП по наличию телефона', fontsize = 16)\n",
    "plt.xticks(rotation='horizontal')\n",
    "plt.show()"
   ]
  },
  {
   "cell_type": "code",
   "execution_count": 45,
   "id": "87e4370f",
   "metadata": {},
   "outputs": [
    {
     "data": {
      "text/plain": [
       "0.0    0.980719\n",
       "1.0    0.019281\n",
       "Name: cellphone_in_use, dtype: float64"
      ]
     },
     "execution_count": 45,
     "metadata": {},
     "output_type": "execute_result"
    }
   ],
   "source": [
    "df['cellphone_in_use'].value_counts(normalize=True)"
   ]
  },
  {
   "cell_type": "markdown",
   "id": "66f0b7b9",
   "metadata": {},
   "source": [
    "98% водителей не имели возможности ведения разговора по громкой связи. А вот этот признак уже наверняка не является информативным. Удалим его"
   ]
  },
  {
   "cell_type": "code",
   "execution_count": 46,
   "id": "c2f0fb2d",
   "metadata": {},
   "outputs": [],
   "source": [
    "df.drop(['cellphone_in_use'], axis= 1, inplace=True)"
   ]
  },
  {
   "cell_type": "markdown",
   "id": "fa7d6e7f",
   "metadata": {},
   "source": [
    "#### Погода"
   ]
  },
  {
   "cell_type": "code",
   "execution_count": 47,
   "id": "bf832b00",
   "metadata": {},
   "outputs": [
    {
     "data": {
      "image/png": "[encoded data removed]",
      "text/plain": [
       "<Figure size 1152x576 with 1 Axes>"
      ]
     },
     "metadata": {
      "needs_background": "light"
     },
     "output_type": "display_data"
    }
   ],
   "source": [
    "fig, ax = plt.subplots()\n",
    "ax = df['weather_1'].value_counts().plot.bar()\n",
    "\n",
    "plt.xlabel('Типы погоды', fontsize = 14)\n",
    "plt.ylabel('Количество дтп', fontsize = 14)\n",
    "plt.title('Столбчатая диаграмма по погоде', fontsize = 16)\n",
    "plt.xticks(rotation='horizontal')\n",
    "plt.show()"
   ]
  },
  {
   "cell_type": "markdown",
   "id": "904bcebf",
   "metadata": {},
   "source": [
    "Большую часть происшествий зафиксировали в ясную погоду"
   ]
  },
  {
   "cell_type": "markdown",
   "id": "2731fbc6",
   "metadata": {},
   "source": [
    "#### Состояние дороги"
   ]
  },
  {
   "cell_type": "code",
   "execution_count": 48,
   "id": "502c1a4c",
   "metadata": {},
   "outputs": [
    {
     "data": {
      "image/png": "[encoded data removed]",
      "text/plain": [
       "<Figure size 1152x576 with 1 Axes>"
      ]
     },
     "metadata": {
      "needs_background": "light"
     },
     "output_type": "display_data"
    }
   ],
   "source": [
    "fig, ax = plt.subplots()\n",
    "ax = df['road_surface'].value_counts().plot.bar()\n",
    "\n",
    "plt.xlabel('Состояние', fontsize = 14)\n",
    "plt.ylabel('Количество дтп', fontsize = 14)\n",
    "plt.title('Столбчатая диаграмма по состояниям дороги', fontsize = 16)\n",
    "plt.xticks(rotation='horizontal')\n",
    "plt.show()"
   ]
  },
  {
   "cell_type": "code",
   "execution_count": 49,
   "id": "f7630f8b",
   "metadata": {},
   "outputs": [
    {
     "data": {
      "text/plain": [
       "dry         0.897797\n",
       "wet         0.094865\n",
       "snowy       0.006549\n",
       "slippery    0.000789\n",
       "Name: road_surface, dtype: float64"
      ]
     },
     "execution_count": 49,
     "metadata": {},
     "output_type": "execute_result"
    }
   ],
   "source": [
    "df['road_surface'].value_counts(normalize=True)"
   ]
  },
  {
   "cell_type": "markdown",
   "id": "2219cc2f",
   "metadata": {},
   "source": [
    "Возможно этот признак тоже следовало бы удалить, но пока что оставим его"
   ]
  },
  {
   "cell_type": "markdown",
   "id": "b2fbc3c8",
   "metadata": {},
   "source": [
    "#### Освещение"
   ]
  },
  {
   "cell_type": "code",
   "execution_count": 50,
   "id": "727a2dd1",
   "metadata": {},
   "outputs": [
    {
     "data": {
      "image/png": "[encoded data removed]",
      "text/plain": [
       "<Figure size 1152x576 with 1 Axes>"
      ]
     },
     "metadata": {
      "needs_background": "light"
     },
     "output_type": "display_data"
    }
   ],
   "source": [
    "fig, ax = plt.subplots()\n",
    "ax = df['lighting'].value_counts().plot.bar()\n",
    "\n",
    "plt.xlabel('Виды освещения', fontsize = 14)\n",
    "plt.ylabel('Количество дтп', fontsize = 14)\n",
    "plt.title('Столбчатая диаграмма по освещению', fontsize = 16)\n",
    "plt.xticks(rotation='horizontal')\n",
    "plt.show()"
   ]
  },
  {
   "cell_type": "markdown",
   "id": "c846275e",
   "metadata": {},
   "source": [
    "Больше половины дтп произошли при дневном свете"
   ]
  },
  {
   "cell_type": "markdown",
   "id": "afa6c23d",
   "metadata": {},
   "source": [
    "#### Название географического региона"
   ]
  },
  {
   "cell_type": "code",
   "execution_count": 51,
   "id": "2f69460f",
   "metadata": {},
   "outputs": [
    {
     "data": {
      "image/png": "[encoded data removed]",
      "text/plain": [
       "<Figure size 1152x576 with 1 Axes>"
      ]
     },
     "metadata": {
      "needs_background": "light"
     },
     "output_type": "display_data"
    }
   ],
   "source": [
    "fig, ax = plt.subplots()\n",
    "ax = df['county_location'].value_counts().plot.barh()\n",
    "\n",
    "plt.xlabel('Состояние', fontsize = 14)\n",
    "plt.ylabel('Количество дтп', fontsize = 14)\n",
    "plt.title('Столбчатая диаграмма по состояниям дороги', fontsize = 16)\n",
    "plt.xticks(rotation='horizontal')\n",
    "plt.show()"
   ]
  },
  {
   "cell_type": "markdown",
   "id": "a728b34e",
   "metadata": {},
   "source": [
    "Если рассматривать количество дтп по городам, то тут заметно, что большая часть происшествий произошла в самом крупном городе из штата Калифорния - Лос-Анджелесе. "
   ]
  },
  {
   "cell_type": "markdown",
   "id": "d21a9ddc",
   "metadata": {},
   "source": [
    "#### Дубликаты, которые могли возникнуть после преобразования данных"
   ]
  },
  {
   "cell_type": "code",
   "execution_count": 52,
   "id": "37377eac",
   "metadata": {},
   "outputs": [
    {
     "data": {
      "text/plain": [
       "11184"
      ]
     },
     "execution_count": 52,
     "metadata": {},
     "output_type": "execute_result"
    }
   ],
   "source": [
    "df.duplicated().sum()"
   ]
  },
  {
   "cell_type": "code",
   "execution_count": 53,
   "id": "3c7a71bc",
   "metadata": {},
   "outputs": [],
   "source": [
    "df = df.drop_duplicates()"
   ]
  },
  {
   "cell_type": "code",
   "execution_count": 54,
   "id": "4c698691",
   "metadata": {},
   "outputs": [
    {
     "data": {
      "text/plain": [
       "(43325, 9)"
      ]
     },
     "execution_count": 54,
     "metadata": {},
     "output_type": "execute_result"
    }
   ],
   "source": [
    "df.shape"
   ]
  },
  {
   "cell_type": "markdown",
   "id": "ed6cbbac",
   "metadata": {},
   "source": [
    "#### Вывод\n",
    "\n",
    "В отобранных данных было много пропусков, выбросов и дубликатов. От всего этого избавились, можно идти дальше"
   ]
  },
  {
   "cell_type": "markdown",
   "id": "5d4dcb86",
   "metadata": {},
   "source": [
    "Большая часть признаков - это названия городов, удалим данный признак для ускорения обучения моделей"
   ]
  },
  {
   "cell_type": "code",
   "execution_count": 55,
   "id": "4142fa09",
   "metadata": {},
   "outputs": [],
   "source": [
    "df.drop(['county_location'], axis= 1, inplace=True)"
   ]
  },
  {
   "cell_type": "markdown",
   "id": "e0833cba",
   "metadata": {},
   "source": [
    "### Подготовка выборок и масштабирование данных"
   ]
  },
  {
   "cell_type": "code",
   "execution_count": 56,
   "id": "73136018",
   "metadata": {},
   "outputs": [],
   "source": [
    "x = df.drop(columns=['at_fault'])\n",
    "y = df['at_fault']\n",
    "\n",
    "x_train, x_test, y_train, y_test = train_test_split(\n",
    "    x, \n",
    "    y, \n",
    "    test_size=0.3,\n",
    "    random_state = 67)\n",
    "\n",
    "scaler = StandardScaler()\n",
    "ord_enc = OrdinalEncoder(handle_unknown='use_encoded_value', unknown_value= -1)\n",
    "ohe_enc = OneHotEncoder(handle_unknown='ignore', drop='first')\n",
    "\n",
    "num_cols = df.select_dtypes(include=['float64', 'int64']).columns.to_list()\n",
    "num_cols.remove('at_fault')\n",
    "cat_cols = df.select_dtypes(include=['object']).columns.to_list()\n",
    "\n",
    "# Создание преобразованных строк ohe\n",
    "cols_train_ohe = ohe_enc.fit_transform(x_train[cat_cols])\n",
    "cols_train_ohe = pd.DataFrame(cols_train_ohe.todense(), columns=ohe_enc.get_feature_names())\n",
    "\n",
    "cols_test_ohe = ohe_enc.transform(x_test[cat_cols])\n",
    "cols_test_ohe = pd.DataFrame(cols_test_ohe.todense(), columns=ohe_enc.get_feature_names())\n",
    "\n",
    "# Объединение с числовыми признаками\n",
    "x_train_ohe = x_train[num_cols].reset_index(drop=True).join(cols_train_ohe)\n",
    "x_test_ohe = x_test[num_cols].reset_index(drop=True).join(cols_test_ohe)\n",
    "\n",
    "# Создание выборок с порядковым кодированием\n",
    "x_train_ord = pd.DataFrame(ord_enc.fit_transform(x_train), columns=x_train.columns)\n",
    "x_test_ord = pd.DataFrame(ord_enc.transform(x_test), columns=x_test.columns)\n",
    "\n",
    "# Масштабирование\n",
    "x_train_ohe[num_cols] = scaler.fit_transform(x_train_ohe[num_cols])\n",
    "x_test_ohe[num_cols] = scaler.transform(x_test_ohe[num_cols])\n",
    "\n",
    "x_train_ord[num_cols] = scaler.fit_transform(x_train_ord[num_cols])\n",
    "x_test_ord[num_cols] = scaler.transform(x_test_ord[num_cols])\n"
   ]
  },
  {
   "cell_type": "code",
   "execution_count": 57,
   "id": "ff8447a3",
   "metadata": {},
   "outputs": [
    {
     "data": {
      "text/plain": [
       "(30327, 21)"
      ]
     },
     "execution_count": 57,
     "metadata": {},
     "output_type": "execute_result"
    }
   ],
   "source": [
    "x_train_ohe.shape"
   ]
  },
  {
   "cell_type": "code",
   "execution_count": 58,
   "id": "37b3035a",
   "metadata": {},
   "outputs": [
    {
     "data": {
      "text/plain": [
       "(12998, 21)"
      ]
     },
     "execution_count": 58,
     "metadata": {},
     "output_type": "execute_result"
    }
   ],
   "source": [
    "x_test_ohe.shape"
   ]
  },
  {
   "cell_type": "code",
   "execution_count": 59,
   "id": "2ae4d333",
   "metadata": {},
   "outputs": [
    {
     "data": {
      "text/plain": [
       "(30327, 7)"
      ]
     },
     "execution_count": 59,
     "metadata": {},
     "output_type": "execute_result"
    }
   ],
   "source": [
    "x_train_ord.shape"
   ]
  },
  {
   "cell_type": "code",
   "execution_count": 60,
   "id": "1b1a2fdf",
   "metadata": {},
   "outputs": [
    {
     "data": {
      "text/plain": [
       "(12998, 7)"
      ]
     },
     "execution_count": 60,
     "metadata": {},
     "output_type": "execute_result"
    }
   ],
   "source": [
    "x_test_ord.shape"
   ]
  },
  {
   "cell_type": "markdown",
   "id": "647912b7",
   "metadata": {},
   "source": [
    "### Исследование баланса классов"
   ]
  },
  {
   "cell_type": "code",
   "execution_count": 61,
   "id": "d3985d02",
   "metadata": {},
   "outputs": [
    {
     "data": {
      "text/plain": [
       "1    0.513029\n",
       "0    0.486971\n",
       "Name: at_fault, dtype: float64"
      ]
     },
     "execution_count": 61,
     "metadata": {},
     "output_type": "execute_result"
    }
   ],
   "source": [
    "df['at_fault'].value_counts(normalize=True)"
   ]
  },
  {
   "cell_type": "markdown",
   "id": "01df358d",
   "metadata": {},
   "source": [
    "51% виновных и 49% невиновных - классы сбалансированны"
   ]
  },
  {
   "cell_type": "markdown",
   "id": "be905878",
   "metadata": {},
   "source": [
    "## Построение моделей"
   ]
  },
  {
   "cell_type": "markdown",
   "id": "025a720a",
   "metadata": {},
   "source": [
    "Поскольку наши классы сбалансированны, в качестве оптимизационной метрики можно взять `accuracy`. Помимо нее посчитаем `f1` и `auc-roc`"
   ]
  },
  {
   "cell_type": "markdown",
   "id": "d84e928a",
   "metadata": {},
   "source": [
    "### Логистическая регрессия"
   ]
  },
  {
   "cell_type": "code",
   "execution_count": 62,
   "id": "ae8d54be",
   "metadata": {},
   "outputs": [],
   "source": [
    "model_lr = LogisticRegression()\n",
    "cv_lr = RepeatedStratifiedKFold(n_splits=5, n_repeats=2, random_state=67)\n",
    "\n",
    "# Пространство поиска\n",
    "space = {'solver': ['newton-cg', 'lbfgs', 'liblinear'],\n",
    "         'penalty': ['none', 'l1', 'l2', 'elasticnet'],\n",
    "         'C': loguniform(1e-5, 100)\n",
    "    \n",
    "}\n",
    "\n",
    "search = RandomizedSearchCV(model_lr, space, n_iter=5, scoring='accuracy', n_jobs=-1, cv=cv_lr, random_state=67)\n",
    "\n",
    "result = search.fit(x_train_ohe, y_train)"
   ]
  },
  {
   "cell_type": "code",
   "execution_count": 63,
   "id": "e0667cc0",
   "metadata": {},
   "outputs": [
    {
     "name": "stdout",
     "output_type": "stream",
     "text": [
      "Лучшие гиперпараметры: {'C': 0.6327732420620185, 'penalty': 'l1', 'solver': 'liblinear'}\n"
     ]
    }
   ],
   "source": [
    "print('Лучшие гиперпараметры: %s' % result.best_params_)"
   ]
  },
  {
   "cell_type": "code",
   "execution_count": 64,
   "id": "0425c866",
   "metadata": {},
   "outputs": [
    {
     "data": {
      "text/plain": [
       "{'fit_time': array([0.86325407, 0.87373614, 0.84128213, 0.94576001, 0.78553987]),\n",
       " 'score_time': array([0.01239181, 0.01148486, 0.01844573, 0.01143909, 0.01110697]),\n",
       " 'test_accuracy': array([0.62677217, 0.62050775, 0.60230833, 0.62539159, 0.62308326]),\n",
       " 'test_f1': array([0.56072953, 0.55662558, 0.52853792, 0.54541817, 0.54786392]),\n",
       " 'test_roc_auc': array([0.6594718 , 0.65892055, 0.63990713, 0.66204407, 0.66516164])}"
      ]
     },
     "execution_count": 64,
     "metadata": {},
     "output_type": "execute_result"
    }
   ],
   "source": [
    "# Кросс-валидация \n",
    "\n",
    "model_lr = result.best_estimator_\n",
    "scores_lr = cross_validate(model_lr, x_train_ohe, y_train, cv=5, scoring=('accuracy', 'f1', 'roc_auc'))\n",
    "scores_lr"
   ]
  },
  {
   "cell_type": "code",
   "execution_count": 65,
   "id": "05670c91",
   "metadata": {},
   "outputs": [
    {
     "data": {
      "image/png": "[encoded data removed]",
      "text/plain": [
       "<Figure size 1152x576 with 1 Axes>"
      ]
     },
     "metadata": {
      "needs_background": "light"
     },
     "output_type": "display_data"
    }
   ],
   "source": [
    "# Построение ROC кривой\n",
    "fpr, tpr, thresholds = roc_curve(y_train, model_lr.predict_proba(x_train_ohe)[:,1])\n",
    "plt.figure()\n",
    "plt.plot(fpr, tpr, label='Logistic Regression (area = %0.2f)' % scores_lr['test_roc_auc'].mean())\n",
    "plt.plot([0, 1], [0, 1],'r--')\n",
    "plt.xlim([0.0, 1.0])\n",
    "plt.ylim([0.0, 1.05])\n",
    "plt.xlabel('False Positive Rate', fontsize=14)\n",
    "plt.ylabel('True Positive Rate', fontsize=14)\n",
    "plt.title('ROC кривая', fontsize=16)\n",
    "plt.legend(loc=\"lower right\", fontsize=14)\n",
    "plt.show()"
   ]
  },
  {
   "cell_type": "markdown",
   "id": "7471dc22",
   "metadata": {},
   "source": [
    "### Модель случайного леса"
   ]
  },
  {
   "cell_type": "code",
   "execution_count": 66,
   "id": "fc674cbb",
   "metadata": {},
   "outputs": [],
   "source": [
    "model_rf = RandomForestClassifier()\n",
    "\n",
    "cv_rf = RepeatedStratifiedKFold(n_splits=5, n_repeats=2, random_state=67)\n",
    "\n",
    "# Пространство поиска\n",
    "space = {'bootstrap': [True, False],\n",
    "         'max_depth': [10, 20, 30, 40, 50, 60, 70, 80, 90, 100, 110, None],\n",
    "         'max_features': ['log2', 'sqrt', None],\n",
    "         'min_samples_leaf': [1, 2, 4],\n",
    "         'min_samples_split': [2, 5, 10],\n",
    "         'n_estimators': [100, 150, 200]}\n",
    "\n",
    "search = RandomizedSearchCV(model_rf, space, n_iter=5, scoring='accuracy', n_jobs=-1, cv=cv_rf, random_state=67)\n",
    "\n",
    "result = search.fit(x_train_ord, y_train)"
   ]
  },
  {
   "cell_type": "code",
   "execution_count": 67,
   "id": "5b12b814",
   "metadata": {},
   "outputs": [
    {
     "name": "stdout",
     "output_type": "stream",
     "text": [
      "Лучшие гиперпараметры: {'n_estimators': 150, 'min_samples_split': 10, 'min_samples_leaf': 1, 'max_features': 'log2', 'max_depth': 10, 'bootstrap': True}\n"
     ]
    }
   ],
   "source": [
    "print('Лучшие гиперпараметры: %s' % result.best_params_)"
   ]
  },
  {
   "cell_type": "code",
   "execution_count": 68,
   "id": "52c9efac",
   "metadata": {},
   "outputs": [
    {
     "data": {
      "text/plain": [
       "{'fit_time': array([1.24819684, 1.18720102, 1.16676307, 1.6274538 , 1.86756921]),\n",
       " 'score_time': array([0.19327807, 0.18389511, 0.1779933 , 0.1924932 , 0.20647287]),\n",
       " 'test_accuracy': array([0.63386086, 0.63287174, 0.62061006, 0.63165705, 0.6370981 ]),\n",
       " 'test_f1': array([0.57476546, 0.57540515, 0.55741489, 0.57021932, 0.57972121]),\n",
       " 'test_roc_auc': array([0.68211556, 0.67969649, 0.66737868, 0.68321313, 0.68036194])}"
      ]
     },
     "execution_count": 68,
     "metadata": {},
     "output_type": "execute_result"
    }
   ],
   "source": [
    "# Кросс-валидация\n",
    "\n",
    "model_rf = result.best_estimator_\n",
    "scores_rf = cross_validate(model_rf, x_train_ord, y_train, cv=5, scoring=('accuracy', 'f1', 'roc_auc'))\n",
    "scores_rf"
   ]
  },
  {
   "cell_type": "code",
   "execution_count": 69,
   "id": "345d6cf9",
   "metadata": {},
   "outputs": [
    {
     "data": {
      "image/png": "[encoded data removed]",
      "text/plain": [
       "<Figure size 1152x576 with 1 Axes>"
      ]
     },
     "metadata": {
      "needs_background": "light"
     },
     "output_type": "display_data"
    }
   ],
   "source": [
    "# Построение ROC кривой\n",
    "fpr, tpr, thresholds = roc_curve(y_train, model_rf.predict_proba(x_train_ord)[:,1])\n",
    "plt.figure()\n",
    "plt.plot(fpr, tpr, label='Random Forest (area = %0.2f)' % scores_rf['test_roc_auc'].mean())\n",
    "plt.plot([0, 1], [0, 1],'r--')\n",
    "plt.xlim([0.0, 1.0])\n",
    "plt.ylim([0.0, 1.05])\n",
    "plt.xlabel('False Positive Rate', fontsize=14)\n",
    "plt.ylabel('True Positive Rate', fontsize=14)\n",
    "plt.title('ROC кривая', fontsize=16)\n",
    "plt.legend(loc=\"lower right\", fontsize=14)\n",
    "plt.show()"
   ]
  },
  {
   "cell_type": "markdown",
   "id": "3a6e10bd",
   "metadata": {},
   "source": [
    "### Бустинговая модель"
   ]
  },
  {
   "cell_type": "code",
   "execution_count": null,
   "id": "2d5eaf40",
   "metadata": {
    "scrolled": true
   },
   "outputs": [],
   "source": [
    "model = CatBoostClassifier(loss_function='Logloss', cat_features=cat_cols)\n",
    "\n",
    "grid = {'iterations': [100, 200, 300, 400, 500, 800, 1000],\n",
    "        'learning_rate': [0.1, 0.3, 0.5, 0.7, 0.9],\n",
    "        'depth': [2, 4, 6, 8, 10]}\n",
    "\n",
    "grid_search_result = model.randomized_search(grid,\n",
    "                                       X=x_train,\n",
    "                                       y=y_train,\n",
    "                                       cv=2,\n",
    "                                       verbose = False)\n",
    "                                       #plot=False)\n"
   ]
  },
  {
   "cell_type": "code",
   "execution_count": null,
   "id": "2bfcbb5d",
   "metadata": {
    "scrolled": true
   },
   "outputs": [],
   "source": [
    "# Обучение модели с лучшими гиперпараметрами \n",
    "\n",
    "best_params = grid_search_result['params']\n",
    "model_cb = CatBoostClassifier(loss_function='Logloss',\n",
    "                              depth=best_params['depth'],\n",
    "                              iterations=best_params['iterations'],\n",
    "                              learning_rate=best_params['learning_rate'],\n",
    "                              )\n",
    "\n",
    "model_cb.fit(x_train, y_train, eval_set=(x_test,y_test), cat_features=cat_cols, verbose=False)"
   ]
  },
  {
   "cell_type": "code",
   "execution_count": null,
   "id": "48245e91",
   "metadata": {
    "scrolled": true
   },
   "outputs": [],
   "source": [
    "# Кросс-валидация катбуст\n",
    "\n",
    "params = {\n",
    "    'loss_function': 'Logloss',\n",
    "    'iterations': best_params['iterations'],\n",
    "    'custom_loss': ['AUC', 'F1', 'Accuracy'],\n",
    "    'random_seed': 67,\n",
    "    'learning_rate': best_params['learning_rate'],\n",
    "    'depth': best_params['depth']\n",
    "}\n",
    "\n",
    "cv_data = cv(\n",
    "    params=params,\n",
    "    pool=Pool(x_train, label=y_train, cat_features=cat_cols),\n",
    "    fold_count=5,\n",
    "    shuffle=True, \n",
    "    partition_random_seed=67,\n",
    "    plot=True, \n",
    "    stratified=True, \n",
    "    verbose=False\n",
    ")"
   ]
  },
  {
   "cell_type": "code",
   "execution_count": null,
   "id": "2fa92daf",
   "metadata": {},
   "outputs": [],
   "source": [
    "# Построение ROC кривой\n",
    "fpr, tpr, thresholds = roc_curve(y_train, model_cb.predict_proba(x_train)[:, 1])\n",
    "plt.figure()\n",
    "plt.plot(fpr, tpr, label='CatBoost (area = %0.2f)' % cv_data['test-AUC-mean'].mean())\n",
    "plt.plot([0, 1], [0, 1],'r--')\n",
    "plt.xlim([0.0, 1.0])\n",
    "plt.ylim([0.0, 1.05])\n",
    "plt.xlabel('False Positive Rate', fontsize=14)\n",
    "plt.ylabel('True Positive Rate', fontsize=14)\n",
    "plt.title('ROC кривая', fontsize=16)\n",
    "plt.legend(loc=\"lower right\", fontsize=14)\n",
    "plt.show()"
   ]
  },
  {
   "cell_type": "markdown",
   "id": "3a3ad05c",
   "metadata": {},
   "source": [
    "### Сравнительная таблица"
   ]
  },
  {
   "cell_type": "code",
   "execution_count": null,
   "id": "9b3162c0",
   "metadata": {},
   "outputs": [],
   "source": [
    "table = {\"Модель логистической регрессии\": pd.Series([scores_lr['test_f1'].mean(), scores_lr['test_accuracy'].mean(), scores_lr['test_roc_auc'].mean()] , index=['F1', 'Accuracy', 'Roc-Auc']),\n",
    "        'Модель случайного леса': pd.Series([scores_rf['test_f1'].mean(), scores_rf['test_accuracy'].mean(), scores_rf['test_roc_auc'].mean()], index=['F1', 'Accuracy', 'Roc-Auc']),\n",
    "        'Модель бустинга': pd.Series([cv_data['test-F1-mean'].mean(), cv_data['test-Accuracy-mean'].mean(), cv_data['test-AUC-mean'].mean()], index=['F1', 'Accuracy', 'Roc-Auc'])}\n",
    "table = pd.DataFrame(table)\n",
    "table"
   ]
  },
  {
   "cell_type": "markdown",
   "id": "411013ab",
   "metadata": {},
   "source": [
    "### Вывод\n",
    "\n",
    "Модель бустинга выигрывает по всем матрикам качества у других моделей.\n",
    "\n",
    "Модель логистической регрессии оказалась слабее остальных моделей. \n",
    "\n",
    "В общем и целом, данные модели, конечно, лучше чем dummy модель будут предсказывать вероятность вины в ДТП, но все же назвать приемлемой в практических целях, на мой взгляд, ни одну из них нельзя.\n",
    "\n",
    "**Лучшей моделью из созданных, является бустинговая модель**"
   ]
  },
  {
   "cell_type": "markdown",
   "id": "bfa0dca5",
   "metadata": {},
   "source": [
    "## Проверка лучшей модели"
   ]
  },
  {
   "cell_type": "code",
   "execution_count": null,
   "id": "31269e13",
   "metadata": {},
   "outputs": [],
   "source": [
    "# Проверка метрик лучшей модели на тесте\n",
    "\n",
    "preds = model_cb.predict(x_test)\n",
    "f1_cb = f1_score(y_test, preds)\n",
    "accuracy_cb = accuracy_score(y_test, preds)\n",
    "cb_roc_auc = roc_auc_score(y_test, model_cb.predict_proba(x_test)[:, 1])\n",
    "print(f'F1 на тесте: {f1_cb}')\n",
    "print(f'Accuracy на тесте: {accuracy_cb}')\n",
    "print(f'Roc_Auc на тесте: {cb_roc_auc}')"
   ]
  },
  {
   "cell_type": "markdown",
   "id": "b1347f8d",
   "metadata": {},
   "source": [
    "### Матрица ошибок"
   ]
  },
  {
   "cell_type": "code",
   "execution_count": null,
   "id": "1eb1d78e",
   "metadata": {},
   "outputs": [],
   "source": [
    "plot_confusion_matrix(model_cb, x_test, y_test)  \n",
    "plt.show()"
   ]
  },
  {
   "cell_type": "code",
   "execution_count": null,
   "id": "a471ca2c",
   "metadata": {},
   "outputs": [],
   "source": [
    "print(f'Полнота: {recall_score(y_test, preds)}')\n",
    "print(f'Точность: {precision_score(y_test, preds)}')"
   ]
  },
  {
   "cell_type": "code",
   "execution_count": null,
   "id": "80e4d60e",
   "metadata": {},
   "outputs": [],
   "source": [
    "# Построение ROC кривой\n",
    "fpr, tpr, thresholds = roc_curve(y_test, model_cb.predict_proba(x_test)[:,1])\n",
    "plt.figure()\n",
    "plt.plot(fpr, tpr, label='Random Forest (area = %0.2f)' % cb_roc_auc)\n",
    "plt.plot([0, 1], [0, 1],'r--')\n",
    "plt.xlim([0.0, 1.0])\n",
    "plt.ylim([0.0, 1.05])\n",
    "plt.xlabel('False Positive Rate', fontsize=14)\n",
    "plt.ylabel('True Positive Rate', fontsize=14)\n",
    "plt.title('ROC кривая', fontsize=16)\n",
    "plt.legend(loc=\"lower right\", fontsize=14)\n",
    "plt.show()"
   ]
  },
  {
   "cell_type": "markdown",
   "id": "63cd8d76",
   "metadata": {},
   "source": [
    "### Анализ важности факторов"
   ]
  },
  {
   "cell_type": "code",
   "execution_count": null,
   "id": "993d8dd5",
   "metadata": {},
   "outputs": [],
   "source": [
    "# Вывод топ-5 важных фичей на основе построенной модели\n",
    "\n",
    "importances = model_cb.feature_importances_\n",
    "\n",
    "feature_list = list(x_train.columns)\n",
    "\n",
    "feature_results = pd.DataFrame({'Признак': feature_list,'Важность': importances})\n",
    "\n",
    "feature_results = feature_results.sort_values('Важность',ascending = False).reset_index(drop=True)\n",
    "\n",
    "feature_results[:5]"
   ]
  },
  {
   "cell_type": "markdown",
   "id": "420e1a2b",
   "metadata": {},
   "source": [
    "Наиболее важные признаки (в порядке убывания важности):\n",
    "\n",
    "- Трезвость участника\n",
    "- Сумма страховки\n",
    "- Освещение\n",
    "- Возраст авто\n",
    "- Дорожное покрытие"
   ]
  },
  {
   "cell_type": "markdown",
   "id": "a78848fd",
   "metadata": {},
   "source": [
    "### Графики зависимости значимых факторов и целевой переменной"
   ]
  },
  {
   "cell_type": "markdown",
   "id": "63106570",
   "metadata": {},
   "source": [
    "#### Сумма страховки и виновности"
   ]
  },
  {
   "cell_type": "code",
   "execution_count": null,
   "id": "bb43e5e7",
   "metadata": {},
   "outputs": [],
   "source": [
    "sns.scatterplot(x=df.index, y=df['insurance_premium'], hue = df['at_fault'])\n",
    "plt.ylabel('Сумма страховки', fontsize=14)\n",
    "plt.title('Точечный график зависимости виновности и суммы страховки', fontsize=16)\n",
    "plt.show()"
   ]
  },
  {
   "cell_type": "markdown",
   "id": "9e0ab1fe",
   "metadata": {},
   "source": [
    "Каких-то однозначных выводов по нему сделать не получится. Попробуем посчитать среднюю сумму страховки для каждого класса"
   ]
  },
  {
   "cell_type": "code",
   "execution_count": null,
   "id": "d9373ad2",
   "metadata": {},
   "outputs": [],
   "source": [
    "df.groupby('at_fault')['insurance_premium'].mean().plot(kind='bar')\n",
    "plt.xticks(rotation='horizontal')\n",
    "plt.xlabel('Метки классов', fontsize=14)\n",
    "plt.ylabel('Средняя сумма страховки', fontsize=14)\n",
    "plt.title('Столбчатая диаграмма средних значений суммы страховки для каждого класса', fontsize=16)\n",
    "plt.show()"
   ]
  },
  {
   "cell_type": "markdown",
   "id": "9b7206f3",
   "metadata": {},
   "source": [
    "Средняя сумма страховки у виновных в происшествии немного ниже, похоже модель считает, что чем выше сумма страховки, тем ниже вероятность быть виновным в ДТП. В общем, это логично, поскольку для снижения суммы страховки нужна аккуратная езда (без аварий)"
   ]
  },
  {
   "cell_type": "markdown",
   "id": "07633fe8",
   "metadata": {},
   "source": [
    "#### Уровень трезвости водителя и виновность"
   ]
  },
  {
   "cell_type": "code",
   "execution_count": null,
   "id": "db574f04",
   "metadata": {},
   "outputs": [],
   "source": [
    "sns.histplot(data=df, x=\"party_sobriety\", binwidth=0.1, hue=\"at_fault\")\n",
    "plt.xticks(rotation=45)\n",
    "plt.title('Столбчатая диаграмма количества виновных/невиновных в зависимости от уровня трезвости', fontsize=16)\n",
    "plt.xlabel('Уровень трезвости', fontsize=14)\n",
    "plt.ylabel('Количество ДТП', fontsize=16)\n",
    "plt.show()"
   ]
  },
  {
   "cell_type": "markdown",
   "id": "5813509b",
   "metadata": {},
   "source": [
    "Среди не пивших водителей больше невиновных (на несколько тысяч), при этом среди тех, кто был пьян, под влиянием - практически все виновны в ДТП. В целом похоже на правду\n",
    "\n",
    "Для учета этого фактора необходимо внедрить в каршеринговые автомобили обязательное прохождение алкотестера"
   ]
  },
  {
   "cell_type": "markdown",
   "id": "0c12fd42",
   "metadata": {},
   "source": [
    "## Вывод"
   ]
  },
  {
   "cell_type": "markdown",
   "id": "5b113681",
   "metadata": {},
   "source": [
    "Лучшей моделью была выявлена **бустинговая модель Catboost**. Получившиеся метрики качества модели:\n",
    "- **F1** - 0.57\n",
    "- **Accuracy** - 0.63\n",
    "- **Roc-Auc** - 0.68\n",
    "- **Recall** - 0.49\n",
    "- **Precision** - 0.69\n",
    "\n",
    "Наиболее важными факторами, на основе модели были выделены `трезвость участника` (в нетрезвом виде гораздо больше было виновных чем невиновных) и `сумма страховки`. Чем она выше, тем ниже вероятность виновности водителя, поскольку сумма страховки зависит от различных факторов, таких как стаж вождения, возраст водителя, наличие/отсутствие аварий за год и др., то можно предположить, что водители с высокой суммой страховки стараются быть более аккуратными на дороге. Из этого вытекает вывод о правильно выявленной закономерности со стороны модели.\n",
    "\n",
    "Конечно в данном виде модель нельзя назвать удовлетворительной, с задачей классификации риска для водителя стать виновник дтп она справляется лучше случайной модели, но все еще недостаточно хорошо. \n",
    "\n",
    "На мой взгляд, систему можно улучшить если собрать дополнительную информацию о водителях, к примеру:\n",
    "- Водительский стаж\n",
    "- Возраст водителя\n",
    "- Семейное положение\n",
    "- Необходимо дополнить признак состояния участника: (физическое или с учётом принятых лекарств) сейчас слишком много пропусков\n",
    "- Возможно информация об уровне пробок по выбранному маршруту тоже может быть полезной"
   ]
  }
 ],
 "metadata": {
  "ExecuteTimeLog": [
   {
    "duration": 1819,
    "start_time": "2022-08-18T18:02:54.078Z"
   },
   {
    "duration": 14520,
    "start_time": "2022-08-18T18:02:55.899Z"
   },
   {
    "duration": 70,
    "start_time": "2022-08-18T18:03:10.422Z"
   },
   {
    "duration": 385,
    "start_time": "2022-08-18T18:03:10.494Z"
   },
   {
    "duration": 373,
    "start_time": "2022-08-18T18:03:10.880Z"
   },
   {
    "duration": 1305,
    "start_time": "2022-08-18T18:03:11.255Z"
   },
   {
    "duration": 417,
    "start_time": "2022-08-18T18:03:12.562Z"
   },
   {
    "duration": 565,
    "start_time": "2022-08-18T18:03:12.981Z"
   },
   {
    "duration": 387,
    "start_time": "2022-08-18T18:03:13.548Z"
   },
   {
    "duration": 23845,
    "start_time": "2022-08-18T18:03:13.937Z"
   },
   {
    "duration": 10,
    "start_time": "2022-08-18T18:03:37.783Z"
   },
   {
    "duration": 37,
    "start_time": "2022-08-18T18:03:37.795Z"
   },
   {
    "duration": 73,
    "start_time": "2022-08-18T18:03:37.835Z"
   },
   {
    "duration": 146,
    "start_time": "2022-08-18T18:03:37.910Z"
   },
   {
    "duration": 128,
    "start_time": "2022-08-18T18:03:38.058Z"
   },
   {
    "duration": 70,
    "start_time": "2022-08-18T18:03:38.192Z"
   },
   {
    "duration": 151,
    "start_time": "2022-08-18T18:03:38.264Z"
   },
   {
    "duration": 21,
    "start_time": "2022-08-18T18:03:38.416Z"
   },
   {
    "duration": 62,
    "start_time": "2022-08-18T18:03:38.439Z"
   },
   {
    "duration": 182,
    "start_time": "2022-08-18T18:03:38.502Z"
   },
   {
    "duration": 51,
    "start_time": "2022-08-18T18:03:38.686Z"
   },
   {
    "duration": 960,
    "start_time": "2022-08-18T18:03:38.739Z"
   },
   {
    "duration": 45,
    "start_time": "2022-08-18T18:03:39.701Z"
   },
   {
    "duration": 100,
    "start_time": "2022-08-18T18:03:39.748Z"
   },
   {
    "duration": 104,
    "start_time": "2022-08-18T18:03:39.851Z"
   },
   {
    "duration": 4,
    "start_time": "2022-08-18T18:03:39.957Z"
   },
   {
    "duration": 64,
    "start_time": "2022-08-18T18:03:39.964Z"
   },
   {
    "duration": 33,
    "start_time": "2022-08-18T18:03:40.034Z"
   },
   {
    "duration": 25,
    "start_time": "2022-08-18T18:03:40.069Z"
   },
   {
    "duration": 244,
    "start_time": "2022-08-18T18:03:40.096Z"
   },
   {
    "duration": 355,
    "start_time": "2022-08-18T18:03:40.342Z"
   },
   {
    "duration": 162,
    "start_time": "2022-08-18T18:03:40.699Z"
   },
   {
    "duration": 6,
    "start_time": "2022-08-18T18:03:40.863Z"
   },
   {
    "duration": 22,
    "start_time": "2022-08-18T18:03:40.871Z"
   },
   {
    "duration": 26,
    "start_time": "2022-08-18T18:03:40.895Z"
   },
   {
    "duration": 270,
    "start_time": "2022-08-18T18:03:40.923Z"
   },
   {
    "duration": 145,
    "start_time": "2022-08-18T18:03:41.194Z"
   },
   {
    "duration": 5,
    "start_time": "2022-08-18T18:03:41.340Z"
   },
   {
    "duration": 7,
    "start_time": "2022-08-18T18:03:41.347Z"
   },
   {
    "duration": 39,
    "start_time": "2022-08-18T18:03:41.356Z"
   },
   {
    "duration": 23,
    "start_time": "2022-08-18T18:03:41.397Z"
   },
   {
    "duration": 244,
    "start_time": "2022-08-18T18:03:41.423Z"
   },
   {
    "duration": 29,
    "start_time": "2022-08-18T18:03:41.669Z"
   },
   {
    "duration": 199,
    "start_time": "2022-08-18T18:03:41.700Z"
   },
   {
    "duration": 9,
    "start_time": "2022-08-18T18:03:41.901Z"
   },
   {
    "duration": 40,
    "start_time": "2022-08-18T18:03:41.912Z"
   },
   {
    "duration": 291,
    "start_time": "2022-08-18T18:03:41.954Z"
   },
   {
    "duration": 189,
    "start_time": "2022-08-18T18:03:42.247Z"
   },
   {
    "duration": 22,
    "start_time": "2022-08-18T18:03:42.438Z"
   },
   {
    "duration": 224,
    "start_time": "2022-08-18T18:03:42.462Z"
   },
   {
    "duration": 1190,
    "start_time": "2022-08-18T18:03:42.688Z"
   },
   {
    "duration": 78,
    "start_time": "2022-08-18T18:03:43.879Z"
   },
   {
    "duration": 101,
    "start_time": "2022-08-18T18:03:43.959Z"
   },
   {
    "duration": 5,
    "start_time": "2022-08-18T18:03:44.061Z"
   },
   {
    "duration": 96,
    "start_time": "2022-08-18T18:03:44.068Z"
   },
   {
    "duration": 183,
    "start_time": "2022-08-18T18:03:44.165Z"
   },
   {
    "duration": 125,
    "start_time": "2022-08-18T18:03:44.350Z"
   },
   {
    "duration": 5,
    "start_time": "2022-08-18T18:03:44.476Z"
   },
   {
    "duration": 4,
    "start_time": "2022-08-18T18:03:44.491Z"
   },
   {
    "duration": 7,
    "start_time": "2022-08-18T18:03:44.497Z"
   },
   {
    "duration": 7,
    "start_time": "2022-08-18T18:03:44.506Z"
   },
   {
    "duration": 8,
    "start_time": "2022-08-18T18:03:44.515Z"
   },
   {
    "duration": 53716,
    "start_time": "2022-08-18T18:03:44.524Z"
   },
   {
    "duration": 3,
    "start_time": "2022-08-18T18:04:38.242Z"
   },
   {
    "duration": 1546,
    "start_time": "2022-08-18T18:04:38.247Z"
   },
   {
    "duration": 507,
    "start_time": "2022-08-18T18:04:39.795Z"
   },
   {
    "duration": 191732,
    "start_time": "2022-08-18T18:04:40.303Z"
   },
   {
    "duration": 4,
    "start_time": "2022-08-18T18:07:52.037Z"
   },
   {
    "duration": 3311,
    "start_time": "2022-08-18T18:07:52.043Z"
   },
   {
    "duration": 653,
    "start_time": "2022-08-18T18:07:55.356Z"
   },
   {
    "duration": 283587,
    "start_time": "2022-08-18T18:07:56.011Z"
   },
   {
    "duration": 41358,
    "start_time": "2022-08-18T18:12:39.600Z"
   },
   {
    "duration": 293,
    "start_time": "2022-08-18T18:13:20.960Z"
   },
   {
    "duration": 12,
    "start_time": "2022-08-18T18:13:21.255Z"
   },
   {
    "duration": 481,
    "start_time": "2022-08-18T18:13:21.270Z"
   },
   {
    "duration": 510,
    "start_time": "2022-08-18T18:13:21.754Z"
   },
   {
    "duration": 26,
    "start_time": "2022-08-18T18:13:22.266Z"
   },
   {
    "duration": 432,
    "start_time": "2022-08-18T18:13:22.293Z"
   },
   {
    "duration": 27,
    "start_time": "2022-08-18T18:13:22.727Z"
   },
   {
    "duration": 1365,
    "start_time": "2022-08-18T18:13:22.756Z"
   },
   {
    "duration": 201,
    "start_time": "2022-08-18T18:13:24.122Z"
   },
   {
    "duration": 367,
    "start_time": "2022-08-18T18:13:24.328Z"
   },
   {
    "duration": 18,
    "start_time": "2022-08-18T18:49:07.974Z"
   }
  ],
  "kernelspec": {
   "display_name": "Python 3",
   "language": "python",
   "name": "python3"
  },
  "toc": {
   "base_numbering": 1,
   "nav_menu": {},
   "number_sections": false,
   "sideBar": true,
   "skip_h1_title": false,
   "title_cell": "Table of Contents",
   "title_sidebar": "Contents",
   "toc_cell": false,
   "toc_position": {
    "height": "calc(100% - 180px)",
    "left": "10px",
    "top": "150px",
    "width": "194.59375px"
   },
   "toc_section_display": true,
   "toc_window_display": true
  },
  "varInspector": {
   "cols": {
    "lenName": 16,
    "lenType": 16,
    "lenVar": 40
   },
   "kernels_config": {
    "python": {
     "delete_cmd_postfix": "",
     "delete_cmd_prefix": "del ",
     "library": "var_list.py",
     "varRefreshCmd": "print(var_dic_list())"
    },
    "r": {
     "delete_cmd_postfix": ") ",
     "delete_cmd_prefix": "rm(",
     "library": "var_list.r",
     "varRefreshCmd": "cat(var_dic_list()) "
    }
   },
   "types_to_exclude": [
    "module",
    "function",
    "builtin_function_or_method",
    "instance",
    "_Feature"
   ],
   "window_display": false
  }
 },
 "nbformat": 4,
 "nbformat_minor": 5
}
