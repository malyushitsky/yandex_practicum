{
 "cells": [
  {
   "cell_type": "markdown",
   "id": "51e0590c",
   "metadata": {
    "id": "GEqQaHzsZ_bA"
   },
   "source": [
    "## Предсказание стоимости жилья\n",
    "\n",
    "В проекте вам нужно обучить модель линейной регрессии на данных о жилье в Калифорнии в 1990 году. На основе данных нужно предсказать медианную стоимость дома в жилом массиве. Обучите модель и сделайте предсказания на тестовой выборке. "
   ]
  },
  {
   "cell_type": "code",
   "execution_count": 1,
   "id": "c506c577",
   "metadata": {},
   "outputs": [],
   "source": [
    "# Подключение библиотек\n",
    "\n",
    "import pandas as pd\n",
    "import numpy as np\n",
    "\n",
    "import pyspark\n",
    "from pyspark.sql import SparkSession\n",
    "from pyspark.sql.types import *\n",
    "import pyspark.sql.functions as F\n",
    "\n",
    "from pyspark.ml.feature import StringIndexer, VectorAssembler, StandardScaler\n",
    "from pyspark.ml.classification import LogisticRegression\n",
    "from pyspark.ml.regression import LinearRegression\n",
    "from pyspark.ml.evaluation import RegressionEvaluator\n",
    "\n",
    "pyspark_version = pyspark.__version__\n",
    "if int(pyspark_version[:1]) == 3:\n",
    "    from pyspark.ml.feature import OneHotEncoder    \n",
    "elif int(pyspark_version[:1]) == 2:\n",
    "    from pyspark.ml.feature import OneHotEncodeEstimator\n",
    "        \n",
    "RANDOM_SEED = 2022"
   ]
  },
  {
   "cell_type": "code",
   "execution_count": 2,
   "id": "85c583a5",
   "metadata": {},
   "outputs": [],
   "source": [
    "# Инициализация локальной spark-сессии\n",
    "spark = SparkSession.builder \\\n",
    "                    .master(\"local\") \\\n",
    "                    .appName(\"housing\") \\\n",
    "                    .getOrCreate()"
   ]
  },
  {
   "cell_type": "code",
   "execution_count": 3,
   "id": "cf061831",
   "metadata": {},
   "outputs": [],
   "source": [
    "# Чтение файла housing.csv\n",
    "\n",
    "try:\n",
    "    df = spark.read.option('header', 'true').csv('housing.csv', inferSchema = True)\n",
    "except:\n",
    "    df = spark.read.option('header', 'true').csv('/datasets/housing.csv', inferSchema = True)"
   ]
  },
  {
   "cell_type": "code",
   "execution_count": 4,
   "id": "4585f5b6",
   "metadata": {},
   "outputs": [
    {
     "name": "stdout",
     "output_type": "stream",
     "text": [
      "+---------+--------+------------------+-----------+--------------+----------+----------+-------------+------------------+---------------+\n",
      "|longitude|latitude|housing_median_age|total_rooms|total_bedrooms|population|households|median_income|median_house_value|ocean_proximity|\n",
      "+---------+--------+------------------+-----------+--------------+----------+----------+-------------+------------------+---------------+\n",
      "|  -122.23|   37.88|              41.0|      880.0|         129.0|     322.0|     126.0|       8.3252|          452600.0|       NEAR BAY|\n",
      "|  -122.22|   37.86|              21.0|     7099.0|        1106.0|    2401.0|    1138.0|       8.3014|          358500.0|       NEAR BAY|\n",
      "|  -122.24|   37.85|              52.0|     1467.0|         190.0|     496.0|     177.0|       7.2574|          352100.0|       NEAR BAY|\n",
      "|  -122.25|   37.85|              52.0|     1274.0|         235.0|     558.0|     219.0|       5.6431|          341300.0|       NEAR BAY|\n",
      "|  -122.25|   37.85|              52.0|     1627.0|         280.0|     565.0|     259.0|       3.8462|          342200.0|       NEAR BAY|\n",
      "+---------+--------+------------------+-----------+--------------+----------+----------+-------------+------------------+---------------+\n",
      "only showing top 5 rows\n",
      "\n"
     ]
    }
   ],
   "source": [
    "# Вывод первых 5 строк датасета\n",
    "df.show(5)"
   ]
  },
  {
   "cell_type": "code",
   "execution_count": 5,
   "id": "7bcc3921",
   "metadata": {},
   "outputs": [
    {
     "name": "stdout",
     "output_type": "stream",
     "text": [
      "root\n",
      " |-- longitude: double (nullable = true)\n",
      " |-- latitude: double (nullable = true)\n",
      " |-- housing_median_age: double (nullable = true)\n",
      " |-- total_rooms: double (nullable = true)\n",
      " |-- total_bedrooms: double (nullable = true)\n",
      " |-- population: double (nullable = true)\n",
      " |-- households: double (nullable = true)\n",
      " |-- median_income: double (nullable = true)\n",
      " |-- median_house_value: double (nullable = true)\n",
      " |-- ocean_proximity: string (nullable = true)\n",
      "\n"
     ]
    }
   ],
   "source": [
    "# Типы данных колонок с помощью метода Pyspark\n",
    "df.printSchema()"
   ]
  },
  {
   "cell_type": "markdown",
   "id": "b083c61f",
   "metadata": {
    "id": "53871372"
   },
   "source": [
    "## Подготовка данных"
   ]
  },
  {
   "cell_type": "code",
   "execution_count": 6,
   "id": "dd508d95",
   "metadata": {},
   "outputs": [],
   "source": [
    "# разделение столбцов на 3 категории\n",
    "categorical_cols = ['ocean_proximity']\n",
    "numerical_cols  = df.columns\n",
    "numerical_cols.remove('ocean_proximity')\n",
    "numerical_cols.remove('median_house_value')\n",
    "target = 'median_house_value'"
   ]
  },
  {
   "cell_type": "code",
   "execution_count": 7,
   "id": "107ed7cc",
   "metadata": {},
   "outputs": [
    {
     "data": {
      "text/plain": [
       "['longitude',\n",
       " 'latitude',\n",
       " 'housing_median_age',\n",
       " 'total_rooms',\n",
       " 'total_bedrooms',\n",
       " 'population',\n",
       " 'households',\n",
       " 'median_income']"
      ]
     },
     "execution_count": 7,
     "metadata": {},
     "output_type": "execute_result"
    }
   ],
   "source": [
    "numerical_cols"
   ]
  },
  {
   "cell_type": "code",
   "execution_count": 8,
   "id": "aaf86921",
   "metadata": {
    "id": "df92e3ec"
   },
   "outputs": [
    {
     "data": {
      "text/plain": [
       "20640"
      ]
     },
     "execution_count": 8,
     "metadata": {},
     "output_type": "execute_result"
    }
   ],
   "source": [
    "# Количество строк датасета\n",
    "df.count()"
   ]
  },
  {
   "cell_type": "code",
   "execution_count": 9,
   "id": "27dccac9",
   "metadata": {},
   "outputs": [
    {
     "data": {
      "text/html": [
       "<div>\n",
       "<style scoped>\n",
       "    .dataframe tbody tr th:only-of-type {\n",
       "        vertical-align: middle;\n",
       "    }\n",
       "\n",
       "    .dataframe tbody tr th {\n",
       "        vertical-align: top;\n",
       "    }\n",
       "\n",
       "    .dataframe thead th {\n",
       "        text-align: right;\n",
       "    }\n",
       "</style>\n",
       "<table border=\"1\" class=\"dataframe\">\n",
       "  <thead>\n",
       "    <tr style=\"text-align: right;\">\n",
       "      <th></th>\n",
       "      <th>summary</th>\n",
       "      <th>longitude</th>\n",
       "      <th>latitude</th>\n",
       "      <th>housing_median_age</th>\n",
       "      <th>total_rooms</th>\n",
       "      <th>total_bedrooms</th>\n",
       "      <th>population</th>\n",
       "      <th>households</th>\n",
       "      <th>median_income</th>\n",
       "      <th>median_house_value</th>\n",
       "      <th>ocean_proximity</th>\n",
       "    </tr>\n",
       "  </thead>\n",
       "  <tbody>\n",
       "    <tr>\n",
       "      <td>0</td>\n",
       "      <td>count</td>\n",
       "      <td>20640</td>\n",
       "      <td>20640</td>\n",
       "      <td>20640</td>\n",
       "      <td>20640</td>\n",
       "      <td>20433</td>\n",
       "      <td>20640</td>\n",
       "      <td>20640</td>\n",
       "      <td>20640</td>\n",
       "      <td>20640</td>\n",
       "      <td>20640</td>\n",
       "    </tr>\n",
       "    <tr>\n",
       "      <td>1</td>\n",
       "      <td>mean</td>\n",
       "      <td>-119.56970445736148</td>\n",
       "      <td>35.6318614341087</td>\n",
       "      <td>28.639486434108527</td>\n",
       "      <td>2635.7630813953488</td>\n",
       "      <td>537.8705525375618</td>\n",
       "      <td>1425.4767441860465</td>\n",
       "      <td>499.5396802325581</td>\n",
       "      <td>3.8706710029070246</td>\n",
       "      <td>206855.81690891474</td>\n",
       "      <td>None</td>\n",
       "    </tr>\n",
       "    <tr>\n",
       "      <td>2</td>\n",
       "      <td>stddev</td>\n",
       "      <td>2.003531723502584</td>\n",
       "      <td>2.135952397457101</td>\n",
       "      <td>12.58555761211163</td>\n",
       "      <td>2181.6152515827944</td>\n",
       "      <td>421.38507007403115</td>\n",
       "      <td>1132.46212176534</td>\n",
       "      <td>382.3297528316098</td>\n",
       "      <td>1.899821717945263</td>\n",
       "      <td>115395.61587441359</td>\n",
       "      <td>None</td>\n",
       "    </tr>\n",
       "    <tr>\n",
       "      <td>3</td>\n",
       "      <td>min</td>\n",
       "      <td>-124.35</td>\n",
       "      <td>32.54</td>\n",
       "      <td>1.0</td>\n",
       "      <td>2.0</td>\n",
       "      <td>1.0</td>\n",
       "      <td>3.0</td>\n",
       "      <td>1.0</td>\n",
       "      <td>0.4999</td>\n",
       "      <td>14999.0</td>\n",
       "      <td>&lt;1H OCEAN</td>\n",
       "    </tr>\n",
       "    <tr>\n",
       "      <td>4</td>\n",
       "      <td>max</td>\n",
       "      <td>-114.31</td>\n",
       "      <td>41.95</td>\n",
       "      <td>52.0</td>\n",
       "      <td>39320.0</td>\n",
       "      <td>6445.0</td>\n",
       "      <td>35682.0</td>\n",
       "      <td>6082.0</td>\n",
       "      <td>15.0001</td>\n",
       "      <td>500001.0</td>\n",
       "      <td>NEAR OCEAN</td>\n",
       "    </tr>\n",
       "  </tbody>\n",
       "</table>\n",
       "</div>"
      ],
      "text/plain": [
       "  summary            longitude           latitude  housing_median_age  \\\n",
       "0   count                20640              20640               20640   \n",
       "1    mean  -119.56970445736148   35.6318614341087  28.639486434108527   \n",
       "2  stddev    2.003531723502584  2.135952397457101   12.58555761211163   \n",
       "3     min              -124.35              32.54                 1.0   \n",
       "4     max              -114.31              41.95                52.0   \n",
       "\n",
       "          total_rooms      total_bedrooms          population  \\\n",
       "0               20640               20433               20640   \n",
       "1  2635.7630813953488   537.8705525375618  1425.4767441860465   \n",
       "2  2181.6152515827944  421.38507007403115    1132.46212176534   \n",
       "3                 2.0                 1.0                 3.0   \n",
       "4             39320.0              6445.0             35682.0   \n",
       "\n",
       "          households       median_income  median_house_value ocean_proximity  \n",
       "0              20640               20640               20640           20640  \n",
       "1  499.5396802325581  3.8706710029070246  206855.81690891474            None  \n",
       "2  382.3297528316098   1.899821717945263  115395.61587441359            None  \n",
       "3                1.0              0.4999             14999.0       <1H OCEAN  \n",
       "4             6082.0             15.0001            500001.0      NEAR OCEAN  "
      ]
     },
     "execution_count": 9,
     "metadata": {},
     "output_type": "execute_result"
    }
   ],
   "source": [
    "df.describe().toPandas()"
   ]
  },
  {
   "cell_type": "markdown",
   "id": "14f8b9cb",
   "metadata": {},
   "source": [
    "Пропуски есть только в колонке с количеством спален, заполним пропуски медианным значением"
   ]
  },
  {
   "cell_type": "code",
   "execution_count": 10,
   "id": "ba0696c8",
   "metadata": {},
   "outputs": [],
   "source": [
    "# Найдем медиану по количеству спален\n",
    "median = df.select('total_bedrooms').toPandas().median()[0]"
   ]
  },
  {
   "cell_type": "code",
   "execution_count": 11,
   "id": "fab8876e",
   "metadata": {},
   "outputs": [
    {
     "data": {
      "text/plain": [
       "435.0"
      ]
     },
     "execution_count": 11,
     "metadata": {},
     "output_type": "execute_result"
    }
   ],
   "source": [
    "median"
   ]
  },
  {
   "cell_type": "code",
   "execution_count": 12,
   "id": "aa5033c4",
   "metadata": {},
   "outputs": [],
   "source": [
    "df = df.na.fill({'total_bedrooms': median})"
   ]
  },
  {
   "cell_type": "code",
   "execution_count": 13,
   "id": "69f5cf6f",
   "metadata": {},
   "outputs": [
    {
     "data": {
      "text/html": [
       "<div>\n",
       "<style scoped>\n",
       "    .dataframe tbody tr th:only-of-type {\n",
       "        vertical-align: middle;\n",
       "    }\n",
       "\n",
       "    .dataframe tbody tr th {\n",
       "        vertical-align: top;\n",
       "    }\n",
       "\n",
       "    .dataframe thead th {\n",
       "        text-align: right;\n",
       "    }\n",
       "</style>\n",
       "<table border=\"1\" class=\"dataframe\">\n",
       "  <thead>\n",
       "    <tr style=\"text-align: right;\">\n",
       "      <th></th>\n",
       "      <th>summary</th>\n",
       "      <th>longitude</th>\n",
       "      <th>latitude</th>\n",
       "      <th>housing_median_age</th>\n",
       "      <th>total_rooms</th>\n",
       "      <th>total_bedrooms</th>\n",
       "      <th>population</th>\n",
       "      <th>households</th>\n",
       "      <th>median_income</th>\n",
       "      <th>median_house_value</th>\n",
       "      <th>ocean_proximity</th>\n",
       "    </tr>\n",
       "  </thead>\n",
       "  <tbody>\n",
       "    <tr>\n",
       "      <td>0</td>\n",
       "      <td>count</td>\n",
       "      <td>20640</td>\n",
       "      <td>20640</td>\n",
       "      <td>20640</td>\n",
       "      <td>20640</td>\n",
       "      <td>20640</td>\n",
       "      <td>20640</td>\n",
       "      <td>20640</td>\n",
       "      <td>20640</td>\n",
       "      <td>20640</td>\n",
       "      <td>20640</td>\n",
       "    </tr>\n",
       "    <tr>\n",
       "      <td>1</td>\n",
       "      <td>mean</td>\n",
       "      <td>-119.56970445736148</td>\n",
       "      <td>35.6318614341087</td>\n",
       "      <td>28.639486434108527</td>\n",
       "      <td>2635.7630813953488</td>\n",
       "      <td>536.8388565891473</td>\n",
       "      <td>1425.4767441860465</td>\n",
       "      <td>499.5396802325581</td>\n",
       "      <td>3.8706710029070246</td>\n",
       "      <td>206855.81690891474</td>\n",
       "      <td>None</td>\n",
       "    </tr>\n",
       "    <tr>\n",
       "      <td>2</td>\n",
       "      <td>stddev</td>\n",
       "      <td>2.003531723502584</td>\n",
       "      <td>2.135952397457101</td>\n",
       "      <td>12.58555761211163</td>\n",
       "      <td>2181.6152515827944</td>\n",
       "      <td>419.39187792168866</td>\n",
       "      <td>1132.46212176534</td>\n",
       "      <td>382.3297528316098</td>\n",
       "      <td>1.899821717945263</td>\n",
       "      <td>115395.61587441359</td>\n",
       "      <td>None</td>\n",
       "    </tr>\n",
       "    <tr>\n",
       "      <td>3</td>\n",
       "      <td>min</td>\n",
       "      <td>-124.35</td>\n",
       "      <td>32.54</td>\n",
       "      <td>1.0</td>\n",
       "      <td>2.0</td>\n",
       "      <td>1.0</td>\n",
       "      <td>3.0</td>\n",
       "      <td>1.0</td>\n",
       "      <td>0.4999</td>\n",
       "      <td>14999.0</td>\n",
       "      <td>&lt;1H OCEAN</td>\n",
       "    </tr>\n",
       "    <tr>\n",
       "      <td>4</td>\n",
       "      <td>max</td>\n",
       "      <td>-114.31</td>\n",
       "      <td>41.95</td>\n",
       "      <td>52.0</td>\n",
       "      <td>39320.0</td>\n",
       "      <td>6445.0</td>\n",
       "      <td>35682.0</td>\n",
       "      <td>6082.0</td>\n",
       "      <td>15.0001</td>\n",
       "      <td>500001.0</td>\n",
       "      <td>NEAR OCEAN</td>\n",
       "    </tr>\n",
       "  </tbody>\n",
       "</table>\n",
       "</div>"
      ],
      "text/plain": [
       "  summary            longitude           latitude  housing_median_age  \\\n",
       "0   count                20640              20640               20640   \n",
       "1    mean  -119.56970445736148   35.6318614341087  28.639486434108527   \n",
       "2  stddev    2.003531723502584  2.135952397457101   12.58555761211163   \n",
       "3     min              -124.35              32.54                 1.0   \n",
       "4     max              -114.31              41.95                52.0   \n",
       "\n",
       "          total_rooms      total_bedrooms          population  \\\n",
       "0               20640               20640               20640   \n",
       "1  2635.7630813953488   536.8388565891473  1425.4767441860465   \n",
       "2  2181.6152515827944  419.39187792168866    1132.46212176534   \n",
       "3                 2.0                 1.0                 3.0   \n",
       "4             39320.0              6445.0             35682.0   \n",
       "\n",
       "          households       median_income  median_house_value ocean_proximity  \n",
       "0              20640               20640               20640           20640  \n",
       "1  499.5396802325581  3.8706710029070246  206855.81690891474            None  \n",
       "2  382.3297528316098   1.899821717945263  115395.61587441359            None  \n",
       "3                1.0              0.4999             14999.0       <1H OCEAN  \n",
       "4             6082.0             15.0001            500001.0      NEAR OCEAN  "
      ]
     },
     "execution_count": 13,
     "metadata": {},
     "output_type": "execute_result"
    }
   ],
   "source": [
    "df.describe().toPandas()"
   ]
  },
  {
   "cell_type": "code",
   "execution_count": 14,
   "id": "81718bfa",
   "metadata": {},
   "outputs": [
    {
     "data": {
      "text/html": [
       "<div>\n",
       "<style scoped>\n",
       "    .dataframe tbody tr th:only-of-type {\n",
       "        vertical-align: middle;\n",
       "    }\n",
       "\n",
       "    .dataframe tbody tr th {\n",
       "        vertical-align: top;\n",
       "    }\n",
       "\n",
       "    .dataframe thead th {\n",
       "        text-align: right;\n",
       "    }\n",
       "</style>\n",
       "<table border=\"1\" class=\"dataframe\">\n",
       "  <thead>\n",
       "    <tr style=\"text-align: right;\">\n",
       "      <th></th>\n",
       "      <th>ocean_proximity</th>\n",
       "    </tr>\n",
       "  </thead>\n",
       "  <tbody>\n",
       "    <tr>\n",
       "      <td>0</td>\n",
       "      <td>ISLAND</td>\n",
       "    </tr>\n",
       "    <tr>\n",
       "      <td>1</td>\n",
       "      <td>NEAR OCEAN</td>\n",
       "    </tr>\n",
       "    <tr>\n",
       "      <td>2</td>\n",
       "      <td>NEAR BAY</td>\n",
       "    </tr>\n",
       "    <tr>\n",
       "      <td>3</td>\n",
       "      <td>&lt;1H OCEAN</td>\n",
       "    </tr>\n",
       "    <tr>\n",
       "      <td>4</td>\n",
       "      <td>INLAND</td>\n",
       "    </tr>\n",
       "  </tbody>\n",
       "</table>\n",
       "</div>"
      ],
      "text/plain": [
       "  ocean_proximity\n",
       "0          ISLAND\n",
       "1      NEAR OCEAN\n",
       "2        NEAR BAY\n",
       "3       <1H OCEAN\n",
       "4          INLAND"
      ]
     },
     "execution_count": 14,
     "metadata": {},
     "output_type": "execute_result"
    }
   ],
   "source": [
    "# Проверка того, какие значения принимает единственный категориальный столбец - близость к океану\n",
    "df.select('ocean_proximity').distinct().toPandas()"
   ]
  },
  {
   "cell_type": "markdown",
   "id": "7c600bfb",
   "metadata": {},
   "source": [
    "Трансформируем данный признак\n"
   ]
  },
  {
   "cell_type": "code",
   "execution_count": 15,
   "id": "88177fe5",
   "metadata": {},
   "outputs": [
    {
     "name": "stdout",
     "output_type": "stream",
     "text": [
      "+---------------+-------------------+\n",
      "|ocean_proximity|ocean_proximity_idx|\n",
      "+---------------+-------------------+\n",
      "|       NEAR BAY|                3.0|\n",
      "|       NEAR BAY|                3.0|\n",
      "|       NEAR BAY|                3.0|\n",
      "|       NEAR BAY|                3.0|\n",
      "|       NEAR BAY|                3.0|\n",
      "+---------------+-------------------+\n",
      "only showing top 5 rows\n",
      "\n"
     ]
    }
   ],
   "source": [
    "# Трансформация категориального признака с помощью трансформера StringIndexer\n",
    "\n",
    "indexer = StringIndexer(inputCols=categorical_cols, \n",
    "                        outputCols=[c+'_idx' for c in categorical_cols]) \n",
    "\n",
    "df = indexer.fit(df).transform(df)\n",
    "\n",
    "cols = [c for c in df.columns for i in categorical_cols if (c.startswith(i))]\n",
    "df.select(cols).show(5)"
   ]
  },
  {
   "cell_type": "code",
   "execution_count": 16,
   "id": "415e4b1a",
   "metadata": {},
   "outputs": [
    {
     "name": "stdout",
     "output_type": "stream",
     "text": [
      "+---------------+-------------------+-------------------+\n",
      "|ocean_proximity|ocean_proximity_idx|ocean_proximity_ohe|\n",
      "+---------------+-------------------+-------------------+\n",
      "|       NEAR BAY|                3.0|      (4,[3],[1.0])|\n",
      "|       NEAR BAY|                3.0|      (4,[3],[1.0])|\n",
      "|       NEAR BAY|                3.0|      (4,[3],[1.0])|\n",
      "|       NEAR BAY|                3.0|      (4,[3],[1.0])|\n",
      "|       NEAR BAY|                3.0|      (4,[3],[1.0])|\n",
      "+---------------+-------------------+-------------------+\n",
      "only showing top 5 rows\n",
      "\n"
     ]
    }
   ],
   "source": [
    "# OHE кодирование\n",
    "\n",
    "encoder = OneHotEncoder(inputCols=[c+'_idx' for c in categorical_cols],\n",
    "                        outputCols=[c+'_ohe' for c in categorical_cols])\n",
    "\n",
    "df = encoder.fit(df).transform(df)\n",
    "\n",
    "cols = [c for c in df.columns for i in categorical_cols if (c.startswith(i))]\n",
    "df.select(cols).show(5)"
   ]
  },
  {
   "cell_type": "code",
   "execution_count": 17,
   "id": "c0279c60",
   "metadata": {},
   "outputs": [],
   "source": [
    "# Создание единого вектора категорий\n",
    "categorical_assembler = \\\n",
    "        VectorAssembler(inputCols=[c+'_ohe' for c in categorical_cols],\n",
    "                                        outputCol=\"categorical_features\")\n",
    "df = categorical_assembler.transform(df)"
   ]
  },
  {
   "cell_type": "markdown",
   "id": "3d32311b",
   "metadata": {},
   "source": [
    "Далее необходимо провести трансформацию числовых признаков"
   ]
  },
  {
   "cell_type": "code",
   "execution_count": 18,
   "id": "2eb8eafd",
   "metadata": {},
   "outputs": [],
   "source": [
    "# Создание вектора объединенных числовых признаков\n",
    "\n",
    "numerical_assembler = VectorAssembler(inputCols=numerical_cols,\n",
    "                                      outputCol=\"numerical_features\")\n",
    "\n",
    "df = numerical_assembler.transform(df)"
   ]
  },
  {
   "cell_type": "code",
   "execution_count": 19,
   "id": "e146e604",
   "metadata": {},
   "outputs": [],
   "source": [
    "# Стандартизация числовых признаков\n",
    "\n",
    "standardScaler = StandardScaler(inputCol='numerical_features',\n",
    "                                outputCol=\"numerical_features_scaled\")\n",
    "\n",
    "df = standardScaler.fit(df).transform(df)"
   ]
  },
  {
   "cell_type": "code",
   "execution_count": 20,
   "id": "8fb5393e",
   "metadata": {
    "scrolled": true
   },
   "outputs": [
    {
     "name": "stdout",
     "output_type": "stream",
     "text": [
      "+--------------------+-------------------------+\n",
      "|categorical_features|numerical_features_scaled|\n",
      "+--------------------+-------------------------+\n",
      "|       (4,[3],[1.0])|     [-61.007269596069...|\n",
      "|       (4,[3],[1.0])|     [-61.002278409814...|\n",
      "|       (4,[3],[1.0])|     [-61.012260782324...|\n",
      "|       (4,[3],[1.0])|     [-61.017251968579...|\n",
      "|       (4,[3],[1.0])|     [-61.017251968579...|\n",
      "+--------------------+-------------------------+\n",
      "only showing top 5 rows\n",
      "\n"
     ]
    }
   ],
   "source": [
    "# Объединение трансформированных категорийных признаков и числовых\n",
    "\n",
    "all_features = ['categorical_features','numerical_features_scaled']\n",
    "\n",
    "final_assembler = VectorAssembler(inputCols=all_features, \n",
    "                                  outputCol=\"features\") \n",
    "df = final_assembler.transform(df)\n",
    "\n",
    "df.select(all_features).show(5)"
   ]
  },
  {
   "cell_type": "markdown",
   "id": "96afdfba",
   "metadata": {},
   "source": [
    "## Разделение на выборки"
   ]
  },
  {
   "cell_type": "code",
   "execution_count": 21,
   "id": "96bed148",
   "metadata": {},
   "outputs": [
    {
     "name": "stdout",
     "output_type": "stream",
     "text": [
      "16418 4222\n"
     ]
    }
   ],
   "source": [
    "# Деление выборки в соответствии 80 на 20\n",
    "\n",
    "train_data, test_data = df.randomSplit([.8,.2], seed=RANDOM_SEED)\n",
    "print(train_data.count(), test_data.count())"
   ]
  },
  {
   "cell_type": "markdown",
   "id": "82fe6f59",
   "metadata": {
    "id": "9f0a82f3"
   },
   "source": [
    "## Обучение моделей"
   ]
  },
  {
   "cell_type": "markdown",
   "id": "f1ddb60d",
   "metadata": {
    "id": "bddb08c4"
   },
   "source": [
    "Построение модели линейной регрессии на всех данных"
   ]
  },
  {
   "cell_type": "code",
   "execution_count": 22,
   "id": "7228c93f",
   "metadata": {
    "scrolled": false
   },
   "outputs": [],
   "source": [
    "# Обучение модели линейной регрессии на всех данных\n",
    "\n",
    "lr_full = LinearRegression(labelCol=target, featuresCol='features')\n",
    "model_full = lr_full.fit(train_data)"
   ]
  },
  {
   "cell_type": "code",
   "execution_count": 23,
   "id": "a4173215",
   "metadata": {},
   "outputs": [
    {
     "name": "stdout",
     "output_type": "stream",
     "text": [
      "+------------------+------------------+\n",
      "|median_house_value|        prediction|\n",
      "+------------------+------------------+\n",
      "|          103600.0| 152990.3849449535|\n",
      "|           50800.0| 214967.4326647101|\n",
      "|           58100.0|142714.18373001367|\n",
      "|           68400.0|132483.04401091905|\n",
      "|           72200.0|   164098.87269447|\n",
      "+------------------+------------------+\n",
      "only showing top 5 rows\n",
      "\n"
     ]
    }
   ],
   "source": [
    "# Вывод реальных значений и предсказанных моделью\n",
    "\n",
    "predictions_full = model_full.transform(test_data)\n",
    "\n",
    "predicted_full = predictions_full.select(\"median_house_value\", \"prediction\")\n",
    "predicted_full.show(5)"
   ]
  },
  {
   "cell_type": "markdown",
   "id": "8a02c506",
   "metadata": {},
   "source": [
    "Далее обучим модель на числовых данных, исключив столбец с категориями"
   ]
  },
  {
   "cell_type": "code",
   "execution_count": 24,
   "id": "2317d70b",
   "metadata": {},
   "outputs": [],
   "source": [
    "# Обучение модели линейной регрессии\n",
    "\n",
    "lr_part = LinearRegression(labelCol=target, featuresCol='numerical_features_scaled')\n",
    "model_part = lr_part.fit(train_data)"
   ]
  },
  {
   "cell_type": "code",
   "execution_count": 25,
   "id": "d2a06114",
   "metadata": {},
   "outputs": [
    {
     "name": "stdout",
     "output_type": "stream",
     "text": [
      "+------------------+------------------+\n",
      "|median_house_value|        prediction|\n",
      "+------------------+------------------+\n",
      "|          103600.0| 101397.0241272091|\n",
      "|           50800.0| 183325.8939412092|\n",
      "|           58100.0|109609.16753687244|\n",
      "|           68400.0| 80433.62265761895|\n",
      "|           72200.0|129998.26626995392|\n",
      "+------------------+------------------+\n",
      "only showing top 5 rows\n",
      "\n"
     ]
    }
   ],
   "source": [
    "# Вывод реальных значений и предсказанных моделью\n",
    "\n",
    "predictions_part = model_part.transform(test_data)\n",
    "\n",
    "predicted_part = predictions_part.select(\"median_house_value\", \"prediction\")\n",
    "predicted_part.show(5)"
   ]
  },
  {
   "cell_type": "markdown",
   "id": "9899c75a",
   "metadata": {},
   "source": [
    "Дальше посчитаем метрики качества моделей (RMSE, MAE, R2) для сравнения моделей"
   ]
  },
  {
   "cell_type": "code",
   "execution_count": 26,
   "id": "81e617b0",
   "metadata": {},
   "outputs": [],
   "source": [
    "evaluator_rmse = RegressionEvaluator(labelCol=\"median_house_value\",\n",
    "                                predictionCol=\"prediction\",\n",
    "                                metricName=\"rmse\")\n",
    "\n",
    "evaluator_mae = RegressionEvaluator(labelCol=\"median_house_value\",\n",
    "                                predictionCol=\"prediction\",\n",
    "                                metricName=\"mae\")\n",
    "\n",
    "evaluator_r2 = RegressionEvaluator(labelCol=\"median_house_value\",\n",
    "                                predictionCol=\"prediction\",\n",
    "                                metricName=\"r2\")\n",
    "\n",
    "\n",
    "rmse_full = evaluator_rmse.evaluate(predictions_full)\n",
    "rmse_part = evaluator_rmse.evaluate(predictions_part)\n",
    "\n",
    "mae_full = evaluator_mae.evaluate(predictions_full)\n",
    "mae_part = evaluator_mae.evaluate(predictions_part)\n",
    "\n",
    "r2_full = evaluator_r2.evaluate(predictions_full)\n",
    "r2_part = evaluator_r2.evaluate(predictions_part)"
   ]
  },
  {
   "cell_type": "code",
   "execution_count": 27,
   "id": "a6331954",
   "metadata": {},
   "outputs": [
    {
     "data": {
      "text/html": [
       "<div>\n",
       "<style scoped>\n",
       "    .dataframe tbody tr th:only-of-type {\n",
       "        vertical-align: middle;\n",
       "    }\n",
       "\n",
       "    .dataframe tbody tr th {\n",
       "        vertical-align: top;\n",
       "    }\n",
       "\n",
       "    .dataframe thead th {\n",
       "        text-align: right;\n",
       "    }\n",
       "</style>\n",
       "<table border=\"1\" class=\"dataframe\">\n",
       "  <thead>\n",
       "    <tr style=\"text-align: right;\">\n",
       "      <th></th>\n",
       "      <th>RMSE</th>\n",
       "      <th>MAE</th>\n",
       "      <th>R2</th>\n",
       "    </tr>\n",
       "  </thead>\n",
       "  <tbody>\n",
       "    <tr>\n",
       "      <td>Модель, обученная на всех данных</td>\n",
       "      <td>68486.730006</td>\n",
       "      <td>49867.047677</td>\n",
       "      <td>0.653558</td>\n",
       "    </tr>\n",
       "    <tr>\n",
       "      <td>Модель, обученная только на числовых переменных</td>\n",
       "      <td>69212.861253</td>\n",
       "      <td>50866.559773</td>\n",
       "      <td>0.646173</td>\n",
       "    </tr>\n",
       "  </tbody>\n",
       "</table>\n",
       "</div>"
      ],
      "text/plain": [
       "                                                         RMSE           MAE  \\\n",
       "Модель, обученная на всех данных                 68486.730006  49867.047677   \n",
       "Модель, обученная только на числовых переменных  69212.861253  50866.559773   \n",
       "\n",
       "                                                       R2  \n",
       "Модель, обученная на всех данных                 0.653558  \n",
       "Модель, обученная только на числовых переменных  0.646173  "
      ]
     },
     "execution_count": 27,
     "metadata": {},
     "output_type": "execute_result"
    }
   ],
   "source": [
    "table = {\"RMSE\": pd.Series([rmse_full, rmse_part] , index=['Модель, обученная на всех данных', 'Модель, обученная только на числовых переменных']),\n",
    "        'MAE': pd.Series([mae_full, mae_part], index=['Модель, обученная на всех данных', 'Модель, обученная только на числовых переменных']),\n",
    "        'R2': pd.Series([r2_full, r2_part], index=['Модель, обученная на всех данных', 'Модель, обученная только на числовых переменных'])}\n",
    "table = pd.DataFrame(table)\n",
    "table"
   ]
  },
  {
   "cell_type": "markdown",
   "id": "83f474b9",
   "metadata": {
    "id": "757fd103"
   },
   "source": [
    "## Анализ результатов"
   ]
  },
  {
   "cell_type": "markdown",
   "id": "5e199b8d",
   "metadata": {},
   "source": [
    "Отклонения прогнозируемых значений от реальных в обоих моделях достаточно велики, именно поэтому метрики RMSE и MAE оказались настолько высокими. По сравнениям двух моделей видно, что категориальный столбец все же является значимым и помогает модели немного лучше предсказывать значения медианной стоимости дома. Коэффициент детерминации - это показатель качества модели, который показывает долю дисперсии зависимой переменной, объясняемой рассматриваемой моделью, соответственно чем она выше, тем модель лучше. Модель обученная на всех данных слегка лучше второй модели,  однако если оценивать модели в общем и целом, то они обе не особо надежные, возможно следовало бы добавить еще какие-то факторы для улучшения модели "
   ]
  }
 ],
 "metadata": {
  "ExecuteTimeLog": [
   {
    "duration": 42,
    "start_time": "2022-03-31T01:22:51.278Z"
   },
   {
    "duration": 442,
    "start_time": "2022-03-31T01:22:57.324Z"
   },
   {
    "duration": 14215,
    "start_time": "2022-03-31T01:22:57.767Z"
   },
   {
    "duration": 7596,
    "start_time": "2022-03-31T01:23:11.985Z"
   },
   {
    "duration": 721,
    "start_time": "2022-03-31T01:23:19.583Z"
   },
   {
    "duration": 87,
    "start_time": "2022-03-31T01:23:20.306Z"
   },
   {
    "duration": 25,
    "start_time": "2022-03-31T01:23:20.395Z"
   },
   {
    "duration": 84,
    "start_time": "2022-03-31T01:23:20.421Z"
   },
   {
    "duration": 9,
    "start_time": "2022-03-31T01:23:36.426Z"
   },
   {
    "duration": 3,
    "start_time": "2022-03-31T01:23:58.844Z"
   },
   {
    "duration": 7,
    "start_time": "2022-03-31T01:24:05.035Z"
   },
   {
    "duration": 0,
    "start_time": "2022-03-31T01:24:05.043Z"
   },
   {
    "duration": 0,
    "start_time": "2022-03-31T01:24:05.045Z"
   },
   {
    "duration": 0,
    "start_time": "2022-03-31T01:24:05.046Z"
   },
   {
    "duration": 0,
    "start_time": "2022-03-31T01:24:05.047Z"
   },
   {
    "duration": 0,
    "start_time": "2022-03-31T01:24:05.047Z"
   },
   {
    "duration": 0,
    "start_time": "2022-03-31T01:24:05.049Z"
   },
   {
    "duration": 4666,
    "start_time": "2022-03-31T01:24:05.051Z"
   },
   {
    "duration": 1855,
    "start_time": "2022-03-31T01:24:09.781Z"
   },
   {
    "duration": 843,
    "start_time": "2022-03-31T01:24:11.638Z"
   },
   {
    "duration": 98,
    "start_time": "2022-03-31T01:24:12.483Z"
   },
   {
    "duration": 31,
    "start_time": "2022-03-31T01:24:12.584Z"
   },
   {
    "duration": 873,
    "start_time": "2022-03-31T01:24:12.616Z"
   },
   {
    "duration": 0,
    "start_time": "2022-03-31T01:24:13.491Z"
   },
   {
    "duration": 0,
    "start_time": "2022-03-31T01:24:13.492Z"
   },
   {
    "duration": 0,
    "start_time": "2022-03-31T01:24:13.493Z"
   },
   {
    "duration": 0,
    "start_time": "2022-03-31T01:24:13.494Z"
   },
   {
    "duration": 0,
    "start_time": "2022-03-31T01:24:13.495Z"
   },
   {
    "duration": 0,
    "start_time": "2022-03-31T01:24:13.496Z"
   },
   {
    "duration": 0,
    "start_time": "2022-03-31T01:24:13.497Z"
   },
   {
    "duration": 0,
    "start_time": "2022-03-31T01:24:13.498Z"
   },
   {
    "duration": 4,
    "start_time": "2022-03-31T01:25:08.092Z"
   },
   {
    "duration": 8,
    "start_time": "2022-03-31T01:25:15.776Z"
   },
   {
    "duration": 0,
    "start_time": "2022-03-31T01:25:15.787Z"
   },
   {
    "duration": 0,
    "start_time": "2022-03-31T01:25:15.788Z"
   },
   {
    "duration": 0,
    "start_time": "2022-03-31T01:25:15.790Z"
   },
   {
    "duration": 0,
    "start_time": "2022-03-31T01:25:15.791Z"
   },
   {
    "duration": 0,
    "start_time": "2022-03-31T01:25:15.793Z"
   },
   {
    "duration": 0,
    "start_time": "2022-03-31T01:25:15.794Z"
   },
   {
    "duration": 0,
    "start_time": "2022-03-31T01:25:15.796Z"
   },
   {
    "duration": 0,
    "start_time": "2022-03-31T01:25:15.797Z"
   },
   {
    "duration": 0,
    "start_time": "2022-03-31T01:25:15.798Z"
   },
   {
    "duration": 232,
    "start_time": "2022-03-31T01:25:15.802Z"
   },
   {
    "duration": 0,
    "start_time": "2022-03-31T01:25:16.035Z"
   },
   {
    "duration": 0,
    "start_time": "2022-03-31T01:25:16.037Z"
   },
   {
    "duration": 0,
    "start_time": "2022-03-31T01:25:16.038Z"
   },
   {
    "duration": 0,
    "start_time": "2022-03-31T01:25:16.039Z"
   },
   {
    "duration": 0,
    "start_time": "2022-03-31T01:25:16.040Z"
   },
   {
    "duration": 0,
    "start_time": "2022-03-31T01:25:16.041Z"
   },
   {
    "duration": 0,
    "start_time": "2022-03-31T01:25:16.045Z"
   },
   {
    "duration": 0,
    "start_time": "2022-03-31T01:25:16.046Z"
   },
   {
    "duration": 0,
    "start_time": "2022-03-31T01:25:16.047Z"
   },
   {
    "duration": 0,
    "start_time": "2022-03-31T01:25:16.049Z"
   },
   {
    "duration": 295,
    "start_time": "2022-03-31T01:25:29.627Z"
   },
   {
    "duration": 2808,
    "start_time": "2022-03-31T01:25:30.804Z"
   },
   {
    "duration": 393,
    "start_time": "2022-03-31T01:25:35.198Z"
   },
   {
    "duration": 3,
    "start_time": "2022-03-31T01:25:36.246Z"
   },
   {
    "duration": 25,
    "start_time": "2022-03-31T01:25:37.960Z"
   },
   {
    "duration": 1701,
    "start_time": "2022-03-31T01:25:38.504Z"
   },
   {
    "duration": 2388,
    "start_time": "2022-03-31T01:25:40.207Z"
   },
   {
    "duration": 215,
    "start_time": "2022-03-31T01:25:45.075Z"
   },
   {
    "duration": 480,
    "start_time": "2022-03-31T01:26:17.303Z"
   },
   {
    "duration": 14435,
    "start_time": "2022-03-31T01:26:17.785Z"
   },
   {
    "duration": 7383,
    "start_time": "2022-03-31T01:26:32.223Z"
   },
   {
    "duration": 588,
    "start_time": "2022-03-31T01:26:39.608Z"
   },
   {
    "duration": 10,
    "start_time": "2022-03-31T01:26:40.198Z"
   },
   {
    "duration": 140,
    "start_time": "2022-03-31T01:26:40.210Z"
   },
   {
    "duration": 0,
    "start_time": "2022-03-31T01:26:40.354Z"
   },
   {
    "duration": 0,
    "start_time": "2022-03-31T01:26:40.355Z"
   },
   {
    "duration": 0,
    "start_time": "2022-03-31T01:26:40.356Z"
   },
   {
    "duration": 0,
    "start_time": "2022-03-31T01:26:40.357Z"
   },
   {
    "duration": 0,
    "start_time": "2022-03-31T01:26:40.358Z"
   },
   {
    "duration": 0,
    "start_time": "2022-03-31T01:26:40.359Z"
   },
   {
    "duration": 0,
    "start_time": "2022-03-31T01:26:40.360Z"
   },
   {
    "duration": 0,
    "start_time": "2022-03-31T01:26:40.361Z"
   },
   {
    "duration": 0,
    "start_time": "2022-03-31T01:26:40.361Z"
   },
   {
    "duration": 0,
    "start_time": "2022-03-31T01:26:40.362Z"
   },
   {
    "duration": 0,
    "start_time": "2022-03-31T01:26:40.363Z"
   },
   {
    "duration": 0,
    "start_time": "2022-03-31T01:26:40.381Z"
   },
   {
    "duration": 0,
    "start_time": "2022-03-31T01:26:40.382Z"
   },
   {
    "duration": 1,
    "start_time": "2022-03-31T01:26:40.382Z"
   },
   {
    "duration": 0,
    "start_time": "2022-03-31T01:26:40.384Z"
   },
   {
    "duration": 0,
    "start_time": "2022-03-31T01:26:40.385Z"
   },
   {
    "duration": 0,
    "start_time": "2022-03-31T01:26:40.385Z"
   },
   {
    "duration": 0,
    "start_time": "2022-03-31T01:26:40.386Z"
   },
   {
    "duration": 0,
    "start_time": "2022-03-31T01:26:40.388Z"
   },
   {
    "duration": 0,
    "start_time": "2022-03-31T01:26:40.388Z"
   },
   {
    "duration": 0,
    "start_time": "2022-03-31T01:26:40.389Z"
   },
   {
    "duration": 467,
    "start_time": "2022-03-31T01:27:42.610Z"
   },
   {
    "duration": 13945,
    "start_time": "2022-03-31T01:27:43.080Z"
   },
   {
    "duration": 7274,
    "start_time": "2022-03-31T01:27:57.027Z"
   },
   {
    "duration": 601,
    "start_time": "2022-03-31T01:28:04.303Z"
   },
   {
    "duration": 81,
    "start_time": "2022-03-31T01:28:04.906Z"
   },
   {
    "duration": 22,
    "start_time": "2022-03-31T01:28:04.989Z"
   },
   {
    "duration": 8,
    "start_time": "2022-03-31T01:28:05.013Z"
   },
   {
    "duration": 899,
    "start_time": "2022-03-31T01:28:05.022Z"
   },
   {
    "duration": 3473,
    "start_time": "2022-03-31T01:28:05.923Z"
   },
   {
    "duration": 595,
    "start_time": "2022-03-31T01:28:09.399Z"
   },
   {
    "duration": 3,
    "start_time": "2022-03-31T01:28:09.996Z"
   },
   {
    "duration": 96,
    "start_time": "2022-03-31T01:28:10.001Z"
   },
   {
    "duration": 1788,
    "start_time": "2022-03-31T01:28:10.099Z"
   },
   {
    "duration": 3692,
    "start_time": "2022-03-31T01:28:11.889Z"
   },
   {
    "duration": 1710,
    "start_time": "2022-03-31T01:28:15.582Z"
   },
   {
    "duration": 635,
    "start_time": "2022-03-31T01:28:17.293Z"
   },
   {
    "duration": 83,
    "start_time": "2022-03-31T01:28:17.930Z"
   },
   {
    "duration": 86,
    "start_time": "2022-03-31T01:28:18.015Z"
   },
   {
    "duration": 1092,
    "start_time": "2022-03-31T01:28:18.105Z"
   },
   {
    "duration": 397,
    "start_time": "2022-03-31T01:28:19.199Z"
   },
   {
    "duration": 3106,
    "start_time": "2022-03-31T01:28:19.598Z"
   },
   {
    "duration": 4278,
    "start_time": "2022-03-31T01:28:22.705Z"
   },
   {
    "duration": 1308,
    "start_time": "2022-03-31T01:28:26.985Z"
   },
   {
    "duration": 3002,
    "start_time": "2022-03-31T01:28:28.295Z"
   },
   {
    "duration": 881,
    "start_time": "2022-03-31T01:28:31.299Z"
   },
   {
    "duration": 4404,
    "start_time": "2022-03-31T01:28:32.182Z"
   },
   {
    "duration": 9,
    "start_time": "2022-03-31T01:28:36.588Z"
   },
   {
    "duration": 454,
    "start_time": "2022-03-31T01:29:02.211Z"
   },
   {
    "duration": 14343,
    "start_time": "2022-03-31T01:29:02.667Z"
   },
   {
    "duration": 8100,
    "start_time": "2022-03-31T01:29:17.012Z"
   },
   {
    "duration": 581,
    "start_time": "2022-03-31T01:29:25.114Z"
   },
   {
    "duration": 12,
    "start_time": "2022-03-31T01:29:25.697Z"
   },
   {
    "duration": 86,
    "start_time": "2022-03-31T01:29:25.711Z"
   },
   {
    "duration": 9,
    "start_time": "2022-03-31T01:29:25.799Z"
   },
   {
    "duration": 873,
    "start_time": "2022-03-31T01:29:25.809Z"
   },
   {
    "duration": 3237,
    "start_time": "2022-03-31T01:29:26.684Z"
   },
   {
    "duration": 520,
    "start_time": "2022-03-31T01:29:29.981Z"
   },
   {
    "duration": 3,
    "start_time": "2022-03-31T01:29:30.503Z"
   },
   {
    "duration": 93,
    "start_time": "2022-03-31T01:29:30.508Z"
   },
   {
    "duration": 2297,
    "start_time": "2022-03-31T01:29:30.602Z"
   },
   {
    "duration": 3283,
    "start_time": "2022-03-31T01:29:32.902Z"
   },
   {
    "duration": 1542,
    "start_time": "2022-03-31T01:29:36.186Z"
   },
   {
    "duration": 654,
    "start_time": "2022-03-31T01:29:37.730Z"
   },
   {
    "duration": 105,
    "start_time": "2022-03-31T01:29:38.385Z"
   },
   {
    "duration": 24,
    "start_time": "2022-03-31T01:29:38.492Z"
   },
   {
    "duration": 1164,
    "start_time": "2022-03-31T01:29:38.518Z"
   },
   {
    "duration": 323,
    "start_time": "2022-03-31T01:29:39.683Z"
   },
   {
    "duration": 3681,
    "start_time": "2022-03-31T01:29:40.008Z"
   },
   {
    "duration": 4016,
    "start_time": "2022-03-31T01:29:43.690Z"
   },
   {
    "duration": 872,
    "start_time": "2022-03-31T01:29:47.708Z"
   },
   {
    "duration": 2705,
    "start_time": "2022-03-31T01:29:48.582Z"
   },
   {
    "duration": 796,
    "start_time": "2022-03-31T01:29:51.289Z"
   },
   {
    "duration": 4000,
    "start_time": "2022-03-31T01:29:52.086Z"
   },
   {
    "duration": 12,
    "start_time": "2022-03-31T01:29:56.088Z"
   }
  ],
  "colab": {
   "name": "PySparkSprint.ipynb",
   "provenance": []
  },
  "kernelspec": {
   "display_name": "Python 3",
   "language": "python",
   "name": "python3"
  },
  "language_info": {
   "codemirror_mode": {
    "name": "ipython",
    "version": 3
   },
   "file_extension": ".py",
   "mimetype": "text/x-python",
   "name": "python",
   "nbconvert_exporter": "python",
   "pygments_lexer": "ipython3",
   "version": "3.7.10"
  },
  "toc": {
   "base_numbering": 1,
   "nav_menu": {},
   "number_sections": true,
   "sideBar": true,
   "skip_h1_title": true,
   "title_cell": "Table of Contents",
   "title_sidebar": "Contents",
   "toc_cell": false,
   "toc_position": {},
   "toc_section_display": true,
   "toc_window_display": true
  }
 },
 "nbformat": 4,
 "nbformat_minor": 5
}
